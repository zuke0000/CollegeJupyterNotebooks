{
 "cells": [
  {
   "cell_type": "code",
   "execution_count": 68,
   "id": "7c1ffbd6",
   "metadata": {},
   "outputs": [],
   "source": [
    "## note, given the test is positive the calculated chance we have the disease is = 0.19789 \n",
    "## I apologize in advance for the graph, no idea what I'm doing\n",
    "import random\n",
    "import matplotlib.pyplot as plt\n",
    "\n",
    "n = 10000\n",
    "diseaseChance = (7/1000)\n",
    "TPChance = 0.7\n",
    "FPChance = 0.02\n",
    "\n",
    "nArray = []\n",
    "TPArray = []\n",
    "FPArray = []\n",
    "\n",
    "for i in range(n):\n",
    "    haveDisease = random.randint(1,1000) <= 7\n",
    "    TPChance = (random.randint(1,10) <= 7) and (haveDisease == True)\n",
    "    FPChance = (random.randint(1,100) <= 2) and (haveDisease == False)\n",
    "    nArray.append(i)\n",
    "    TPArray.append(TPChance)\n",
    "    FPArray.append(FPChance)\n"
   ]
  },
  {
   "cell_type": "code",
   "execution_count": 58,
   "id": "8c2a276c",
   "metadata": {},
   "outputs": [
    {
     "data": {
      "text/plain": [
       "[<matplotlib.lines.Line2D at 0x1fc70f28130>]"
      ]
     },
     "execution_count": 58,
     "metadata": {},
     "output_type": "execute_result"
    },
    {
     "data": {
      "image/png": "[encoded data removed]",
      "text/plain": [
       "<Figure size 432x288 with 1 Axes>"
      ]
     },
     "metadata": {
      "needs_background": "light"
     },
     "output_type": "display_data"
    }
   ],
   "source": [
    "plt.plot(nArray, TPArray)\n",
    "plt.plot(nArray, FPArray)"
   ]
  },
  {
   "cell_type": "code",
   "execution_count": 69,
   "id": "89be5acf",
   "metadata": {},
   "outputs": [
    {
     "data": {
      "text/plain": [
       "0.1826086956521739"
      ]
     },
     "execution_count": 69,
     "metadata": {},
     "output_type": "execute_result"
    }
   ],
   "source": [
    "# Simulated true positive rate given the test is positive\n",
    "sum(TPArray) / (sum(TPArray) + sum(FPArray))"
   ]
  },
  {
   "cell_type": "code",
   "execution_count": null,
   "id": "5174a623",
   "metadata": {},
   "outputs": [],
   "source": []
  }
 ],
 "metadata": {
  "kernelspec": {
   "display_name": "Python 3 (ipykernel)",
   "language": "python",
   "name": "python3"
  },
  "language_info": {
   "codemirror_mode": {
    "name": "ipython",
    "version": 3
   },
   "file_extension": ".py",
   "mimetype": "text/x-python",
   "name": "python",
   "nbconvert_exporter": "python",
   "pygments_lexer": "ipython3",
   "version": "3.9.12"
  }
 },
 "nbformat": 4,
 "nbformat_minor": 5
}
