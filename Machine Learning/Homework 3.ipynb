{
 "cells": [
  {
   "cell_type": "markdown",
   "id": "af413915",
   "metadata": {},
   "source": [
    "## Problem 2 (a)\n"
   ]
  },
  {
   "cell_type": "code",
   "execution_count": 70,
   "id": "6e710c38",
   "metadata": {},
   "outputs": [],
   "source": [
    "import numpy as np\n",
    "# setup\n",
    "w11 = 0.5\n",
    "w12 = 0.7\n",
    "w22 = -0.3\n",
    "w13 = 0.1\n",
    "w23 = -0.8\n",
    "x = 1.0 \n",
    "y = 0.5\n",
    "def Sigmoid(number): # sigmoid = 1/(1+e^-input)\n",
    "    return (1/(1 + np.exp(-number)))"
   ]
  },
  {
   "cell_type": "code",
   "execution_count": 71,
   "id": "04191b3f",
   "metadata": {},
   "outputs": [],
   "source": [
    "a1 = x * w11\n",
    "z1 = Sigmoid(a1)\n",
    "a12, a22 = [w12*z1,w22*z1]\n",
    "z12, z22 = [Sigmoid(a12), Sigmoid(a22)]\n",
    "a3 = z12*w13 + z22*w23\n",
    "z3 = a3"
   ]
  },
  {
   "cell_type": "code",
   "execution_count": 72,
   "id": "9578d88c",
   "metadata": {},
   "outputs": [
    {
     "data": {
      "text/plain": [
       "0.09898163577188604"
      ]
     },
     "execution_count": 72,
     "metadata": {},
     "output_type": "execute_result"
    }
   ],
   "source": [
    "one = w23 # d a3 to z22\n",
    "# From online: derivative of a sigmoid w/ respect to x is: Sigmoid(x)*(1 - Sigmoid(x))\n",
    "two = Sigmoid(a22)*(1-Sigmoid(a22)) # d z22 to a22\n",
    "three = z1 # d a22 to w22\n",
    "derivative = one * two * three\n",
    "derivative_final = (z3 - y) * 1 * derivative\n",
    "derivative_final"
   ]
  },
  {
   "cell_type": "code",
   "execution_count": null,
   "id": "584ca9fa",
   "metadata": {},
   "outputs": [],
   "source": []
  }
 ],
 "metadata": {
  "kernelspec": {
   "display_name": "base",
   "language": "python",
   "name": "python3"
  },
  "language_info": {
   "codemirror_mode": {
    "name": "ipython",
    "version": 3
   },
   "file_extension": ".py",
   "mimetype": "text/x-python",
   "name": "python",
   "nbconvert_exporter": "python",
   "pygments_lexer": "ipython3",
   "version": "3.7.3"
  },
  "vscode": {
   "interpreter": {
    "hash": "6fb045e0794b49a94e0fb4df5d6e6b5607c8e635c915d714616e7ab91521d5b8"
   }
  }
 },
 "nbformat": 4,
 "nbformat_minor": 5
}
