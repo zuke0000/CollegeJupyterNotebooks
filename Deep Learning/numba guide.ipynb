{
 "cells": [
  {
   "cell_type": "markdown",
   "id": "ca236837",
   "metadata": {},
   "source": [
    "# Using numba\n",
    "It is difficult to avoid using loops when doing multi-body simulations.  However loops in python or SSSLLLLOOOOOWWWWW.  To illustrate this, let's implement matrix multiplication as a python function."
   ]
  },
  {
   "cell_type": "code",
   "execution_count": null,
   "id": "1d8edc56",
   "metadata": {},
   "outputs": [],
   "source": [
    "import numpy as np\n",
    "A = np.random.randn(100,100)\n",
    "B = np.random.randn(100,100)\n",
    "\n",
    "def matmat(A,B):\n",
    "    C = np.zeros_like(A)\n",
    "    n = A.shape[0]\n",
    "    for i in range(n):\n",
    "        for j in range(n):\n",
    "            for k in range(n):\n",
    "                C[i,k] += A[i,j]*B[j,k]\n",
    "    return C\n"
   ]
  },
  {
   "cell_type": "markdown",
   "id": "ed1a1537",
   "metadata": {},
   "source": [
    "We can time it with the special ipython command %timeit"
   ]
  },
  {
   "cell_type": "code",
   "execution_count": null,
   "id": "0f72ae86",
   "metadata": {},
   "outputs": [],
   "source": [
    "%timeit matmat(A,B)"
   ]
  },
  {
   "cell_type": "markdown",
   "id": "50e03280",
   "metadata": {},
   "source": [
    "Let's keep that number in mind.  Now let's try using the numpy built-in for matrix multiplication"
   ]
  },
  {
   "cell_type": "code",
   "execution_count": null,
   "id": "4b2e11f8",
   "metadata": {},
   "outputs": [],
   "source": [
    "%timeit np.dot(A,B)"
   ]
  },
  {
   "cell_type": "markdown",
   "id": "8bebe88d",
   "metadata": {},
   "source": [
    "That is 10000 times faster.  This is bad.  Now let's try using numba to compile our loop."
   ]
  },
  {
   "cell_type": "code",
   "execution_count": null,
   "id": "a2f9af22",
   "metadata": {},
   "outputs": [],
   "source": [
    "import numba\n",
    "@numba.jit(nopython=True)\n",
    "def matmat_numba(A,B):\n",
    "    C = np.zeros_like(A)\n",
    "    n = A.shape[0]\n",
    "    for i in range(n):\n",
    "        for j in range(n):\n",
    "            for k in range(n):\n",
    "                C[i,k] += A[i,j]*B[j,k]\n",
    "    return C"
   ]
  },
  {
   "cell_type": "code",
   "execution_count": null,
   "id": "c298854e",
   "metadata": {},
   "outputs": [],
   "source": [
    "%timeit matmat_numba(A,B)"
   ]
  },
  {
   "cell_type": "markdown",
   "id": "97e2d337",
   "metadata": {},
   "source": [
    "Still slower than the optimized C++ that numpy is running under the hood (plus numpy is using Strassen's algorithm or somthing similar to reduce the complexity), but still 500 times faster than uncompiled python.  \n",
    "\n",
    "You should employ this whenever you can!  For a little bit more depth, check out the numba tutorial: https://numba.pydata.org/numba-doc/latest/user/5minguide.html"
   ]
  },
  {
   "cell_type": "code",
   "execution_count": null,
   "id": "9527e399",
   "metadata": {},
   "outputs": [],
   "source": []
  }
 ],
 "metadata": {
  "kernelspec": {
   "display_name": "Python 3",
   "language": "python",
   "name": "python3"
  },
  "language_info": {
   "codemirror_mode": {
    "name": "ipython",
    "version": 3
   },
   "file_extension": ".py",
   "mimetype": "text/x-python",
   "name": "python",
   "nbconvert_exporter": "python",
   "pygments_lexer": "ipython3",
   "version": "3.9.7"
  },
  "vscode": {
   "interpreter": {
    "hash": "a650661774e61d96f9874435bacb8f5ef3ad5b85bb136188ae4a3eec08f04531"
   }
  }
 },
 "nbformat": 4,
 "nbformat_minor": 5
}
