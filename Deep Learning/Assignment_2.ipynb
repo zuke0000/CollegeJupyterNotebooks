{
 "cells": [
  {
   "cell_type": "markdown",
   "source": [
    "# Assignment 2 - Supervised Machine Learning Fundamentals"
   ],
   "metadata": {}
  },
  {
   "cell_type": "markdown",
   "source": [
    "## DERRICK NEMETCHEK\r\n",
    "Netid: 790819935\r\n",
    "\r\n",
    "*Names of students you worked with on this assignment*: LIST HERE IF APPLICABLE (delete if not)\r\n",
    "\r\n",
    "Note: this assignment falls under collaboration Mode 2: Individual Assignment – Collaboration Permitted. Please refer to the syllabus for additional information.\r\n",
    "\r\n",
    "Instructions for all assignments can be found [here](https://github.com/kylebradbury/ids705/blob/master/assignments/_Assignment%20Instructions.ipynb), and is also linked to from the [course syllabus](https://kylebradbury.github.io/ids705/index.html).\r\n",
    "\r\n",
    "Total points in the assignment add up to 90; an additional 10 points are allocated to presentation quality."
   ],
   "metadata": {}
  },
  {
   "cell_type": "markdown",
   "source": [
    "## Learning Objectives:\n",
    "By successfully completing this assignment you will be able to...\n",
    "- Explain the bias-variance tradeoff of supervised machine learning and the impact of model flexibility on algorithm performance\n",
    "- Perform supervised machine learning training and performance evaluation\n",
    "- Implement a k-nearest neighbors machine learning algorithm from scratch in a style similar to that of popular machine learning tools like `scikit-learn`\n",
    "- Describe how KNN classification works, the method's reliance on distance measurements, and the impact of higher dimensionality on computational speed\n",
    "- Apply regression (linear regression) and classification (KNN) supervised learning techniques to data and evaluate the performance of those methods\n",
    "- Construct simple feature transformations for improving model fit in linear models\n",
    "- Fit a `scikit-learn` supervised learning technique to training data and make predictions using it"
   ],
   "metadata": {}
  },
  {
   "cell_type": "markdown",
   "source": [
    "# Conceptual Questions on Supervised Learning"
   ],
   "metadata": {}
  },
  {
   "cell_type": "markdown",
   "source": [
    "## 1\r\n",
    "**[4 points]**\r\n",
    "For each part below, indicate whether we would generally expect the performance of a flexible statistical learning method to be *better* or *worse* than an inflexible method. Justify your answer.\r\n",
    "\r\n",
    "1. The sample size $n$ is extremely large, and the number of predictors $p$ is small.\r\n",
    "2. The number of predictors $p$ is extremely large, and the number of observations $n$ is small.\r\n",
    "3. The relationship between the predictors and response is highly non-linear.\r\n",
    "4. The variance of the error terms, i.e. $\\sigma^2 = Var(\\epsilon)$, is extremely high"
   ],
   "metadata": {}
  },
  {
   "cell_type": "markdown",
   "source": [
    "**ANSWER**"
   ],
   "metadata": {}
  },
  {
   "cell_type": "markdown",
   "source": [
    "1. Flexible will perform better because of large sample size which will prevent overtraining on data. We don't know how good the predictors are so we don't need to worry about it for now.\r\n",
    "2. Likewise a flexible model will perform worse because of the small sample size. Predictors don't matter as much as a large test set\r\n",
    "3. A flexible model will perform better because it will better fit the non-linear relationship\r\n",
    "4. A flexible model will perform worse because it may train on the high variance too much"
   ],
   "metadata": {}
  },
  {
   "cell_type": "markdown",
   "source": [
    "## 2\n",
    "**[6 points]** For each of the following, (i) explain if each scenario is a classification or regression problem AND why, (ii) indicate whether we are most interested in inference or prediction for that problem AND why, and (iii) provide the sample size $n$ and number of predictors $p$ indicated for each scenario.\n",
    "\n",
    "**(a)** We collect a set of data on the top 500 firms in the US. For each firm we record profit, number of employees, industry and the CEO salary. We are interested in understanding which factors affect CEO salary.\n",
    "\n",
    "**(b)** We are considering launching a new product and wish to know whether it will be a success or a failure. We collect data on 20 similar products that were previously launched. For each product we have recorded whether it was a success or failure, price charged for the product, marketing budget, competition price, and ten other variables.\n",
    "\n",
    "**(c)** We are interesting in predicting the % change in the US dollar in relation to the weekly changes in the world stock markets. Hence we collect weekly data for all of 2012. For each week we record the % change in the dollar, the % change in the US market, the % change in the British market, and the % change in the German market."
   ],
   "metadata": {}
  },
  {
   "cell_type": "markdown",
   "source": [
    "**ANSWER**\n"
   ],
   "metadata": {}
  },
  {
   "cell_type": "markdown",
   "source": [
    "**a)**\r\n",
    "- i. Regression as CEO salary is a quantitative feature\r\n",
    "- ii. Inference (EXPLAIN WHY)\r\n",
    "- iii. n=500 p=3. Assume record is not a feature\r\n",
    "\r\n",
    "**b)**\r\n",
    "- i. Classification as success or failure is qualitative\r\n",
    "- ii. Predictive as we are trying to predict if a new product will fail or succeed \r\n",
    "- iii. n=20, p=13. Assume success/failure is not a feature\r\n",
    "\r\n",
    "**c)**\r\n",
    "- i. Regression. % change is quantitative\r\n",
    "- ii. Predicting % change in USD compared to other markets\r\n",
    "- iii. n=52 weeks in a year, p=3. Assume % change in USD is not a feature."
   ],
   "metadata": {}
  },
  {
   "cell_type": "markdown",
   "source": [
    "# Practical Questions"
   ],
   "metadata": {}
  },
  {
   "cell_type": "markdown",
   "source": [
    "## 3\r\n",
    "**[6 points] Classification using KNN**. The table below provides a training dataset containing six observations (a.k.a. samples) ($n=6$) each with three predictors (a.k.a. features) ($p=3$), and one qualitative response variable (a.k.a. target).\r\n",
    "\r\n",
    "*Table 1. Training dataset with $n=6$ observations in $p=3$ dimensions with a categorical response, $y$*\r\n",
    "\r\n",
    "| Obs. | $x_1$ | $x_2$ | $x_3$ | $y$   |\r\n",
    "|------|-------|-------|-------|-------|\r\n",
    "| **1**| 0     | 3     | 0     | Red   |\r\n",
    "| **2**| 2     | 0     | 0     | Red   |\r\n",
    "| **3**| 0     | 1     | 3     | Red   |\r\n",
    "| **4**| 0     | 1     | 2     | Blue  |\r\n",
    "| **5**| -1    | 0     | 1     | Blue  |\r\n",
    "| **6**| 1     | 1     | 1     | Red   |\r\n",
    "\r\n",
    "We want to use the above training dataset to make a prediction, $\\hat{y}$, for an unlabeled test data observation where $x_1=x_2=x_3=0$ using $K$-nearest neighbors. You are given some code below to get you started. *Note: coding is only required for part (a), for (b)-(d) please provide your reasoning based on your answer to part (a)*.\r\n",
    "\r\n",
    "**(a)** Compute the Euclidean distance between each observation and the test point, $x_1=x_2=x_3=0$. Present your answer in a table similar in style to Table 1 with observations 1-6 as the row headers.\r\n",
    "\r\n",
    "**(b)** What is our prediction, $\\hat{y}$, when $K=1$ for the test point? Why?\r\n",
    "\r\n",
    "**(c)** What is our prediction, $\\hat{y}$, when $K=3$ for the test point? Why?\r\n",
    "\r\n",
    "**(d)** If the Bayes decision boundary (the optimal decision boundary) in this problem is highly nonlinear, then would we expect the *best* value of $K$ to be large or small? Why?"
   ],
   "metadata": {}
  },
  {
   "cell_type": "code",
   "execution_count": 8,
   "source": [
    "import numpy as np\r\n",
    "\r\n",
    "X = np.array([[ 0, 3, 0],\r\n",
    "              [ 2, 0, 0],\r\n",
    "              [ 0, 1, 3],\r\n",
    "              [ 0, 1, 2],\r\n",
    "              [-1, 0, 1],\r\n",
    "              [ 1, 1, 1]])\r\n",
    "y = np.array(['r','r','r','b','b','r'])\r\n",
    "\r\n",
    "X_test = [0,0,0]\r\n",
    "distances = []\r\n",
    "\r\n",
    "for i in range(len(X)):\r\n",
    "    distance = np.linalg.norm(X[i] - X_test)\r\n",
    "    distances.append(distance)\r\n",
    "for i in range(len(distances)):\r\n",
    "    print('distance:', round(distances[i], 2), 'classification:', y[i])\r\n"
   ],
   "outputs": [
    {
     "output_type": "stream",
     "name": "stdout",
     "text": [
      "distance: 3.0 classification: r\n",
      "distance: 2.0 classification: r\n",
      "distance: 3.16 classification: r\n",
      "distance: 2.24 classification: b\n",
      "distance: 1.41 classification: b\n",
      "distance: 1.73 classification: r\n"
     ]
    }
   ],
   "metadata": {}
  },
  {
   "cell_type": "markdown",
   "source": [
    "\r\n",
    "**ANSWER**:\r\n",
    "\r\n",
    "**a.**\r\n",
    "| Point | Distance | Classification   |\r\n",
    "|------|-------|-------|\r\n",
    "| **1**| 3.0     | r     |\r\n",
    "| **2**| 2.0     | r     |\r\n",
    "| **3**| 3.16     | r     |\r\n",
    "| **4**| 2.24     | b     |\r\n",
    "| **5**| 1.41    | b     |\r\n",
    "| **6**| 1.73     | r     |\r\n",
    "\r\n",
    "**b.**\r\n",
    "For K=1 the prediction is blue because the nearest point has a distance of 1.41 and is blue\r\n",
    "\r\n",
    "**c.**\r\n",
    "For K=3 prediction is red because the closest 3 points have 2 red and 1 blue\r\n",
    "\r\n",
    "**d.**\r\n",
    "A low value would be better. Due to the non-linear boundary, higher K values may tally points that cross the boundary and give wrong classifications.\r\n"
   ],
   "metadata": {}
  },
  {
   "cell_type": "markdown",
   "source": [
    "## 4\n",
    "**[18 points] Build your own classification algorithm**.\n",
    "\n",
    "**(a)** Build a working version of a binary KNN classifier using the skeleton code below. We'll use the `sklearn` convention that a supervised learning algorithm has the methods `fit` which trains your algorithm (for KNN that means storing the data) and `predict` which identifies the K nearest neighbors and determines the most common class among those K neighbors. *Note: Most classification algorithms typically also have a method `predict_proba` which outputs the confidence score of each prediction, but we will explore that in a later assignment.*\n",
    "\n",
    "**(b)** Load the datasets to be evaluated here. Each includes training features ($\\mathbf{X}$), and test features ($\\mathbf{y}$) for both a low dimensional dataset ($p = 2$ features/predictors) and a higher dimensional dataset ($p = 100$ features/predictors). For each of these datasets there are $n=1000$ observations of each. They can be found in the `data` subfolder in the `assignments` folder on github. Each file is labeled similar to `A2_X_train_low.csv`, which lets you know whether the dataset is of features, $X$, targets, $y$; training or testing; and low or high dimensions.\n",
    "\n",
    "**(c)** Train your classifier on first the low dimensional dataset and then the high dimensional dataset with $k=5$. Evaluate the classification performance on the corresponding test data for each of those trained models. Calculate the time it takes each model to make the predictions and the overall accuracy of those predictions for each corresponding set of test data - state each.\n",
    "\n",
    "**(d)** Compare your implementation's accuracy and computation time to the scikit learn [KNeighborsClassifier](http://scikit-learn.org/stable/modules/generated/sklearn.neighbors.KNeighborsClassifier.html) class. How do the results and speed compare to your implementation?\n",
    "\n",
    "**(e)** Some supervised learning algorithms are more computationally intensive during training than testing. What are the drawbacks of the prediction process being slow? In what cases in practice might slow testing (inference) be more problematic than slow training?"
   ],
   "metadata": {}
  },
  {
   "cell_type": "code",
   "execution_count": 27,
   "source": [
    "# imports\r\n",
    "import pandas as pd\r\n",
    "import numpy as np\r\n",
    "\r\n",
    "# Setup training data\r\n",
    "X_train_path = 'https://raw.githubusercontent.com/kylebradbury/ids705_sp2022/main/assignments/data/A2_X_train_low.csv'\r\n",
    "X_train = pd.read_csv(X_train_path, names=['Feature 1', 'Feature 2'])\r\n",
    "\r\n",
    "y_train_path = 'https://raw.githubusercontent.com/kylebradbury/ids705_sp2022/main/assignments/data/A2_y_train_low.csv'\r\n",
    "y_train = pd.read_csv(y_train_path, names=['Classification'])\r\n",
    "\r\n",
    "# Setup testing data\r\n",
    "X_test_path = 'https://raw.githubusercontent.com/kylebradbury/ids705_sp2022/main/assignments/data/A2_X_test_low.csv'\r\n",
    "X_test = pd.read_csv(X_test_path, names=['Feature 1', 'Feature 2'])\r\n",
    "y_test_path = 'https://raw.githubusercontent.com/kylebradbury/ids705_sp2022/main/assignments/data/A2_y_test_low.csv'\r\n",
    "y_test = pd.read_csv(y_test_path, names=['Classification'])\r\n"
   ],
   "outputs": [],
   "metadata": {}
  },
  {
   "cell_type": "code",
   "execution_count": 89,
   "source": [
    "# Skeleton code for part (a) to write your own kNN classifier\r\n",
    "class Knn:\r\n",
    "# k-Nearest Neighbor class object for classification training and testing\r\n",
    "    def __init__(self):\r\n",
    "        X_train = []\r\n",
    "        y_train = []\r\n",
    "        pass    \r\n",
    "    def fit(self, x, y):\r\n",
    "        # Save the training data to properties of this class\r\n",
    "        X_train = x\r\n",
    "        y_train = y\r\n",
    "        pass\r\n",
    "    def predict(self, x, k):\r\n",
    "        y_hat = [] # Variable to store the estimated class label for \r\n",
    "        # Calculate the distance from each vector in x to the training data\r\n",
    "        \r\n",
    "        \r\n",
    "        # loop through x\r\n",
    "        for i in range(len(x)):\r\n",
    "            # loop through training x\r\n",
    "            distances = []\r\n",
    "            for j in range(len(x)):\r\n",
    "                distance = np.linalg.norm(x.iloc[i] - X_train.iloc[j])\r\n",
    "                distances.append(distance)\r\n",
    "            # Get indices of k min distances\r\n",
    "            distances = np.array(distances)\r\n",
    "            ascendingDistances = np.argsort(distances)[:k]\r\n",
    "            classifications = (y_train.iloc[ascendingDistances].values)\r\n",
    "            classifications = np.array(classifications).flatten()\r\n",
    "            # get the most common classification\r\n",
    "            values, counts = np.unique(classifications, return_counts=True)\r\n",
    "            ind = np.argmax(counts)\r\n",
    "            y_hat.append((values[ind]))  # append most frequent classification\r\n",
    "        #print(\"Indices:\",descendingDistances)\r\n",
    "        #print(\"Values:\", distances[descendingDistances])\r\n",
    "        # Return the estimated targets\r\n",
    "        return y_hat\r\n",
    "\r\n",
    "# test KNN here\r\n",
    "knnClass = Knn()\r\n",
    "knnClass.fit(X_train,y_train)\r\n",
    "y_test_pred = knnClass.predict(X_test,3)\r\n",
    "\r\n",
    "# Metric of overall classification accuracy\r\n",
    "#  (a more general function, sklearn.metrics.accuracy_score, is also available)\r\n",
    "def accuracy(y,y_hat):\r\n",
    "    nvalues = len(y)\r\n",
    "    accuracy = np.sum(y == y_hat) / nvalues\r\n",
    "    return accuracy\r\n",
    "print(accuracy(np.array(y_test_pred), np.array(y_test).flatten()))"
   ],
   "outputs": [
    {
     "output_type": "stream",
     "name": "stdout",
     "text": [
      "500.0\n"
     ]
    }
   ],
   "metadata": {}
  },
  {
   "cell_type": "code",
   "execution_count": 100,
   "source": [
    "np.sum(np.array(y_test).flatten() == np.array(y_test_pred))"
   ],
   "outputs": [
    {
     "output_type": "execute_result",
     "data": {
      "text/plain": [
       "916"
      ]
     },
     "metadata": {},
     "execution_count": 100
    }
   ],
   "metadata": {}
  },
  {
   "cell_type": "code",
   "execution_count": 101,
   "source": [
    "print(accuracy(np.array(y_test_pred), np.array(y_test).flatten()))"
   ],
   "outputs": [
    {
     "output_type": "stream",
     "name": "stdout",
     "text": [
      "0.916\n"
     ]
    }
   ],
   "metadata": {}
  },
  {
   "cell_type": "markdown",
   "source": [
    "**ANSWER**:"
   ],
   "metadata": {}
  },
  {
   "cell_type": "markdown",
   "source": [
    "## 5\n",
    "**[20 points] Bias-variance tradeoff: exploring the tradeoff with a KNN classifier**. This exercise will illustrate the impact of the bias-variance tradeoff on classifier performance by investigating how model flexibility impacts classifier decision boundaries. For this problem, please us Scikit-learn's KNN implementation rather than your own implementation, as you did at the end of the last question.\n",
    "\n",
    "**(a)** Create a synthetic dataset (with both features and targets). Use the [`make_moons`](http://scikit-learn.org/stable/modules/generated/sklearn.datasets.make_moons.html#sklearn.datasets.make_moons) module with the parameter `noise=0.35` to generate 1000 random samples.\n",
    "\n",
    "**(b)** Visualize your data: scatterplot your random samples with each class in a different color.\n",
    "\n",
    "**(c)** Create 3 different data subsets by selecting 100 of the 1000 data points at random three times (with replacement). For each of these 100-sample datasets, fit three separate k-Nearest Neighbor classifiers with: $k = \\{1, 25, 50\\}$. This will result in 9 combinations (3 datasets, each with 3 trained classifiers).\n",
    "\n",
    "**(d)** For each combination of dataset and trained classifier plot the decision boundary (similar in style to Figure 2.15 from *Introduction to Statistical Learning*). This should form a 3-by-3 grid. Each column should represent a different value of $k$ and each row should represent a different dataset. \n",
    "\n",
    "**(e)** What do you notice about the difference between the rows and the columns. Which decision boundaries appear to best separate the two classes of data? Which decision boundaries vary the most as the data change?\n",
    "\n",
    "**(f)** Explain the bias-variance tradeoff using the example of the plots you made in this exercise and its implications for training supervised machine learning algorithms.\n",
    "\n",
    "Notes and tips for plotting decision boundaries (as in part d):\n",
    "- *Resource for plotting decision boundaries with meshgrid and contour: https://scikit-learn.org/stable/auto_examples/neighbors/plot_classification.html*\n",
    "- If you would like to change the colors of the background, and do not like any of the existing cmap available in matplotlib, you can make your own cmap using the 2 sets of rgb values. Sample code (replace r, g, b with respective rgb values):"
   ],
   "metadata": {}
  },
  {
   "cell_type": "markdown",
   "source": [],
   "metadata": {}
  },
  {
   "cell_type": "code",
   "execution_count": null,
   "source": [
    "from matplotlib.colors import LinearSegmentedColormap\r\n",
    "newcmp = LinearSegmentedColormap.from_list(\"new\", [(r/255, g/255, b/255), (r/255, g/255, b/255)], N=2)"
   ],
   "outputs": [],
   "metadata": {}
  },
  {
   "cell_type": "markdown",
   "source": [
    "**ANSWER**"
   ],
   "metadata": {}
  },
  {
   "cell_type": "markdown",
   "source": [
    "## 6\n",
    "**[18 points] Bias-variance trade-off II: Quantifying the tradeoff**. This exercise explores the impact of the bias-variance tradeoff on classifier performance by looking at the performance on both training and test data.\n",
    "\n",
    "Here, the value of $k$ determines how flexible our model is.\n",
    "\n",
    "**(a)** Using the function created earlier to generate random samples (using the `make_moons` function setting the `noise` parameter to 0.35), create a new set of 1000 random samples, and call this dataset your test set and the previously created dataset your training set.\n",
    "\n",
    "**(b)** Train a kNN classifier on your training set for $k = 1,2,...500$. Apply each of these trained classifiers to both your training dataset and your test dataset and plot the classification error (fraction of incorrect predictions).\n",
    "\n",
    "**(c)** What trend do you see in the results?\n",
    "\n",
    "**(d)** What values of $k$ represent high bias and which represent high variance?\n",
    "\n",
    "**(e)** What is the optimal value of $k$ and why?\n",
    "\n",
    "**(f)** In KNN classifiers, the value of k controls the flexibility of the model - what controls the flexibility of other models?"
   ],
   "metadata": {}
  },
  {
   "cell_type": "markdown",
   "source": [
    "**ANSWER**"
   ],
   "metadata": {}
  },
  {
   "cell_type": "markdown",
   "source": [
    "## 7\n",
    "**[18 points] Linear regression and nonlinear transformations**. Linear regression can be used to model nonlinear relationships when feature variables are properly transformed to represent the nonlinearities in the data. In this exercise, you're given training and test data contained in files \"A2_Q7_train.csv\" and \"A2_Q7_test.csv\" in the \"data\" folder for this assignment. Your goal is to develop a regression algorithm from the training data that performs well on the test data.\n",
    "\n",
    "*Hint: Use the scikit learn [LinearRegression](http://scikit-learn.org/stable/modules/generated/sklearn.linear_model.LinearRegression.html) module.*\n",
    "\n",
    "**(a)** Create a scatter plot of your training data.\n",
    "\n",
    "**(b)** Estimate a linear regression model ($y = a_0 + a_1 x$) for the training data and calculate both the $R^2$ value and mean square error for the fit of that model for the training data. Also provide the equation representing the estimated model (e.g. $y = a_0 + a_1 x$, but with the estimated coefficients inserted. Consider this your baseline model against which you will compare other model options. *Evaluating performance on the training data is not a measure of how well this model would generalize to unseen data. We will evaluate performance on the test data once we see our models fit the training data decently well.*  \n",
    "\n",
    "**(c)** If features can be nonlinearly transformed, a linear model may incorporate those non-linear feature transformation relationships in the training process. From looking at the scatter plot of the training data, choose a transformation of the predictor variable, $x$ that may make sense for these data. This will be a multiple regression model of the form $y = a_0 + a_1 z_1 + a_2 z_2 + \\ldots + a_n z_n$. Here $z_i$ could be any transformations of x - perhaps it's $\\frac{1}{x}$, $log(x)$, $sin(x)$, $x^k$ (where $k$ is any power of your choosing). Provide the estimated equation for this multiple regression model (e.g. if you chose your predictors to be $z_1 = x$ and $z_2 = log(x)$, your model would be of the form $y = a_0 + a_1 x + a_2 log(x)$. Also provide the $R^2$ and mean square error of the fit for the training data.\n",
    "\n",
    "**(d)** Visualize the model fit to the training data. Using both of the models you created in parts (b) and (c), plot the original data (as a scatter plot) AND the curves representing your models (each as a separate curve) from (b) and (c).\n",
    "\n",
    "**(e)** Now its time to compare your models and evaluate the generalization performance on held out test data. Using the models above from (b) an (c), apply them to the test data and estimate the $R^2$ and mean square error of the test dataset.\n",
    "\n",
    "**(f)** Which models perform better on the training data, and which on the test data? Why?\n",
    "\n",
    "**(g)** Imagine that the test data were significantly different from the training dataset. How might this affect the predictive capability of your model? How would the accuracy of generalization performance be impacted? Why?\n",
    "\n",
    "*To help get you started - here's some code to help you load in the data for this exercise (you'll just need to update the path)*:"
   ],
   "metadata": {}
  },
  {
   "cell_type": "code",
   "execution_count": 20,
   "source": [
    "import numpy as np\r\n",
    "import pandas as pd\r\n",
    "\r\n",
    "path = './data/'\r\n",
    "train = pd.read_csv(path + 'A2_Q7_train.csv')\r\n",
    "test = pd.read_csv(path + 'A2_Q7_test.csv')\r\n",
    "\r\n",
    "x_train = train.x.values\r\n",
    "y_train = train.y.values\r\n",
    "\r\n",
    "x_test = test.x.values\r\n",
    "y_test = test.y.values"
   ],
   "outputs": [],
   "metadata": {}
  },
  {
   "cell_type": "markdown",
   "source": [
    "**ANSWER**"
   ],
   "metadata": {}
  }
 ],
 "metadata": {
  "kernelspec": {
   "name": "python3",
   "display_name": "Python 3.9.12 64-bit ('base': conda)"
  },
  "language_info": {
   "codemirror_mode": {
    "name": "ipython",
    "version": 3
   },
   "file_extension": ".py",
   "mimetype": "text/x-python",
   "name": "python",
   "nbconvert_exporter": "python",
   "pygments_lexer": "ipython3",
   "version": "3.9.12"
  },
  "varInspector": {
   "cols": {
    "lenName": 16,
    "lenType": 16,
    "lenVar": 40
   },
   "kernels_config": {
    "python": {
     "delete_cmd_postfix": "",
     "delete_cmd_prefix": "del ",
     "library": "var_list.py",
     "varRefreshCmd": "print(var_dic_list())"
    },
    "r": {
     "delete_cmd_postfix": ") ",
     "delete_cmd_prefix": "rm(",
     "library": "var_list.r",
     "varRefreshCmd": "cat(var_dic_list()) "
    }
   },
   "types_to_exclude": [
    "module",
    "function",
    "builtin_function_or_method",
    "instance",
    "_Feature"
   ],
   "window_display": false
  },
  "interpreter": {
   "hash": "949183bae10d6f6601199a92cdca330a95f61ba4d882df6dff7be328bb4fbfab"
  }
 },
 "nbformat": 4,
 "nbformat_minor": 4
}