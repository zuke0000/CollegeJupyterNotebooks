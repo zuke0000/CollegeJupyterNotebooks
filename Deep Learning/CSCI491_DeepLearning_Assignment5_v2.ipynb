{
  "cells": [
    {
      "cell_type": "markdown",
      "metadata": {
        "id": "04drDbxf7OaY"
      },
      "source": [
        "# Assignment 5 - Introduction to deep learning in PyTorch"
      ]
    },
    {
      "attachments": {},
      "cell_type": "markdown",
      "metadata": {
        "id": "iaV4CZH67Z1W"
      },
      "source": [
        "## *Derrick Nemetchek*\n",
        "\n",
        "*Names of students you worked with on this assignment*: LIST HERE IF APPLICABLE (delete if not)\n",
        "\n",
        "Note: this assignment falls under collaboration Mode 2: Individual Assignment – Collaboration Permitted. Please refer to the syllabus for additional information.\n",
        "\n",
        "Instructions for all assignments can be found [here](https://github.com/kylebradbury/ids705/blob/master/assignments/_Assignment%20Instructions.ipynb).\n",
        "\n",
        "Total points in the assignment add up to 90; an additional 10 points are allocated to presentation quality."
      ]
    },
    {
      "cell_type": "markdown",
      "metadata": {
        "id": "bwSTtOHG6rEM"
      },
      "source": [
        "**Introduction.**  In this exercise we will work with the MNIST dataset, which consists of images containing one of possibly ten digits, ranging from zero to nine.  MNIST was once widely-used to benchmark image recognition models, and is still occasionally used in contemporary research to test exploratory ideas.  It is useful for testing such ideas because it is a relatively small dataset, so that prototyping can be done (computationally) very quickly. Your goal will be to solve the MNIST problem (i.e., classify these images as accurately as possible) using custom-built deep learning models.  \n",
        "\n",
        "The problems here will be similar to the PyTorch 60-minute Blitz, except that the dataset we will use is different (i.e., MNIST instead of PASCAL VOC) and I will ask you to build some custom networks that are somewhat different than the ones discussed in the PyTorch Blitz.  To test your understanding, I will ask you to fill in key missing components of code I have provided, or write code from scratch.  During this assignment we will also demonstrate the advantages of some important deep learning building blocks. \n",
        "\n",
        "This assignment is designed so that you should be able to fill in the missing code if you (i) fully understand the 60-minute blitz, and (ii) spend a little time carefully considering the questions (and perhaps employ a little trial and error as well).  When I say \"fully understand the blitz\", I mean that you not only copied the code and ran it without error, but that you understand well what the code in the blitz is doing!  The 60-minute blitz may sometimes be entirely clear, and therefore it is reasonable if you find yourself sometimes reading about neural network structures and pytorch outside of the 60-minute blitz (e.g., The PyTorch website has myriad examples and great tutorials). \n",
        "\n",
        "**Instructions.** This assignment will be worth 100 points.  As usual, please submit your code and its output as a pdf file, generated from a Jupyter notebook.  I recommend you complete this assignment entirely in Google CoLab [(link)](https://colab.research.google.com/). The assignment will be divided into \"Problems\", which will be indicated below along with the number of points awarded for completion.  We will begin the assignment by importing important libraries. "
      ]
    },
    {
      "cell_type": "code",
      "execution_count": 3,
      "metadata": {
        "id": "osxUdcBK6m41"
      },
      "outputs": [
        {
          "ename": "ModuleNotFoundError",
          "evalue": "No module named 'torch'",
          "output_type": "error",
          "traceback": [
            "\u001b[1;31m---------------------------------------------------------------------------\u001b[0m",
            "\u001b[1;31mModuleNotFoundError\u001b[0m                       Traceback (most recent call last)",
            "\u001b[1;32m<ipython-input-3-bdcdd94d4e5a>\u001b[0m in \u001b[0;36m<module>\u001b[1;34m\u001b[0m\n\u001b[0;32m      1\u001b[0m \u001b[1;31m# You will need the following libraries to complete the assignment\u001b[0m\u001b[1;33m\u001b[0m\u001b[1;33m\u001b[0m\u001b[1;33m\u001b[0m\u001b[0m\n\u001b[1;32m----> 2\u001b[1;33m \u001b[1;32mimport\u001b[0m \u001b[0mtorch\u001b[0m\u001b[1;33m\u001b[0m\u001b[1;33m\u001b[0m\u001b[0m\n\u001b[0m\u001b[0;32m      3\u001b[0m \u001b[1;32mfrom\u001b[0m \u001b[0mtorch\u001b[0m \u001b[1;32mimport\u001b[0m \u001b[0mnn\u001b[0m\u001b[1;33m\u001b[0m\u001b[1;33m\u001b[0m\u001b[0m\n\u001b[0;32m      4\u001b[0m \u001b[1;32mfrom\u001b[0m \u001b[0mtorch\u001b[0m\u001b[1;33m.\u001b[0m\u001b[0mutils\u001b[0m\u001b[1;33m.\u001b[0m\u001b[0mdata\u001b[0m \u001b[1;32mimport\u001b[0m \u001b[0mDataLoader\u001b[0m\u001b[1;33m\u001b[0m\u001b[1;33m\u001b[0m\u001b[0m\n\u001b[0;32m      5\u001b[0m \u001b[1;32mimport\u001b[0m \u001b[0mtorch\u001b[0m\u001b[1;33m.\u001b[0m\u001b[0mnn\u001b[0m\u001b[1;33m.\u001b[0m\u001b[0mfunctional\u001b[0m \u001b[1;32mas\u001b[0m \u001b[0mF\u001b[0m\u001b[1;33m\u001b[0m\u001b[1;33m\u001b[0m\u001b[0m\n",
            "\u001b[1;31mModuleNotFoundError\u001b[0m: No module named 'torch'"
          ]
        }
      ],
      "source": [
        "# You will need the following libraries to complete the assignment\n",
        "import torch\n",
        "from torch import nn\n",
        "from torch.utils.data import DataLoader\n",
        "import torch.nn.functional as F\n",
        "\n",
        "import torchvision\n",
        "import torchvision.transforms as transforms\n",
        "from torchvision import datasets\n",
        "from torchvision.transforms import ToTensor\n",
        "\n",
        "import matplotlib.pyplot as plt\n",
        "import numpy as np\n",
        "\n",
        "import torch.optim as optim\n"
      ]
    },
    {
      "cell_type": "markdown",
      "metadata": {
        "id": "8cCi59hj6itA"
      },
      "source": [
        "**Problem #1 (5 points)**: First we need to properly load the MNIST dataset, along with built-in PyTorch data loaders.  Please fill in the proper code for the 'transform' object at the top, given the unique characteristics of the MNIST data.  \n",
        "\n",
        "General Note: If you are working on a new problem, you will need to adjust your data to suit an existing data loader, or construct your own.  "
      ]
    },
    {
      "cell_type": "code",
      "execution_count": 12,
      "metadata": {
        "id": "I_LgnpFEI54u"
      },
      "outputs": [],
      "source": [
        "#Fill in the details for the \"transform\" variable\n",
        "transform = ToTensor()####################\n",
        "### FILL THIS IN ###\n",
        "#####################\n",
        "      \n",
        "\n",
        "# We will use a relatively large batch size of 128 here to \n",
        "#  accelerate the training process\n",
        "batch_size = 128\n",
        "\n",
        "# Download the MNIST dataset and data loaders\n",
        "trainset = torchvision.datasets.MNIST(root='./data', train=True,\n",
        "                                        download=True, transform=transform)\n",
        "trainloader = torch.utils.data.DataLoader(trainset, batch_size=batch_size,\n",
        "                                          shuffle=True, num_workers=2)\n",
        "\n",
        "testset = torchvision.datasets.MNIST(root='./data', train=False,\n",
        "                                       download=True, transform=transform)\n",
        "testloader = torch.utils.data.DataLoader(testset, batch_size=batch_size,\n",
        "                                         shuffle=False, num_workers=2)\n",
        "\n",
        "# Label the classes\n",
        "classes = ('zero', 'one', 'two', 'three',\n",
        "           'four', 'five', 'six', 'seven', 'eight', 'nine')"
      ]
    },
    {
      "cell_type": "markdown",
      "metadata": {
        "id": "PNOB-2bM-eh0"
      },
      "source": [
        "**Problem 2 (5 points)**:  Write code that will plot twenty MNIST images: two examples from each of the ten classes for the problem.   For full credit, all the images should be plotted within the same figure."
      ]
    },
    {
      "cell_type": "code",
      "execution_count": 37,
      "metadata": {},
      "outputs": [],
      "source": [
        "def __getitem__(self, idx):\n",
        "    img_path = os.path.join(self.img_dir, self.img_labels.iloc[idx, 0])\n",
        "    image = read_image(img_path)\n",
        "    label = self.img_labels.iloc[idx, 1]\n",
        "    if self.transform:\n",
        "        image = self.transform(image)\n",
        "    if self.target_transform:\n",
        "        label = self.target_transform(label)\n",
        "    return image, label"
      ]
    },
    {
      "cell_type": "code",
      "execution_count": 39,
      "metadata": {
        "id": "FbZ2YtrzJKRT"
      },
      "outputs": [
        {
          "name": "stdout",
          "output_type": "stream",
          "text": [
            "[2 2 2 2 2 2 2 2 2 2]\n"
          ]
        },
        {
          "data": {
            "image/png": "[encoded data removed]",
            "text/plain": [
              "<Figure size 360x288 with 20 Axes>"
            ]
          },
          "metadata": {
            "needs_background": "light"
          },
          "output_type": "display_data"
        }
      ],
      "source": [
        "import matplotlib.pyplot as plt\n",
        "\n",
        "labels_map = {\n",
        "    0: \"Zero\",\n",
        "    1: \"One\",\n",
        "    2: \"Two\",\n",
        "    3: \"Three\",\n",
        "    4: \"Four\",\n",
        "    5: \"Five\",\n",
        "    6: \"Six\",\n",
        "    7: \"Seven\",\n",
        "    8: \"Eight\",\n",
        "    9: \"Nine\",\n",
        "}\n",
        "counter = np.full(len(labels_map), 2)\n",
        "print(counter)\n",
        "figure = plt.figure(figsize=(5, 4))\n",
        "cols, rows = 5, 4\n",
        "for i in range(1, cols * rows + 1):\n",
        "    sample_idx = torch.randint(len(trainset), size=(1,)).item()\n",
        "    sample_idx = i\n",
        "    img, label = trainset[sample_idx]\n",
        "    figure.add_subplot(rows, cols, i)\n",
        "    plt.title(labels_map[label])\n",
        "    plt.axis(\"off\")\n",
        "    plt.imshow(img.squeeze(), cmap=\"gray\")\n",
        "plt.show()\n",
        "\n",
        "\n",
        "\n"
      ]
    },
    {
      "cell_type": "markdown",
      "metadata": {
        "id": "7UvA1OKe68ps"
      },
      "source": [
        "**Problem 3 (40 POINTS)**.  In this problem we will start by creating the most naive architecture to solve an image recognition problem, in which we use only traditional fully-connected layers.  We will progressively move towards a more modern approach and witness the tremendous improvements in performance that result. \n",
        "\n",
        "**Part (a)**. Create an fully-connected neural network with 8 total layers of parameters.  Aside from the output layer, each layer should have 50 hidden units.  Use ReLU activations.  We will call this network *NetFC*.  "
      ]
    },
    {
      "cell_type": "code",
      "execution_count": null,
      "metadata": {
        "id": "N7vSzXfR1rgg"
      },
      "outputs": [],
      "source": [
        "\n",
        "class NetFc(nn.Module):\n",
        "    def __init__(self):\n",
        "      super().__init__()\n",
        "  \n",
        "      ####################\n",
        "      ### FILL THIS IN ###\n",
        "      ####################\n",
        "          \n",
        "    def forward(self, x):\n",
        "   \n",
        "      ####################\n",
        "      ### FILL THIS IN ###\n",
        "      ####################\n",
        "\n",
        "      #Softmax layer should always be last\n",
        "      output = F.log_softmax(x, dim=1)\n",
        "      \n",
        "      # Return the output of the network\n",
        "      return output"
      ]
    },
    {
      "cell_type": "markdown",
      "metadata": {
        "id": "5V7yPP0koApk"
      },
      "source": [
        "**Part (b)**. In this part you will create a function that trains your model for two epochs (i.e., two complete passes over the training data), and prints the loss of your model on each 100th minibatch. "
      ]
    },
    {
      "cell_type": "code",
      "execution_count": null,
      "metadata": {
        "id": "eT4s-uXNIaeE"
      },
      "outputs": [],
      "source": [
        "# This function takes in a pytorch model as 'net', and then trains it for two \n",
        "#  epochs (i.e., two loops over teh entire dataset).  You may want to adjust\n",
        "# the learning rate sometimes and we will pass that in as 'lr'.  You will\n",
        "# also need to pass in the 'trainloader' object to handle your data.  \n",
        "# Your function should return the trained model. \n",
        "def trainMyModel(net,lr,trainloader):\n",
        "\n",
        "  #Attempt to put your neural network onto the GPU. Do not worry if there is no \n",
        "  # GPU available on CoLab; for models of our size it won't be prohibitively \n",
        "  # slow and you can proceed with a CPU\n",
        "  device = torch.device('cuda:0' if torch.cuda.is_available() else 'cpu')\n",
        "  net.to(device)\n",
        "\n",
        "      ####################\n",
        "      ### FILL THIS IN ###\n",
        "      ####################\n",
        "\n",
        "\n",
        "  # Don't forget, your function must print out the training loss on each \n",
        "  # 100th mini-batch\n",
        "\n",
        "  print('Finished Training')\n",
        "  return net\n",
        "\n"
      ]
    },
    {
      "cell_type": "markdown",
      "metadata": {
        "id": "qdYAOQQKvvhU"
      },
      "source": [
        "**Part (c)**. In this part you will create a function that will take a trained model as input, and a data loader (for your test data), and return the accuracy of the model on the testing data.  The accuracy should be reported to at least two decimal places. This function need not be general, but it should work with the 'testloader' that was created above for the MNIST dataset.  "
      ]
    },
    {
      "cell_type": "code",
      "execution_count": null,
      "metadata": {
        "id": "qWyS77kiqJ0B"
      },
      "outputs": [],
      "source": [
        "# This function takes in a pytorch model as 'trainedNet', and then applied it \n",
        "# to testing data that can be loaded using the 'testloader' object.  The\n",
        "# function returns the accuracy of trainedNet on the whole testing dataset\n",
        "# and prints the model's accuracy to the terminal (to at least two decimal \n",
        "#  places of accuracy)\n",
        "def testMyModel(trainedNet,testloader):\n",
        "\n",
        "      ####################\n",
        "      ### FILL THIS IN ###\n",
        "      ####################\n",
        "\n",
        "\n",
        "  print(f'Accuracy of the network on the 10000 test images: {acc} %')\n",
        "  return acc"
      ]
    },
    {
      "cell_type": "markdown",
      "metadata": {
        "id": "2IDnDlo9pF1I"
      },
      "source": [
        "Now train and test your *NetFC* model using a few different learning rates.  Find a learning rate that seems reasonable (hint: try values between 10^(-4) and 10^(-1)).  If your model is properly set up, you should obtain at least 75% accuracy.  "
      ]
    },
    {
      "cell_type": "code",
      "execution_count": null,
      "metadata": {
        "id": "7_1Y-ZBapyno"
      },
      "outputs": [],
      "source": [
        "# Train your model. \n",
        "net = NetFc();\n",
        "lr = 0.001;\n",
        "trainedNet = trainMyModel(net,lr,trainloader);\n",
        "\n",
        "# Test your model\n",
        "testMyModel(trainedNet,testloader)"
      ]
    },
    {
      "cell_type": "markdown",
      "metadata": {
        "id": "qYpLRNn-xkEx"
      },
      "source": [
        "**Problem 4 (10 POINTS)**.  Now we will see the advantages of skip connections in a deep neural network.  Below, fill in the template to create another fully connected neural network, called *NetFcRes* that has two skip connections in it: one connecting the output of the 1st network layer with the output of the 3rd network layer; and one skip connecting that connects the output of the 5th layer with the output of the 7th layer.  Then use your training and testing functions to train and evaluate the performance of your *NetFcRes* model.  \n",
        "\n",
        "Adding skip connections results in so-called \"residual networks\", which are now widely-used in research and practice. If you are not sure how to proceed, please see the lecture slides introducing deep neural networks, or search for \"residual layer\" or \"skip connection\" on google; there are substantial resources explaining this structure.  If you understand residual connections, then you will only need to make some relatively minor modifications to *NetFc* to obtain your new *NetFcRes* model.\n",
        "\n",
        "If done correctly, you should obtain at least 85% accuracy on the testing set after training two epochs, a substantial improvement over *NetFc*, the generic fully-connected network. "
      ]
    },
    {
      "cell_type": "code",
      "execution_count": null,
      "metadata": {
        "id": "O06jjUCXyKsD"
      },
      "outputs": [],
      "source": [
        "class NetFcRes(nn.Module):\n",
        "    def __init__(self):\n",
        "      super().__init__()\n",
        "  \n",
        "      ####################\n",
        "      ### FILL THIS IN ###\n",
        "      ####################\n",
        "          \n",
        "    def forward(self, x):\n",
        "   \n",
        "      ####################\n",
        "      ### FILL THIS IN ###\n",
        "      ####################\n",
        "      \n",
        "      #Softmax layer should always be last\n",
        "      output = F.log_softmax(x, dim=1)\n",
        "      \n",
        "      # Return the output of the network\n",
        "      return output"
      ]
    },
    {
      "cell_type": "code",
      "execution_count": null,
      "metadata": {
        "id": "sy-ue1F3y_h2"
      },
      "outputs": [],
      "source": [
        "# Train your model. \n",
        "net = NetFcRes();\n",
        "lr = 0.001;\n",
        "trainedNet = trainMyModel(net,lr,trainloader);\n",
        "\n",
        "# Test your model\n",
        "testMyModel(trainedNet,testloader)"
      ]
    },
    {
      "cell_type": "markdown",
      "metadata": {
        "id": "yrLo2LLCzaqN"
      },
      "source": [
        "**Problem 5 (20 POINTS)**.  Now we will see the advantages of convolutional structures in a deep neural network.  Below, fill in the template to create convolutional neural network, called 'NetCnn' that has the following structure: \n",
        "\n",
        "layer1: 8 3x3 convolutional filters, one pixel of zero-padding, and stride of one\n",
        "\n",
        "layer2: 16 3x3 convolutional filters, one pixel of zero-padding, and stride of one\n",
        "\n",
        "layer3: 2x2 max pooling, with stride of 2. No zero-padding. \n",
        "\n",
        "layer4: 32 3x3 convolutional filters, one pixel of zero-padding, and stride of one\n",
        "\n",
        "layer5: 64 3x3 convolutional filters, one pixel of zero-padding, and stride of one\n",
        "\n",
        "layer6: 2x2 max pooling, with stride of 2. No zero-padding. \n",
        "\n",
        "layer7: a fully connected layer of 50 neurons. \n",
        "\n",
        "Layer8: a fully connected layer of 10 neurons. \n",
        "\n",
        "If done correctly, you should obtain at least 95% accuracy on the testing set after training two epochs, a substantial improvement over *NetFcRes*, the fully-connected network with skip connections.  We could add skip connections to 'NetCnn' as well, which would further improve its performance, but this is a little tricky, and it will not be part of this assignment. "
      ]
    },
    {
      "cell_type": "code",
      "execution_count": null,
      "metadata": {
        "id": "hxWG1UZPx3Us"
      },
      "outputs": [],
      "source": [
        "# Convolutional model - adding in convolutional layers\n",
        "\n",
        "class NetCnn(nn.Module):\n",
        "    def __init__(self):\n",
        "      super().__init__()\n",
        "      \n",
        "        ####################\n",
        "        ### FILL THIS IN ###\n",
        "        ####################\n",
        "\n",
        "        \n",
        "    def forward(self, x):\n",
        "   \n",
        "        ####################\n",
        "        ### FILL THIS IN ###\n",
        "        ####################\n",
        "\n",
        "      #Softmax layer should always be last\n",
        "      output = F.log_softmax(x, dim=1)\n",
        "\n",
        "      #Return output of model \n",
        "      return output\n"
      ]
    },
    {
      "cell_type": "code",
      "execution_count": null,
      "metadata": {
        "id": "npvKELqM4UCr"
      },
      "outputs": [],
      "source": [
        "# Train your model. \n",
        "net = NetCnn();\n",
        "lr = 0.001;\n",
        "trainedNet = trainMyModel(net,lr,trainloader);\n",
        "\n",
        "# Test your model\n",
        "testMyModel(trainedNet,testloader)"
      ]
    },
    {
      "cell_type": "markdown",
      "metadata": {
        "id": "F0To6jMJ1jUh"
      },
      "source": [
        "**Problem 6 (10 POINTS)**  In this last problem, you will add batch normalization layers to your network.  Batch normalization, and its variants (e.g., \"layer norm\") are another structure that is now widely-used in modern deep neural networks.  In this problem you will design a neural network called *NetCnnBn* with the exact same structure as 'NetCnn' except you will add two batch normalization layers in the following locations: (i) after the 2nd convolutional layer, and (ii) after the 1st fully connected layer.  \n",
        "\n",
        "If done properly, you should be now be able to achieve approximately 99% accuracy on the testing dataset after two epochs of training.  "
      ]
    },
    {
      "cell_type": "code",
      "execution_count": null,
      "metadata": {
        "id": "pUKPGppeqy1t"
      },
      "outputs": [],
      "source": [
        "# Convolutional model - adding in batch norm\n",
        "\n",
        "class NetCnnBn(nn.Module):\n",
        "    def __init__(self):\n",
        "      super().__init__()\n",
        "      \n",
        "        ####################\n",
        "        ### FILL THIS IN ###\n",
        "        ####################\n",
        "\n",
        "        \n",
        "    def forward(self, x):\n",
        "   \n",
        "        ####################\n",
        "        ### FILL THIS IN ###\n",
        "        ####################\n",
        "\n",
        "      #Softmax layer should always be last\n",
        "      output = F.log_softmax(x, dim=1)\n",
        "\n",
        "      #Return output of model \n",
        "      return output\n"
      ]
    },
    {
      "cell_type": "code",
      "execution_count": null,
      "metadata": {
        "id": "Go8Uvhwi4XO8"
      },
      "outputs": [],
      "source": [
        "# Train your model. \n",
        "net = NetCnnBn();\n",
        "lr = 0.001;\n",
        "trainedNet = trainMyModel(net,lr,trainloader);\n",
        "\n",
        "# Test your model\n",
        "testMyModel(trainedNet,testloader)"
      ]
    }
  ],
  "metadata": {
    "accelerator": "GPU",
    "colab": {
      "provenance": []
    },
    "gpuClass": "standard",
    "kernelspec": {
      "display_name": "base",
      "language": "python",
      "name": "python3"
    },
    "language_info": {
      "codemirror_mode": {
        "name": "ipython",
        "version": 3
      },
      "file_extension": ".py",
      "mimetype": "text/x-python",
      "name": "python",
      "nbconvert_exporter": "python",
      "pygments_lexer": "ipython3",
      "version": "3.7.3"
    },
    "vscode": {
      "interpreter": {
        "hash": "6fb045e0794b49a94e0fb4df5d6e6b5607c8e635c915d714616e7ab91521d5b8"
      }
    }
  },
  "nbformat": 4,
  "nbformat_minor": 0
}
