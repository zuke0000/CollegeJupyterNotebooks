{
 "cells": [
  {
   "cell_type": "markdown",
   "id": "409f8432",
   "metadata": {},
   "source": [
    "# Group project 1 - Conway's Game of Life\n",
    "## Due January 24th, 10:30 AM\n",
    "\n",
    "Conway's Game of Life is a \"no-player never-ending game\" played on board of squares.  It was invented by [John Conway](https://www.theguardian.com/science/2015/jul/23/john-horton-conway-the-most-charismatic-mathematician-in-the-world) in 1968, out of a desire to create a demonstration of how simple rules might lead to complex behavior, much like how relatively simple physical processes generated all of earth's complicated biodiversity, at least in microcosmic sense.  For our purposes, it will yield a fun and interesting starting point for practicing some useful python skills prior to diving into some more mathematical topics.  \n",
    "\n",
    "The rules of the game are simple, and we'll develop them sequentially.  We begin by defining a rectangular board of cells, each of which can be either \"alive\" or \"dead\".  A good size to begin with is 10x10.  The best way to store this board is as a numpy array.  **Import numpy and create the board, with all positions initially set to \"dead\" (or false, as the case may be).**"
   ]
  },
  {
   "cell_type": "code",
   "execution_count": 11,
   "id": "26973dde",
   "metadata": {},
   "outputs": [],
   "source": [
    "import numpy as np\n",
    "\n",
    "\n",
    "\n",
    "# Create a boolean numpy array to act as the board here, and initialize it to all false values.  You\n",
    "# may find the commands np.zeros and the array's astype method to be useful here\n",
    "\n",
    "board = np.full((10,10), False)"
   ]
  },
  {
   "cell_type": "markdown",
   "id": "b40d79b1",
   "metadata": {},
   "source": [
    "Now that we have the board, the next thing that we'll need to do is to define our initial configuration, or *state*.  While we will change this in the future, set a line of three adjacent cells either vertically or horizontally in the middle of the board.  You can use numpy's array indexing for this, e.g. if you wanted to initialize a 2x2 square with corner at position i=2,j=2, you could set S[2:4,2:4]=True, if S is the name of your board."
   ]
  },
  {
   "cell_type": "code",
   "execution_count": 12,
   "id": "d1371a30",
   "metadata": {},
   "outputs": [
    {
     "data": {
      "text/plain": [
       "array([[False, False, False, False, False, False, False, False, False,\n",
       "        False],\n",
       "       [False, False, False, False, False, False, False, False, False,\n",
       "        False],\n",
       "       [False, False,  True, False, False, False, False, False, False,\n",
       "        False],\n",
       "       [False, False,  True, False, False, False, False, False, False,\n",
       "        False],\n",
       "       [False, False,  True, False, False, False, False, False, False,\n",
       "        False],\n",
       "       [False, False, False, False, False, False, False, False, False,\n",
       "        False],\n",
       "       [False, False, False, False, False, False, False, False, False,\n",
       "        False],\n",
       "       [False, False, False, False, False, False, False, False, False,\n",
       "        False],\n",
       "       [False, False, False, False, False, False, False, False, False,\n",
       "        False],\n",
       "       [False, False, False, False, False, False, False, False, False,\n",
       "        False]])"
      ]
     },
     "execution_count": 12,
     "metadata": {},
     "output_type": "execute_result"
    }
   ],
   "source": [
    "board[2:5,2] = True # keep in mind [2:5,#] means rows 2 through 4\n",
    "board"
   ]
  },
  {
   "cell_type": "markdown",
   "id": "86daa176",
   "metadata": {},
   "source": [
    "Now we get to the rules of the game.  Life is a dynamical system, which is to say that \n",
    "$$\n",
    "S_{t+1} = F(S_t)\n",
    "$$\n",
    "or the next board state is a function of the current board state, where $S_t$ is the board state at an integer \"time\" $t$.  The rules that define $F$ are simple, and here we'll just state them in words rather than in equations.\n",
    " - If a cell is currently alive, and it has two or three neighbors (out of eight possible) that are also alive, then it remains alive.\n",
    " - If a cell is dead, but has three neighbors (out of eight possible) that are alive, then it becomes alive.\n",
    " - All other cells become or remain dead.  \n",
    " \n",
    "It's also necessary to consider what happens at the edges of the domain.  You should use *periodic boundary conditions*, which is to say that if you are considering the neighbors of a cell that exists, for example on the right edge of the board, you would count its five neighboring cells on the rights side of the board, and also three cells on the left edge (and vice versa.  And analogously for the top and bottom).  **Create a python function that takes as an argument the existing board state and returns a new board state based on the rules described above.  Try to make this function as efficient as possible!** "
   ]
  },
  {
   "cell_type": "code",
   "execution_count": 15,
   "id": "cc7fd222",
   "metadata": {},
   "outputs": [
    {
     "data": {
      "text/plain": [
       "[False, False, False]"
      ]
     },
     "execution_count": 15,
     "metadata": {},
     "output_type": "execute_result"
    }
   ],
   "source": [
    "# import function from github, gets a list of neighbors from a 2D array\n",
    "# https://gist.github.com/003random/3e97ddc449aa394ebf25edb25c8c6110\n",
    "def neighbors(matrix, rowNumber, colNumber):\n",
    "    result = []\n",
    "    for rowAdd in range(-1, 2):\n",
    "        newRow = rowNumber + rowAdd\n",
    "        if newRow >= 0 and newRow <= len(matrix)-1:\n",
    "            for colAdd in range(-1, 2):\n",
    "                newCol = colNumber + colAdd\n",
    "                if newCol >= 0 and newCol <= len(matrix)-1:\n",
    "                    if newCol == colNumber and newRow == rowNumber:\n",
    "                        continue\n",
    "                    result.append(matrix[newCol][newRow])\n",
    "    return result"
   ]
  },
  {
   "cell_type": "code",
   "execution_count": 18,
   "id": "6ee00eef",
   "metadata": {},
   "outputs": [
    {
     "ename": "ValueError",
     "evalue": "all the input array dimensions for the concatenation axis must match exactly, but along dimension 1, the array at index 0 has size 1 and the array at index 1 has size 10",
     "output_type": "error",
     "traceback": [
      "\u001b[1;31m---------------------------------------------------------------------------\u001b[0m",
      "\u001b[1;31mValueError\u001b[0m                                Traceback (most recent call last)",
      "Input \u001b[1;32mIn [18]\u001b[0m, in \u001b[0;36m<cell line: 14>\u001b[1;34m()\u001b[0m\n\u001b[0;32m      9\u001b[0m     \u001b[38;5;66;03m# Check which cells satisfy rule 1\u001b[39;00m\n\u001b[0;32m     10\u001b[0m     \u001b[38;5;66;03m# Check which cells satisfy rule 2\u001b[39;00m\n\u001b[0;32m     11\u001b[0m     \u001b[38;5;66;03m# Decide which cells are alive and dead based on rules\u001b[39;00m\n\u001b[0;32m     12\u001b[0m     \u001b[38;5;28;01mreturn\u001b[39;00m S_new\n\u001b[1;32m---> 14\u001b[0m \u001b[43mupdate_board\u001b[49m\u001b[43m(\u001b[49m\u001b[43mboard\u001b[49m\u001b[43m)\u001b[49m\n",
      "Input \u001b[1;32mIn [18]\u001b[0m, in \u001b[0;36mupdate_board\u001b[1;34m(S)\u001b[0m\n\u001b[0;32m      3\u001b[0m s_new \u001b[38;5;241m=\u001b[39m np\u001b[38;5;241m.\u001b[39mfull((sz,sz), \u001b[38;5;28;01mFalse\u001b[39;00m)\n\u001b[0;32m      4\u001b[0m S \u001b[38;5;241m=\u001b[39m np\u001b[38;5;241m.\u001b[39mvstack((S[sz\u001b[38;5;241m-\u001b[39m\u001b[38;5;241m1\u001b[39m,:],S,S[\u001b[38;5;241m0\u001b[39m,:]))\n\u001b[1;32m----> 5\u001b[0m S \u001b[38;5;241m=\u001b[39m \u001b[43mnp\u001b[49m\u001b[38;5;241;43m.\u001b[39;49m\u001b[43mvstack\u001b[49m\u001b[43m(\u001b[49m\u001b[43m(\u001b[49m\u001b[43mS\u001b[49m\u001b[43m[\u001b[49m\u001b[43m:\u001b[49m\u001b[43m,\u001b[49m\u001b[43msz\u001b[49m\u001b[38;5;241;43m-\u001b[39;49m\u001b[38;5;241;43m1\u001b[39;49m\u001b[43m,\u001b[49m\u001b[43m]\u001b[49m\u001b[38;5;241;43m.\u001b[39;49m\u001b[43mreshape\u001b[49m\u001b[43m(\u001b[49m\u001b[43msz\u001b[49m\u001b[38;5;241;43m+\u001b[39;49m\u001b[38;5;241;43m2\u001b[39;49m\u001b[43m,\u001b[49m\u001b[38;5;241;43m1\u001b[39;49m\u001b[43m)\u001b[49m\u001b[43m,\u001b[49m\u001b[43m \u001b[49m\u001b[43mS\u001b[49m\u001b[43m,\u001b[49m\u001b[43m \u001b[49m\u001b[43mS\u001b[49m\u001b[43m[\u001b[49m\u001b[43m:\u001b[49m\u001b[43m,\u001b[49m\u001b[38;5;241;43m0\u001b[39;49m\u001b[43m]\u001b[49m\u001b[38;5;241;43m.\u001b[39;49m\u001b[43mreshape\u001b[49m\u001b[43m(\u001b[49m\u001b[43msz\u001b[49m\u001b[38;5;241;43m+\u001b[39;49m\u001b[38;5;241;43m2\u001b[39;49m\u001b[43m,\u001b[49m\u001b[38;5;241;43m1\u001b[39;49m\u001b[43m)\u001b[49m\u001b[43m)\u001b[49m\u001b[43m)\u001b[49m\n\u001b[0;32m      7\u001b[0m S_new \u001b[38;5;241m=\u001b[39m [\u001b[38;5;241m0\u001b[39m,\u001b[38;5;241m0\u001b[39m]\n\u001b[0;32m      9\u001b[0m \u001b[38;5;66;03m# Check which cells satisfy rule 1\u001b[39;00m\n\u001b[0;32m     10\u001b[0m \u001b[38;5;66;03m# Check which cells satisfy rule 2\u001b[39;00m\n\u001b[0;32m     11\u001b[0m \u001b[38;5;66;03m# Decide which cells are alive and dead based on rules\u001b[39;00m\n",
      "File \u001b[1;32m<__array_function__ internals>:5\u001b[0m, in \u001b[0;36mvstack\u001b[1;34m(*args, **kwargs)\u001b[0m\n",
      "File \u001b[1;32m~\\anaconda3\\lib\\site-packages\\numpy\\core\\shape_base.py:282\u001b[0m, in \u001b[0;36mvstack\u001b[1;34m(tup)\u001b[0m\n\u001b[0;32m    280\u001b[0m \u001b[38;5;28;01mif\u001b[39;00m \u001b[38;5;129;01mnot\u001b[39;00m \u001b[38;5;28misinstance\u001b[39m(arrs, \u001b[38;5;28mlist\u001b[39m):\n\u001b[0;32m    281\u001b[0m     arrs \u001b[38;5;241m=\u001b[39m [arrs]\n\u001b[1;32m--> 282\u001b[0m \u001b[38;5;28;01mreturn\u001b[39;00m \u001b[43m_nx\u001b[49m\u001b[38;5;241;43m.\u001b[39;49m\u001b[43mconcatenate\u001b[49m\u001b[43m(\u001b[49m\u001b[43marrs\u001b[49m\u001b[43m,\u001b[49m\u001b[43m \u001b[49m\u001b[38;5;241;43m0\u001b[39;49m\u001b[43m)\u001b[49m\n",
      "File \u001b[1;32m<__array_function__ internals>:5\u001b[0m, in \u001b[0;36mconcatenate\u001b[1;34m(*args, **kwargs)\u001b[0m\n",
      "\u001b[1;31mValueError\u001b[0m: all the input array dimensions for the concatenation axis must match exactly, but along dimension 1, the array at index 0 has size 1 and the array at index 1 has size 10"
     ]
    }
   ],
   "source": [
    "def update_board(S):\n",
    "    sz = len(S)\n",
    "    s_new = np.full((sz,sz), False)\n",
    "    S = np.vstack((S[sz-1,:],S,S[0,:]))\n",
    "    S = np.vstack((S[:,sz-1,].reshape(sz+2,1), S, S[:,0].reshape(sz+2,1)))\n",
    "    \n",
    "    S_new = [0,0]\n",
    "    \n",
    "    # Check which cells satisfy rule 1\n",
    "    # Check which cells satisfy rule 2\n",
    "    # Decide which cells are alive and dead based on rules\n",
    "    return S_new\n",
    "\n",
    "update_board(board)"
   ]
  },
  {
   "cell_type": "markdown",
   "id": "1e1f8e53",
   "metadata": {},
   "source": [
    "Do a basic test of your function to ensure correctness.  The reason that I asked you to create a line of three pixels is because the rules above lead to a very simple transformation: a vertical line becomes a horizontal line, and a horizontal line becomes a vertical line.  It will be helpful to visualize this.  **Use matplotlib to visualize your board state both before and after application of the update_board function.** "
   ]
  },
  {
   "cell_type": "code",
   "execution_count": null,
   "id": "ccac35ca",
   "metadata": {},
   "outputs": [],
   "source": [
    "import matplotlib.pyplot as plt\n",
    "\n",
    "# plt.imshow is a particularly useful command for this"
   ]
  },
  {
   "cell_type": "markdown",
   "id": "8086843a",
   "metadata": {},
   "source": [
    "While this is interesting, the real fascinating dynamics of Conway's Game of Life emerge when the update_board function is iterated from time $t=0$ to $t=T$.  Write a for loop that performs this iteration and saves the output at each step to a list.  One common gotcha is that if you append your state array to a list, you may end up with $T$ references to the same array, which of course is being updated.  This is not what you want.  Be sure you save the board state at time $t$ by using a function such as np.copy prior to appending it.  Try running the code for 20 steps.  "
   ]
  },
  {
   "cell_type": "code",
   "execution_count": null,
   "id": "49109c87",
   "metadata": {},
   "outputs": [],
   "source": []
  },
  {
   "cell_type": "markdown",
   "id": "92999b56",
   "metadata": {},
   "source": [
    "It would be unwieldy to visualize each of the states of a time-evolving system individually.  A much more natural way of looking at them is to create an animation.  There are many ways to do this, but one nice way is to use the matplotlib FuncAnimation method.  All you need to do is to create an animate function, which takes as argument the frame number and updates a matplotlib plot.  Note that we need to put jupyter into matplotlib notebook mode to make this work (if we ran this code in a normal python interpreter, this wouldn't be required).  It's easier to show than to tell:"
   ]
  },
  {
   "cell_type": "code",
   "execution_count": null,
   "id": "6756392e",
   "metadata": {},
   "outputs": [],
   "source": [
    "import matplotlib.animation as anim\n",
    "%matplotlib notebook\n",
    "\n",
    "fig,ax = plt.subplots()\n",
    "fig.set_size_inches(10,10)\n",
    "\n",
    "im = ax.imshow(states[0])\n",
    "\n",
    "def animate(frame_number):\n",
    "    im.set_data(states[frame_number])\n",
    "    return im\n",
    "    \n",
    "animation = anim.FuncAnimation(fig, animate, frames=len(states), interval=100)"
   ]
  },
  {
   "cell_type": "markdown",
   "id": "bdb275cf",
   "metadata": {},
   "source": [
    "Feel free to modify the parameters of the animate function, but if all has gone well, what you should be seeing is an oscilllating vertical and horizontal line of 3 pixels.  This isn't a very exciting result, but it should ensure that your code is running correctly. \n",
    "\n",
    "Now, let's do something more interesting.  Instead of a line, let's try as an initial state the R-pentomino, which would be\n",
    "![pentomino](pentomino.png)\n",
    "**Create a method that initializes the board state to one R-pentomino in the middle.  Rerun the above analysis and write a short qualitative characterization of the types of patterns that appear**.  If you wish, you can make the board larger, say size 100x100 and run the simulation for longer to get a better sense of the results.  "
   ]
  },
  {
   "cell_type": "code",
   "execution_count": null,
   "id": "bd3dc157",
   "metadata": {},
   "outputs": [],
   "source": []
  },
  {
   "cell_type": "markdown",
   "id": "fdb38952",
   "metadata": {},
   "source": [
    "An easy way to get a sense of the diversity generated by Life's rules is to begin with a random board state.  **Generate a board of size 100x100 with each pixel either alive or dead with 50% probability**.  (A useful function for doing this might be numpy.random.randint).  **Run the game for 1000 iterations.  Write a characterization of the types of patterns that appear.  As a guide, there is a common vernacular for characterizing these different patterns: still life (stable and non-changing patterns), oscillators (you've already seen one example with the horizontal/vertical line), and gliders.  Describe some pixel patterns that fall into each of these categories.**"
   ]
  },
  {
   "cell_type": "code",
   "execution_count": null,
   "id": "fd012f2c",
   "metadata": {},
   "outputs": [],
   "source": []
  },
  {
   "cell_type": "markdown",
   "id": "1cd72610",
   "metadata": {},
   "source": [
    "Next, let's ask an analytical question: Given the randomized board state above, does the total number of live pixels ever stabilize?  Stated another way, if I ran the simulation above 100 times, and queried the number of live pixels on the board at $t=1000$, would they be similar each time?  **Devise a way to address this question.  Write a short statement with your conclusion, and generate one figure using matplotlib that supports your analysis**."
   ]
  },
  {
   "cell_type": "code",
   "execution_count": null,
   "id": "375e1345",
   "metadata": {},
   "outputs": [],
   "source": []
  },
  {
   "cell_type": "markdown",
   "id": "30bad1ab",
   "metadata": {},
   "source": [
    "Finally, one aspect of Life that I find interesting is the fragility of the rule set.  **Make some simple modification to the rules.  Write a short statement describing what you changed and how it affected the dynamics of the system.**"
   ]
  },
  {
   "cell_type": "code",
   "execution_count": null,
   "id": "d28283d4",
   "metadata": {},
   "outputs": [],
   "source": []
  }
 ],
 "metadata": {
  "kernelspec": {
   "display_name": "Python 3 (ipykernel)",
   "language": "python",
   "name": "python3"
  },
  "language_info": {
   "codemirror_mode": {
    "name": "ipython",
    "version": 3
   },
   "file_extension": ".py",
   "mimetype": "text/x-python",
   "name": "python",
   "nbconvert_exporter": "python",
   "pygments_lexer": "ipython3",
   "version": "3.9.12"
  }
 },
 "nbformat": 4,
 "nbformat_minor": 5
}
