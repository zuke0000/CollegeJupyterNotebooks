{
 "cells": [
  {
   "cell_type": "markdown",
   "source": [
    "# Using numba\n",
    "It is difficult to avoid using loops when doing multi-body simulations.  However loops in python or SSSLLLLOOOOOWWWWW.  To illustrate this, let's implement matrix multiplication as a python function."
   ],
   "metadata": {}
  },
  {
   "cell_type": "code",
   "execution_count": 1,
   "source": [
    "import numpy as np\r\n",
    "A = np.random.randn(100,100)\r\n",
    "B = np.random.randn(100,100)\r\n",
    "\r\n",
    "def matmat(A,B):\r\n",
    "    C = np.zeros_like(A)\r\n",
    "    n = A.shape[0]\r\n",
    "    for i in range(n):\r\n",
    "        for j in range(n):\r\n",
    "            for k in range(n):\r\n",
    "                C[i,k] += A[i,j]*B[j,k]\r\n",
    "    return C\r\n"
   ],
   "outputs": [],
   "metadata": {}
  },
  {
   "cell_type": "markdown",
   "source": [
    "We can time it with the special ipython command %timeit"
   ],
   "metadata": {}
  },
  {
   "cell_type": "code",
   "execution_count": 6,
   "source": [
    "%timeit matmat(A,B)"
   ],
   "outputs": [
    {
     "output_type": "stream",
     "name": "stdout",
     "text": [
      "968 ms ± 13.1 ms per loop (mean ± std. dev. of 7 runs, 1 loop each)\n"
     ]
    }
   ],
   "metadata": {}
  },
  {
   "cell_type": "markdown",
   "source": [
    "Let's keep that number in mind.  Now let's try using the numpy built-in for matrix multiplication"
   ],
   "metadata": {}
  },
  {
   "cell_type": "code",
   "execution_count": 10,
   "source": [
    "%timeit np.dot(A,B)"
   ],
   "outputs": [
    {
     "output_type": "stream",
     "name": "stdout",
     "text": [
      "104 µs ± 17.4 µs per loop (mean ± std. dev. of 7 runs, 10,000 loops each)\n"
     ]
    }
   ],
   "metadata": {}
  },
  {
   "cell_type": "markdown",
   "source": [
    "That is 10000 times faster.  This is bad.  Now let's try using numba to compile our loop."
   ],
   "metadata": {}
  },
  {
   "cell_type": "code",
   "execution_count": 14,
   "source": [
    "import numba\r\n",
    "@numba.jit(nopython=True)\r\n",
    "def matmat_numba(A,B):\r\n",
    "    C = np.zeros_like(A)\r\n",
    "    n = A.shape[0]\r\n",
    "    for i in range(n):\r\n",
    "        for j in range(n):\r\n",
    "            for k in range(n):\r\n",
    "                C[i,k] += A[i,j]*B[j,k]\r\n",
    "    return C"
   ],
   "outputs": [],
   "metadata": {}
  },
  {
   "cell_type": "code",
   "execution_count": 15,
   "source": [
    "%timeit matmat_numba(A,B)"
   ],
   "outputs": [
    {
     "output_type": "stream",
     "name": "stdout",
     "text": [
      "2.32 ms ± 110 µs per loop (mean ± std. dev. of 7 runs, 1 loop each)\n"
     ]
    }
   ],
   "metadata": {}
  },
  {
   "cell_type": "markdown",
   "source": [
    "Still slower than the optimized C++ that numpy is running under the hood (plus numpy is using Strassen's algorithm or somthing similar to reduce the complexity), but still 500 times faster than uncompiled python.  \n",
    "\n",
    "You should employ this whenever you can!  For a little bit more depth, check out the numba tutorial: https://numba.pydata.org/numba-doc/latest/user/5minguide.html"
   ],
   "metadata": {}
  },
  {
   "cell_type": "code",
   "execution_count": null,
   "source": [],
   "outputs": [],
   "metadata": {}
  }
 ],
 "metadata": {
  "kernelspec": {
   "name": "python3",
   "display_name": "Python 3.9.12 64-bit ('base': conda)"
  },
  "language_info": {
   "codemirror_mode": {
    "name": "ipython",
    "version": 3
   },
   "file_extension": ".py",
   "mimetype": "text/x-python",
   "name": "python",
   "nbconvert_exporter": "python",
   "pygments_lexer": "ipython3",
   "version": "3.9.12"
  },
  "interpreter": {
   "hash": "949183bae10d6f6601199a92cdca330a95f61ba4d882df6dff7be328bb4fbfab"
  }
 },
 "nbformat": 4,
 "nbformat_minor": 5
}