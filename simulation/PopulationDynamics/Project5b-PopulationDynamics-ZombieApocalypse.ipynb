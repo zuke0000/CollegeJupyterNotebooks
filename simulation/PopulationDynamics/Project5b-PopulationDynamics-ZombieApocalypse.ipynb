{
 "cells": [
  {
   "cell_type": "markdown",
   "id": "aaa17cb1",
   "metadata": {},
   "source": [
    "# Project 5b - Population Dynamics: the Zombie apocalypse\n",
    "\n",
    "The same ideas associated with modelling hare and lynx can be easily extended to other situations.  Here, we will model a classic zombie apocalypse.  The rules of the situation are simple:\n",
    "- There are three groups: humans, hungry zombies, and fed zombies.\n",
    "- The simulation should start with 100 humans, 0 hungry zombies, and 1 fed zombie\n",
    "- fed zombies scratch humans, turning them into fed zombies.  This occurs in 0.008 zombie-human interactions\n",
    "- fed zombies turn into hungry zombies at a rate of 0.15 (zombies per zombie) per unit time\n",
    "- hungry zombies eat human brains, which removes the human from the population, but does not turn them into zombies.  They are less effective than fed zombies, so this only occurs in 0.003 of zombie-human interactions\n",
    "- If a hungry zombie successfully feeds, they become a fed zombie\n",
    "- hungry zombies die at a rate of 0.3 (zombies per zombie) per unit time.  \n",
    "\n",
    "### Model development\n",
    "**First, write down a system of ODEs that model this situation.  There should be a term on the right hand side corresponding to many of the above rules.  Of particular note: most rules lead to a reduction in one population and a commensurate increase in another population.  Make sure such terms appear (with opposite signs) for both populations.**"
   ]
  },
  {
   "cell_type": "markdown",
   "id": "134023bf",
   "metadata": {},
   "source": []
  },
  {
   "cell_type": "markdown",
   "id": "18275fc7",
   "metadata": {},
   "source": [
    "### Model implementation\n",
    "**Implement the above model.  If it is implemented correctly, all interesting dynamics should proceed within 50 time units (are they days, hours?  I'll leave that to you to conceptualize).  Again, a second order Runge-Kutta method works fine here.**\n"
   ]
  },
  {
   "cell_type": "code",
   "execution_count": null,
   "id": "6164c491",
   "metadata": {},
   "outputs": [],
   "source": []
  }
 ],
 "metadata": {
  "kernelspec": {
   "display_name": "Python 3 (ipykernel)",
   "language": "python",
   "name": "python3"
  },
  "language_info": {
   "codemirror_mode": {
    "name": "ipython",
    "version": 3
   },
   "file_extension": ".py",
   "mimetype": "text/x-python",
   "name": "python",
   "nbconvert_exporter": "python",
   "pygments_lexer": "ipython3",
   "version": "3.10.6"
  }
 },
 "nbformat": 4,
 "nbformat_minor": 5
}
