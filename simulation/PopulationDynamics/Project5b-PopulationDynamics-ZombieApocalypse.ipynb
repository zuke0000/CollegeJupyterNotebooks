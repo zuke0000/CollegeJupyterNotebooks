{
 "cells": [
  {
   "cell_type": "markdown",
   "id": "aaa17cb1",
   "metadata": {},
   "source": [
    "# Project 5b - Population Dynamics: the Zombie apocalypse\n",
    "\n",
    "The same ideas associated with modelling hare and lynx can be easily extended to other situations.  Here, we will model a classic zombie apocalypse.  The rules of the situation are simple:\n",
    "- There are three groups: humans, hungry zombies, and fed zombies.\n",
    "- The simulation should start with 100 humans, 0 hungry zombies, and 1 fed zombie\n",
    "- fed zombies scratch humans, turning them into fed zombies.  This occurs in 0.008 zombie-human interactions\n",
    "- fed zombies turn into hungry zombies at a rate of 0.15 (zombies per zombie) per unit time\n",
    "- hungry zombies eat human brains, which removes the human from the population, but does not turn them into zombies.  They are less effective than fed zombies, so this only occurs in 0.003 of zombie-human interactions\n",
    "- If a hungry zombie successfully feeds, they become a fed zombie\n",
    "- hungry zombies die at a rate of 0.3 (zombies per zombie) per unit time.  \n",
    "\n",
    "### Model development\n",
    "**First, write down a system of ODEs that model this situation.  There should be a term on the right hand side corresponding to many of the above rules.  Of particular note: most rules lead to a reduction in one population and a commensurate increase in another population.  Make sure such terms appear (with opposite signs) for both populations.**"
   ]
  },
  {
   "cell_type": "code",
   "execution_count": 38,
   "id": "695f7f05",
   "metadata": {},
   "outputs": [],
   "source": [
    "h = 100 # humans\n",
    "f = 1 # fed zombies\n",
    "z = 0 # hungry zombies\n",
    "fedz_human_chance = 0.008 # chance for fed to turn human into zombie\n",
    "fed_hungry = 0.15 # fed to hungry zombie per unit time\n",
    "hungry_human_chance = 0.003 # chance for hungry to eat human and become a fed zombie\n",
    "hungry_zombie_death_rate = 0.3 # hungry zombies death chance per unit time"
   ]
  },
  {
   "cell_type": "code",
   "execution_count": 39,
   "id": "134023bf",
   "metadata": {},
   "outputs": [],
   "source": [
    "class RK2:\n",
    "    def __init__(self):\n",
    "        pass   \n",
    "    \n",
    "    def step(self,ode,t,dt,u_0):\n",
    "        # Do some stuff here\n",
    "        k1 = ode.rhs(t, u_0)\n",
    "        k2 = ode.rhs(t + dt, u_0 + dt*k1)\n",
    "        return u_0 + (dt/2)*(k1 + k2)"
   ]
  },
  {
   "cell_type": "code",
   "execution_count": 40,
   "id": "e83ff1dd",
   "metadata": {},
   "outputs": [],
   "source": [
    "class Integrator:\n",
    "    def __init__(self,ode, method):\n",
    "        self.ode = ode \n",
    "        self.method = method #euler, rk2, rk4\n",
    "        \n",
    "    def integrate(self,interval,dt,u_0):\n",
    "        t_0 = interval[0] \n",
    "        t_end = interval[1]\n",
    "        \n",
    "        times = [t_0]\n",
    "        states = [u_0]\n",
    "        \n",
    "        t = t_0\n",
    "        while t<t_end:\n",
    "            dt_ = min(dt,t_end-t) #picks the smallest of dt and interval length\n",
    "            u_1 = self.method.step(self.ode,t,dt_,u_0) #gets next position\n",
    "            t = t + dt_ #increases time interval by dt\n",
    "            u_0 = u_1 #old position is now new position\n",
    "            \n",
    "            times.append(t)\n",
    "            states.append(u_1)\n",
    "            \n",
    "        return np.array(times),np.array(states)"
   ]
  },
  {
   "cell_type": "code",
   "execution_count": 49,
   "id": "35525239",
   "metadata": {},
   "outputs": [],
   "source": [
    "class LoktaVolterra():\n",
    "    def __init__(self):\n",
    "        self.alpha = 0.1\n",
    "        self.beta = 0.01\n",
    "        self.gamma = 0.002 # y\n",
    "        self.delta = 0.1 # 8\n",
    "\n",
    "        self.fedz_human_chance = 0.008 # chance for fed to turn human into fed zombie\n",
    "        #self.gamma = self.fedz_human_chance\n",
    "        self.fed_hungry = 0.15 # fed to hungry zombie per unit time\n",
    "        self.hungry_human_chance = 0.003 # chance for hungry to eat human and become a fed zombie\n",
    "        self.hungry_zombie_death_rate = 0.1 # hungry zombies death chance per unit time\n",
    "\n",
    "        \n",
    "        self.human_clone_rate = 0.1 #additional\n",
    "\n",
    "    def rhs(self, t, u):\n",
    "        h = u[0]\n",
    "        f = u[1]\n",
    "        z = u[2]\n",
    "        \n",
    "        human_clone_human = self.human_clone_rate * h\n",
    "        human_to_fed = self.fedz_human_chance * f * h\n",
    "        fed_to_hungry = self.fed_hungry * f\n",
    "        hungry_to_fed = self.hungry_human_chance * h * z\n",
    "        hungry_to_dead = self.hungry_zombie_death_rate * z\n",
    "\n",
    "        dh_dt = -human_to_fed - hungry_to_fed + human_clone_human\n",
    "        df_dt = -fed_to_hungry + hungry_to_fed + human_to_fed\n",
    "        dz_dt = -hungry_to_dead - hungry_to_fed + fed_to_hungry\n",
    "\n",
    "        return np.array([dh_dt, df_dt, dz_dt])\n",
    "    \n",
    "\n"
   ]
  },
  {
   "cell_type": "code",
   "execution_count": 50,
   "id": "3204d63d",
   "metadata": {},
   "outputs": [],
   "source": [
    "import numpy as np\n",
    "\n",
    "method = RK2()\n",
    "ode = LoktaVolterra()\n",
    "integrator = Integrator(ode, method)\n",
    "\n",
    "h = 100. # humans\n",
    "f = 1. # fed zombies\n",
    "z = 0. # hungry zombies\n",
    "\n",
    "t_0 = 0.0\n",
    "t_end = 300.\n",
    "dt = 0.1\n",
    "t,u = integrator.integrate([t_0,t_end],dt,np.array([h,f,z]))"
   ]
  },
  {
   "cell_type": "code",
   "execution_count": 51,
   "id": "4efdb4f0",
   "metadata": {},
   "outputs": [
    {
     "data": {
      "image/png": "[encoded data removed]",
      "text/plain": [
       "<Figure size 432x288 with 1 Axes>"
      ]
     },
     "metadata": {
      "needs_background": "light"
     },
     "output_type": "display_data"
    }
   ],
   "source": [
    "import matplotlib.pyplot as plt\n",
    "\n",
    "plt.plot(t,u[:,0], label='Humans')\n",
    "plt.plot(t,u[:,1], label='Fed Zombies')\n",
    "plt.plot(t,u[:,2], label='Hungry zombies')\n",
    "plt.xlabel('Time')\n",
    "plt.ylabel('Populations')\n",
    "plt.legend()\n",
    "plt.show()"
   ]
  },
  {
   "cell_type": "markdown",
   "id": "18275fc7",
   "metadata": {},
   "source": [
    "### Model implementation\n",
    "**Implement the above model.  If it is implemented correctly, all interesting dynamics should proceed within 50 time units (are they days, hours?  I'll leave that to you to conceptualize).  Again, a second order Runge-Kutta method works fine here.**\n"
   ]
  },
  {
   "cell_type": "code",
   "execution_count": null,
   "id": "6164c491",
   "metadata": {},
   "outputs": [],
   "source": []
  }
 ],
 "metadata": {
  "kernelspec": {
   "display_name": "base",
   "language": "python",
   "name": "python3"
  },
  "language_info": {
   "codemirror_mode": {
    "name": "ipython",
    "version": 3
   },
   "file_extension": ".py",
   "mimetype": "text/x-python",
   "name": "python",
   "nbconvert_exporter": "python",
   "pygments_lexer": "ipython3",
   "version": "3.9.12"
  },
  "vscode": {
   "interpreter": {
    "hash": "c27425c0941ffafee9a4a0aed1489cff1dade8563e50b3e6b2dc96aa592eb2f3"
   }
  }
 },
 "nbformat": 4,
 "nbformat_minor": 5
}
