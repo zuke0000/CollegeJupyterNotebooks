{
 "cells": [
  {
   "cell_type": "markdown",
   "id": "30a03438",
   "metadata": {},
   "source": [
    "# Project 5d-SIR models in SPACE\n",
    "\n",
    "Until now, we have been approaching disease models in a way that lumps spatial information: entire population classes, despite the fact that humans are geographically separated, are treated as single variables (S,I, or R).  However, it is possible to simulate disease propagation at rather different levels of detail.  One very interesting and very detailed way is to use agent-based models, which means that every single person in the environment is treated individually.  Such models are quite expensive to run.  Another way is a lattice SIR model, which is what we will explore in this section (partially as a means of motivating our next class of model).  \n",
    "\n",
    "The lattice model is very simple.  Instead of modelling an entire population via a single S, I, and R, we will define an $n\\times n$ grid and each location on the grid will have its own SIR status (to be concrete, you could represent these by three numpy arrays).  At each of these locations $k$, we might have dynamics like\n",
    "$$\n",
    "\\frac{\\partial S_{k}}{\\partial t} = -\\beta S_{k} I_{k}\n",
    "$$\n",
    "$$\n",
    "\\frac{\\partial I_{k}}{\\partial t} = \\beta S_{k} I_{k} - \\gamma I_{k}\n",
    "$$\n",
    "$$\n",
    "\\frac{\\partial R_{k}}{\\partial t} = \\gamma I_{k}.\n",
    "$$\n",
    "However, this wouldn't be a very interesting model because each of the locations on the grid are independent from one another.  Instead, we would like adjacent grid cells to be *coupled* (this is similar to the Game of Life).  What sort of coupling makes sense?  There are many possible situations that we could model now that we have some spatial dependency.  One simple possibility states that: rather than susceptible individuals being converted into infected individuals as $-\\beta S_{k} I_{k}$, we could have that  \n",
    "$$\n",
    "\\frac{\\partial S_{k}}{\\partial t} = -\\beta S_{k}\\; \\sum_{j\\in adj(k)} \\frac{I_j}{9},\n",
    "$$\n",
    "(with a similar modification to the rate of change in infected) which is to say that the infection probability is now proportional to the average number of infected individuals in the cells adjacent to $k$. \n",
    "\n",
    "**Implement and run the model described above. Begin by using $n=50$, $\\beta=1$, and $\\gamma=0.1$.  Assume periodic boundary conditions.  Start with only a single grid cell somewhere in the domain containing an infected individual.**  A few hints for modifying your code: just like with the molecular dynamics problem, you'll need to figure out a way to map from a vector of variables of size $3N$, with $N=n^2$ to the S, I, and R values at each location in a grid.  Internally within my rhs function I (for example) took the first $N$ elements in my vector to be my $S$ values and then explicitly reshaped them back into a grid using np.reshape.  At the end of this function, I turned grid variables back into a vector using np.ravel and concatenation.  For computing the spatial average, I suggest the convolve2d function from scipy.signal (pay attention to the keyword arguments for easy implementation of boundaries, in particular boundary='wrap')."
   ]
  },
  {
   "cell_type": "code",
   "execution_count": 103,
   "id": "16de5625",
   "metadata": {},
   "outputs": [],
   "source": [
    "n = 50\n",
    "beta = 1\n",
    "gamma = 0.1\n",
    "\n",
    "S = np.full((n,n), 1)\n",
    "I = np.full((n,n,), 0)\n",
    "R = np.full((n,n,), 1)\n",
    "\n",
    "I[np.random.choice(list(range(50))), np.random.choice(list(range(50)))] = 1"
   ]
  },
  {
   "cell_type": "code",
   "execution_count": 104,
   "id": "4c126a0c",
   "metadata": {},
   "outputs": [
    {
     "data": {
      "text/plain": [
       "(50, 50)"
      ]
     },
     "execution_count": 104,
     "metadata": {},
     "output_type": "execute_result"
    }
   ],
   "source": [
    "from scipy.signal import convolve2d\n",
    "\n",
    "K_array = [1/9, 1/9, 1/9]\n",
    "K = [K_array, K_array, K_array] # convul matrix\n",
    "\n",
    "new_I = convolve2d(I,K, mode='same')\n",
    "new_I.shape\n",
    "\n"
   ]
  },
  {
   "cell_type": "code",
   "execution_count": 105,
   "id": "0c201003",
   "metadata": {},
   "outputs": [
    {
     "name": "stderr",
     "output_type": "stream",
     "text": [
      "C:\\Users\\Derrick\\AppData\\Local\\Temp\\ipykernel_14028\\2885030788.py:20: RuntimeWarning: overflow encountered in multiply\n",
      "  dSdt = -self.beta * S * I\n",
      "C:\\Users\\Derrick\\AppData\\Local\\Temp\\ipykernel_14028\\2885030788.py:21: RuntimeWarning: overflow encountered in multiply\n",
      "  dIdt = self.beta * S * I - self.gamma * I\n",
      "C:\\Users\\Derrick\\AppData\\Local\\Temp\\ipykernel_14028\\2885030788.py:21: RuntimeWarning: invalid value encountered in subtract\n",
      "  dIdt = self.beta * S * I - self.gamma * I\n"
     ]
    }
   ],
   "source": [
    "import numpy as np\n",
    "import ode_methods as om\n",
    "import matplotlib.pyplot as plt\n",
    "\n",
    "class SIR:\n",
    "    \n",
    "    def __init__(self,beta=10,gamma=0.1):\n",
    "        \n",
    "        self.beta = beta    # Infection rate\n",
    "        self.gamma = gamma  # Recovery/death rate\n",
    "        self.n_dof = 3      \n",
    "        \n",
    "    def rhs(self,t,u):\n",
    "        S = u[0]\n",
    "        I = u[1]\n",
    "        R = u[2]\n",
    "\n",
    "        I = convolve2d(I,K, mode='same')\n",
    "\n",
    "        dSdt = -self.beta * S * I\n",
    "        dIdt = self.beta * S * I - self.gamma * I\n",
    "        dRdt = self.gamma * I\n",
    "\n",
    "        dudt = 0\n",
    "        dudt = np.array([dSdt, dIdt, dRdt])\n",
    "\n",
    "        '''\n",
    "        # the right hand side of the ode (or $\\mathcal{F}(t,u)$)\n",
    "        dudt = np.array([-self.beta*u[0]*u[1],\n",
    "                         self.beta*u[0]*u[1] - self.gamma*u[1],\n",
    "                         self.gamma*u[1]])  \n",
    "        '''\n",
    "        return dudt\n",
    "    \n",
    "method = om.Midpoint()\n",
    "\n",
    "#u0 = np.array([1,0.1,0])\n",
    "u0 = np.array([S,I,R])\n",
    "\n",
    "s = SIR(beta, gamma)\n",
    "integrator = om.Integrator(s,method)\n",
    "t,u = integrator.integrate([0,100],0.01,u0)\n",
    "\n"
   ]
  },
  {
   "cell_type": "code",
   "execution_count": 100,
   "id": "a7006531",
   "metadata": {},
   "outputs": [
    {
     "data": {
      "text/plain": [
       "10000.99999999997"
      ]
     },
     "execution_count": 100,
     "metadata": {},
     "output_type": "execute_result"
    }
   ],
   "source": [
    "u.sum()"
   ]
  },
  {
   "cell_type": "markdown",
   "id": "48e31772",
   "metadata": {},
   "source": [
    "**Animate the solution (I suggest repurposing code from Conway's Game of Life).  Describe the patterns that you see of the population classes in space and time.** "
   ]
  },
  {
   "cell_type": "code",
   "execution_count": null,
   "id": "1f800085",
   "metadata": {},
   "outputs": [],
   "source": []
  },
  {
   "cell_type": "markdown",
   "id": "88447714",
   "metadata": {},
   "source": [
    "### Barriers\n",
    "We can utilize this model to explore the influence of geographic barriers to disease propagation.  First, modify your code to accept a spatially varying value of $\\beta$, i.e. \n",
    "$$\n",
    "\\frac{\\partial S_{k}}{\\partial t} = -\\beta_k S_{k}\\; \\sum_{j\\in adj(k)} \\frac{I_j}{9}.\n",
    "$$\n",
    "Second, modify your boundary conditions to *not* be periodic.  If you used scipy.convolve, then you can do this by changing the boundary keyword to 'symm'.    \n",
    "\n",
    "**Now, create a simulation that utilizes a barrier.  For example, you might set the middle 1/3 of the domain to have $\\beta=0$.  How does the simulation change?  If the barrier is imperfect, does the disease still reach the other side?**"
   ]
  },
  {
   "cell_type": "code",
   "execution_count": null,
   "id": "9e6aa86b",
   "metadata": {},
   "outputs": [],
   "source": []
  }
 ],
 "metadata": {
  "kernelspec": {
   "display_name": "base",
   "language": "python",
   "name": "python3"
  },
  "language_info": {
   "codemirror_mode": {
    "name": "ipython",
    "version": 3
   },
   "file_extension": ".py",
   "mimetype": "text/x-python",
   "name": "python",
   "nbconvert_exporter": "python",
   "pygments_lexer": "ipython3",
   "version": "3.9.12"
  },
  "vscode": {
   "interpreter": {
    "hash": "c27425c0941ffafee9a4a0aed1489cff1dade8563e50b3e6b2dc96aa592eb2f3"
   }
  }
 },
 "nbformat": 4,
 "nbformat_minor": 5
}
