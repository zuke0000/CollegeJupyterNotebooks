{
 "cells": [
  {
   "cell_type": "code",
   "execution_count": 126,
   "source": [
    "class Euler:\r\n",
    "    def __init__(self):\r\n",
    "        pass   \r\n",
    "    \r\n",
    "    def step(self,ode,t,dt,u_0):\r\n",
    "        u_1 = u_0 + dt*ode.rhs(t,u_0)\r\n",
    "        return u_1\r\n",
    "    \r\n",
    "class EulerCromer:\r\n",
    "    def __init__(self):\r\n",
    "        pass   \r\n",
    "    \r\n",
    "    def step(self,ode,t,dt,u_0):\r\n",
    "        rhs_new = ode.rhs(t,u_0)\r\n",
    "        \r\n",
    "        v_new = u_0[1] + dt*rhs_new[1]\r\n",
    "        x_new = u_0[0] + dt*v_new\r\n",
    "        \r\n",
    "        u_1 = np.array((x_new, v_new))\r\n",
    "        return u_1\r\n",
    "\r\n",
    "class oscilator:\r\n",
    "    def __init__(self,g=-9.81, c = 0, m = 1):\r\n",
    "        self.n_dof = 4\r\n",
    "        self.g = g\r\n",
    "        self.c = c\r\n",
    "        self.m = m\r\n",
    "\r\n",
    "    \r\n",
    "    def rhs(self,t,u):\r\n",
    "        # u is [x,v]\r\n",
    "        dudt = np.zeros(2)\r\n",
    "        dudt[0] = u[1]\r\n",
    "        dudt[1] = -u[0]\r\n",
    "\r\n",
    "        return dudt\r\n",
    "\r\n",
    "class Integrator:\r\n",
    "    def __init__(self,ode,method):\r\n",
    "        self.ode = ode\r\n",
    "        self.method = method\r\n",
    "        self.calc_energies = []\r\n",
    "        \r\n",
    "    def integrate(self,interval,dt,u_0):\r\n",
    "        t_0 = interval[0]\r\n",
    "        t_end = interval[1]\r\n",
    "        \r\n",
    "        times = [t_0]\r\n",
    "        states = [u_0]\r\n",
    "\r\n",
    "        #calculated_energy = (1/2)*u_0[1]**2 + (1/2)*u_0[0]**2 - (1/2)\r\n",
    "        #self.calc_energies.append(calculated_energy)\r\n",
    "        \r\n",
    "        t = t_0\r\n",
    "        while t<t_end:\r\n",
    "            dt_ = min(dt,t_end-t)\r\n",
    "            \r\n",
    "            \r\n",
    "            \r\n",
    "            u_1 = self.method.step(self.ode,t,dt_,u_0)\r\n",
    "            \r\n",
    "            t = t + dt_\r\n",
    "            u_0 = u_1\r\n",
    "            \r\n",
    "            calculated_energy = np.absolute((1/2)*u_0[1]**2 + (1/2)*u_0[0]**2 - (1/2))\r\n",
    "            avg_array = np.copy(self.calc_energies)\r\n",
    "            avg_array = np.append(avg_array, calculated_energy)\r\n",
    "            averaged_energy = np.average(avg_array)\r\n",
    "            self.calc_energies.append(calculated_energy)\r\n",
    "\r\n",
    "            times.append(t)\r\n",
    "            states.append(u_1)\r\n",
    "            \r\n",
    "        return np.array(times),np.array(states), calculated_energy"
   ],
   "outputs": [],
   "metadata": {}
  },
  {
   "cell_type": "code",
   "execution_count": 129,
   "source": [
    "# problem 2: Conservation of energy\r\n",
    "import numpy as np\r\n",
    "import matplotlib.pyplot as plt\r\n",
    "\r\n",
    "osc = oscilator()\r\n",
    "method = Euler()\r\n",
    "integrator = Integrator(osc,method)\r\n",
    "\r\n",
    "t_0 = 0.0\r\n",
    "t_end = 100#2*np.pi\r\n",
    "dt = 0.01\r\n",
    "u_start = [1,0] # x, v\r\n",
    "\r\n",
    "delta_t = np.array([1e-5, 1e-4, 1e-3, 1e-2, 1e-1])\r\n",
    "errors = []\r\n",
    "\r\n",
    "for step in delta_t:\r\n",
    "    dt = step\r\n",
    "    t_end = step*2\r\n",
    "    t,u, energies = integrator.integrate([t_0,t_end],dt,np.array(u_start))\r\n",
    "    errors.append(energies)\r\n",
    "#t,u, energies = integrator.integrate([t_0,t_end],dt,np.array(u_start))\r\n",
    "\r\n",
    "\r\n",
    "plt.loglog(delta_t,errors)\r\n",
    "plt.title('EulerCromer energy error')\r\n",
    "plt.ylabel('Energy')\r\n",
    "plt.xlabel('delta T')\r\n"
   ],
   "outputs": [
    {
     "output_type": "execute_result",
     "data": {
      "text/plain": [
       "Text(0.5, 0, 'delta T')"
      ]
     },
     "metadata": {},
     "execution_count": 129
    }
   ],
   "metadata": {}
  },
  {
   "cell_type": "markdown",
   "source": [
    "- euler v at current time (u + du)\n",
    "\n",
    "- eulercrome computes v at next time step (calculate rhs), new v = old + rhs * time\n"
   ],
   "metadata": {},
   "attachments": {}
  },
  {
   "cell_type": "code",
   "execution_count": 128,
   "source": [
    "errors"
   ],
   "outputs": [
    {
     "output_type": "execute_result",
     "data": {
      "text/plain": [
       "[1.000000082740371e-10,\n",
       " 9.999999661669534e-09,\n",
       " 9.999964999951594e-07,\n",
       " 9.996500249997986e-05,\n",
       " 0.009652495000000039]"
      ]
     },
     "metadata": {},
     "execution_count": 128
    }
   ],
   "metadata": {}
  },
  {
   "cell_type": "markdown",
   "source": [],
   "metadata": {}
  }
 ],
 "metadata": {
  "kernelspec": {
   "name": "python3",
   "display_name": "Python 3.9.12 64-bit ('base': conda)"
  },
  "language_info": {
   "codemirror_mode": {
    "name": "ipython",
    "version": 3
   },
   "file_extension": ".py",
   "mimetype": "text/x-python",
   "name": "python",
   "nbconvert_exporter": "python",
   "pygments_lexer": "ipython3",
   "version": "3.9.12"
  },
  "orig_nbformat": 4,
  "vscode": {
   "interpreter": {
    "hash": "6fb045e0794b49a94e0fb4df5d6e6b5607c8e635c915d714616e7ab91521d5b8"
   }
  },
  "interpreter": {
   "hash": "949183bae10d6f6601199a92cdca330a95f61ba4d882df6dff7be328bb4fbfab"
  }
 },
 "nbformat": 4,
 "nbformat_minor": 2
}