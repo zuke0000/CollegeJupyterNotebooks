{
 "cells": [
  {
   "cell_type": "code",
   "execution_count": 1,
   "metadata": {},
   "outputs": [],
   "source": [
    "class Euler:\n",
    "    def __init__(self):\n",
    "        pass   \n",
    "    \n",
    "    def step(self,ode,t,dt,u_0):\n",
    "        u_1 = u_0 + dt*ode.rhs(t,u_0)\n",
    "        return u_1\n",
    "    \n",
    "class EulerCromer:\n",
    "    def __init__(self):\n",
    "        pass   \n",
    "    \n",
    "    def step(self,ode,t,dt,u_0):\n",
    "        split = ode.n_bodies * 2\n",
    "        rhs_old = ode.rhs(t,u_0)\n",
    "        rhs_new = ode.rhs(t+dt, u_0)\n",
    "        \n",
    "        vel_new = u_0[split:] + dt*rhs_new[split:]\n",
    "        pos_new = u_0[:split] + dt*vel_new\n",
    "        u_1 = np.concatenate((pos_new, vel_new))\n",
    "        return u_1\n",
    "\n",
    "class ParticleMotion2DWithDrag:\n",
    "    \n",
    "    # Do you need other keyword arguments here?\n",
    "    def __init__(self,g=-9.81, c = 0, m = 1):\n",
    "        self.n_dof = 4\n",
    "        self.g = g\n",
    "        self.c = c\n",
    "        self.m = m\n",
    "\n",
    "    \n",
    "    def rhs(self,t,u):\n",
    "        dudt = np.zeros(2)\n",
    "        dudt[0] = u[1]\n",
    "        dudt[1] = -u[0]\n",
    "\n",
    "        return dudt\n",
    "\n",
    "class Integrator:\n",
    "    def __init__(self,ode,method):\n",
    "        self.ode = ode\n",
    "        self.method = method\n",
    "        \n",
    "    def integrate(self,interval,dt,u_0):\n",
    "        t_0 = interval[0]\n",
    "        t_end = interval[1]\n",
    "        \n",
    "        times = [t_0]\n",
    "        states = [u_0]\n",
    "        \n",
    "        t = t_0\n",
    "        while t<t_end:\n",
    "            dt_ = min(dt,t_end-t)\n",
    "            u_1 = self.method.step(self.ode,t,dt_,u_0)\n",
    "            t = t + dt_\n",
    "            u_0 = u_1\n",
    "            \n",
    "            times.append(t)\n",
    "            states.append(u_1)\n",
    "            \n",
    "        return np.array(times),np.array(states)"
   ]
  },
  {
   "cell_type": "code",
   "execution_count": null,
   "metadata": {},
   "outputs": [],
   "source": [
    "# problem 2: Conservation of energy\n",
    "import numpy as np\n",
    "\n",
    "\n",
    "\n",
    "x0=1\n",
    "v0=0\n",
    "E = (1/2)v**2 + (1/2)x**2\n",
    "E_true = (1/2)\n",
    "\n",
    "import matplotlib.pyplot as plt\n",
    "\n",
    "pm = ParticleMotion2DWithDrag()\n",
    "method = EulerCromer()\n",
    "integrator = Integrator(pm,method)\n",
    "\n",
    "t_0 = 0.0\n",
    "t_end = 100\n",
    "dt = 0.01\n",
    "particles_u = np.array([0,100,0,0,0,0,0,10])\n",
    "t,u = integrator.integrate([t_0,t_end],dt,np.array(particles_u))\n",
    "\n",
    "plt.plot(u[:,1],u[:,3])\n"
   ]
  },
  {
   "attachments": {},
   "cell_type": "markdown",
   "metadata": {},
   "source": [
    "- euler v at current time (u + du)\n",
    "\n",
    "- eulercrome computes v at next time step (calculate rhs), new v = old + rhs * time\n"
   ]
  },
  {
   "cell_type": "markdown",
   "metadata": {},
   "source": []
  }
 ],
 "metadata": {
  "kernelspec": {
   "display_name": "base",
   "language": "python",
   "name": "python3"
  },
  "language_info": {
   "codemirror_mode": {
    "name": "ipython",
    "version": 3
   },
   "file_extension": ".py",
   "mimetype": "text/x-python",
   "name": "python",
   "nbconvert_exporter": "python",
   "pygments_lexer": "ipython3",
   "version": "3.7.3"
  },
  "orig_nbformat": 4,
  "vscode": {
   "interpreter": {
    "hash": "6fb045e0794b49a94e0fb4df5d6e6b5607c8e635c915d714616e7ab91521d5b8"
   }
  }
 },
 "nbformat": 4,
 "nbformat_minor": 2
}
