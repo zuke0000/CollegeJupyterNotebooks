{
 "cells": [
  {
   "cell_type": "code",
   "execution_count": 21,
   "metadata": {},
   "outputs": [],
   "source": [
    "class Euler:\n",
    "    def __init__(self):\n",
    "        pass   \n",
    "    \n",
    "    def step(self,ode,t,dt,u_0):\n",
    "        u_1 = u_0 + dt*ode.rhs(t,u_0)\n",
    "        return u_1\n",
    "    \n",
    "class EulerCromer:\n",
    "    def __init__(self):\n",
    "        pass   \n",
    "    \n",
    "    def step(self,ode,t,dt,u_0):\n",
    "        rhs_new = ode.rhs(t,u_0)\n",
    "        \n",
    "        v_new = u_0[1] + dt*rhs_new[1]\n",
    "        x_new = u_0[0] + dt*v_new\n",
    "        \n",
    "        u_1 = np.array((x_new, v_new))\n",
    "        return u_1\n",
    "\n",
    "class oscilator:\n",
    "    def __init__(self,g=-9.81, c = 0, m = 1):\n",
    "        self.n_dof = 4\n",
    "        self.g = g\n",
    "        self.c = c\n",
    "        self.m = m\n",
    "\n",
    "    \n",
    "    def rhs(self,t,u):\n",
    "        # u is [x,v]\n",
    "        dudt = np.zeros(2)\n",
    "        dudt[0] = u[1]\n",
    "        dudt[1] = -u[0]\n",
    "\n",
    "        return dudt\n",
    "\n",
    "class Integrator:\n",
    "    def __init__(self,ode,method):\n",
    "        self.ode = ode\n",
    "        self.method = method\n",
    "        self.calc_energies = []\n",
    "        \n",
    "    def integrate(self,interval,dt,u_0):\n",
    "        t_0 = interval[0]\n",
    "        t_end = interval[1]\n",
    "        \n",
    "        times = [t_0]\n",
    "        states = [u_0]\n",
    "\n",
    "        #calculated_energy = (1/2)*u_0[1]**2 + (1/2)*u_0[0]**2 - (1/2)\n",
    "        #self.calc_energies.append(calculated_energy)\n",
    "        \n",
    "        t = t_0\n",
    "        while t<t_end:\n",
    "            dt_ = min(dt,t_end-t)\n",
    "            \n",
    "            \n",
    "            \n",
    "            u_1 = self.method.step(self.ode,t,dt_,u_0)\n",
    "            \n",
    "            t = t + dt_\n",
    "            u_0 = u_1\n",
    "            \n",
    "            calculated_energy = np.absolute((1/2)*u_0[1]**2 + (1/2)*u_0[0]**2 - (1/2))\n",
    "            avg_array = np.copy(self.calc_energies)\n",
    "            avg_array = np.append(avg_array, calculated_energy)\n",
    "            averaged_energy = np.average(avg_array)\n",
    "            self.calc_energies.append(calculated_energy)\n",
    "\n",
    "            times.append(t)\n",
    "            states.append(u_1)\n",
    "            \n",
    "        return np.array(times),np.array(states), np.array(self.calc_energies)"
   ]
  },
  {
   "cell_type": "code",
   "execution_count": 41,
   "metadata": {},
   "outputs": [
    {
     "data": {
      "text/plain": [
       "Text(0.5, 0, 'delta T')"
      ]
     },
     "execution_count": 41,
     "metadata": {},
     "output_type": "execute_result"
    },
    {
     "data": {
      "image/png": "[encoded data removed]",
      "text/plain": [
       "<Figure size 432x288 with 1 Axes>"
      ]
     },
     "metadata": {
      "needs_background": "light"
     },
     "output_type": "display_data"
    }
   ],
   "source": [
    "# problem 2: Conservation of energy\n",
    "import numpy as np\n",
    "import matplotlib.pyplot as plt\n",
    "\n",
    "osc = oscilator()\n",
    "method = Euler()\n",
    "integrator = Integrator(osc,method)\n",
    "\n",
    "t_0 = 0.0\n",
    "t_end = 100#2*np.pi\n",
    "dt = 0.01\n",
    "u_start = [1,0] # x, v\n",
    "\n",
    "delta_t = np.array([1e-4, 1e-3, 1e-2, 1e-1, 1e0])\n",
    "eulerErrors = []\n",
    "cronerErrors = []\n",
    "\n",
    "for step in delta_t:\n",
    "    dt = step\n",
    "    t_end = 2*np.pi\n",
    "    t,u, energies = integrator.integrate([t_0,t_end],dt,np.array(u_start))\n",
    "    eulerErrors.append(np.average(energies))\n",
    "\n",
    "method = EulerCromer()\n",
    "for step in delta_t:\n",
    "    dt = step\n",
    "    t_end = 2*np.pi\n",
    "    t,u, energies = integrator.integrate([t_0,t_end],dt,np.array(u_start))\n",
    "    cronerErrors.append(np.average(energies))\n",
    "\n",
    "\n",
    "#t,u, energies = integrator.integrate([t_0,t_end],dt,np.array(u_start))\n",
    "\n",
    "plt.loglog(delta_t,cronerErrors, label='Euler Cromer', )\n",
    "plt.loglog(delta_t,eulerErrors, '-.', label='Euler', )\n",
    "\n",
    "plt.legend()\n",
    "plt.title('Energy error')\n",
    "plt.ylabel('Energy')\n",
    "plt.xlabel('delta T')\n"
   ]
  },
  {
   "attachments": {},
   "cell_type": "markdown",
   "metadata": {},
   "source": [
    "- euler v at current time (u + du)\n",
    "\n",
    "- eulercrome computes v at next time step (calculate rhs), new v = old + rhs * time\n"
   ]
  },
  {
   "cell_type": "code",
   "execution_count": 56,
   "metadata": {},
   "outputs": [
    {
     "data": {
      "text/plain": [
       "Text(0, 0.5, 'Temperature')"
      ]
     },
     "execution_count": 56,
     "metadata": {},
     "output_type": "execute_result"
    },
    {
     "data": {
      "image/png": "[encoded data removed]",
      "text/plain": [
       "<Figure size 432x288 with 1 Axes>"
      ]
     },
     "metadata": {
      "needs_background": "light"
     },
     "output_type": "display_data"
    }
   ],
   "source": [
    "# Problem 3: cooling constant\n",
    "\n",
    "# 1\n",
    "def rhs(r, T, T_s):\n",
    "    dTdt = -r * (T - T_s)\n",
    "    return dTdt\n",
    "T_0 = 100\n",
    "T_s = 0\n",
    "r = 1\n",
    "\n",
    "temps = [T_0]\n",
    "times = [0]\n",
    "\n",
    "t_start = 0\n",
    "t_end = 10\n",
    "dt = 0.1\n",
    "loops = t_end / dt\n",
    "\n",
    "for i in range(int(loops)):\n",
    "    change = rhs(r,temps[-1], T_s)\n",
    "    currentTemp = temps[-1] + change * dt\n",
    "    temps.append(currentTemp)\n",
    "    times.append(i*dt)\n",
    "    \n",
    "plt.plot(times,temps)\n",
    "plt.title('Cooling with dt=0.1')\n",
    "plt.xlabel('Time')\n",
    "plt.ylabel('Temperature')"
   ]
  },
  {
   "cell_type": "code",
   "execution_count": 60,
   "metadata": {},
   "outputs": [
    {
     "data": {
      "text/plain": [
       "Text(0, 0.5, 'Temperature')"
      ]
     },
     "execution_count": 60,
     "metadata": {},
     "output_type": "execute_result"
    },
    {
     "data": {
      "image/png": "[encoded data removed]",
      "text/plain": [
       "<Figure size 432x288 with 1 Axes>"
      ]
     },
     "metadata": {
      "needs_background": "light"
     },
     "output_type": "display_data"
    }
   ],
   "source": [
    "# 2\n",
    "def rhs(r, T, T_s):\n",
    "    dTdt = -r * (T - T_s)\n",
    "    return dTdt\n",
    "T_0 = 87\n",
    "T_s = 17\n",
    "r = 0.3\n",
    "\n",
    "temps = [T_0]\n",
    "times = [0]\n",
    "\n",
    "t_start = 0\n",
    "t_end = 10\n",
    "dt = 0.01\n",
    "loops = t_end / dt\n",
    "\n",
    "for i in range(int(loops)):\n",
    "    change = rhs(r,temps[-1], T_s)\n",
    "    currentTemp = temps[-1] + change * dt\n",
    "    temps.append(currentTemp)\n",
    "    times.append(i*dt)\n",
    "    \n",
    "plt.plot(times,temps)\n",
    "plt.title('Cooling with dt=0.01')\n",
    "plt.xlabel('Time')\n",
    "plt.ylabel('Temperature')"
   ]
  },
  {
   "cell_type": "code",
   "execution_count": 75,
   "metadata": {},
   "outputs": [
    {
     "data": {
      "text/plain": [
       "Text(0, 0.5, 'Temperature')"
      ]
     },
     "execution_count": 75,
     "metadata": {},
     "output_type": "execute_result"
    },
    {
     "data": {
      "image/png": "[encoded data removed]",
      "text/plain": [
       "<Figure size 432x288 with 1 Axes>"
      ]
     },
     "metadata": {
      "needs_background": "light"
     },
     "output_type": "display_data"
    }
   ],
   "source": [
    "# 3\n",
    "def rhs(r, T, T_s):\n",
    "    dTdt = -r * (T - T_s)\n",
    "    return dTdt\n",
    "T_0 = 87\n",
    "T_s = 17\n",
    "r = 0.3\n",
    "\n",
    "temps = [T_0]\n",
    "temps_cooled = [T_0 - 5]\n",
    "times = [0]\n",
    "\n",
    "t_start = 0\n",
    "t_end = 0.6\n",
    "dt = 0.001\n",
    "loops = t_end / dt\n",
    "cream_added = False\n",
    "# add cream at 80\n",
    "for i in range(int(loops)):\n",
    "    change = rhs(r,temps[-1], T_s)\n",
    "    currentTemp = temps[-1] + change * dt\n",
    "    if (currentTemp <= 80 and cream_added==False):\n",
    "        currentTemp -= 5\n",
    "        cream_added = True\n",
    "    temps.append(currentTemp)\n",
    "    times.append(i*dt)\n",
    "\n",
    "# add cream at start\n",
    "for i in range(int(loops)):\n",
    "    change = rhs(r,temps_cooled[-1], T_s)\n",
    "    currentTemp = temps_cooled[-1] + change * dt\n",
    "    temps_cooled.append(currentTemp)\n",
    "\n",
    "plt.plot(times,temps, label='Cream Added at 80C')\n",
    "plt.plot(times,temps_cooled, label='Cream Added at start')\n",
    "plt.plot([0,0.6],[75,75],label='Comfortable Temp' )\n",
    "plt.legend()\n",
    "plt.title('Cooling')\n",
    "plt.xlabel('Time')\n",
    "plt.ylabel('Temperature')"
   ]
  },
  {
   "cell_type": "code",
   "execution_count": null,
   "metadata": {},
   "outputs": [],
   "source": []
  }
 ],
 "metadata": {
  "interpreter": {
   "hash": "949183bae10d6f6601199a92cdca330a95f61ba4d882df6dff7be328bb4fbfab"
  },
  "kernelspec": {
   "display_name": "Python 3.9.12 64-bit ('base': conda)",
   "name": "python3"
  },
  "language_info": {
   "codemirror_mode": {
    "name": "ipython",
    "version": 3
   },
   "file_extension": ".py",
   "mimetype": "text/x-python",
   "name": "python",
   "nbconvert_exporter": "python",
   "pygments_lexer": "ipython3",
   "version": "3.9.12"
  },
  "orig_nbformat": 4,
  "vscode": {
   "interpreter": {
    "hash": "6fb045e0794b49a94e0fb4df5d6e6b5607c8e635c915d714616e7ab91521d5b8"
   }
  }
 },
 "nbformat": 4,
 "nbformat_minor": 2
}
