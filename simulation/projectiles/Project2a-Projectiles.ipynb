{
 "cells": [
  {
   "cell_type": "markdown",
   "id": "066c4d10",
   "metadata": {},
   "source": [
    "# Project 2a - Projectile Motion\n",
    "## Due February 2nd\n",
    "\n",
    "### Basic Newtonian motion\n",
    "Among the simplest dynamical systems that one can consider that is still substantially non-trivial is that of projectile motion.  We'll begin by considering simple one-dimensional motion, in which an object under the influence of gravity travels straight up and straight down.  We seek its position as a function of time, $z(t)$.  Additionally, we begin with perfect knowledge of the position of the object at time $t=0$, such that $z(0)=z_0$, and also perfect knowledge of its velocity $v(t)$ at time $t=0$, $v(0)=v_0$.    \n",
    "\n",
    "Newton's first law tells us that\n",
    "$$\n",
    "F = ma,\n",
    "$$\n",
    "with $F$ the force, $m$ the mass, and $a$ the acceleration of the object.  A reasonable approximation to the gravitational force while on earth's surface is \n",
    "$$\n",
    "F_g = mg,\n",
    "$$\n",
    "with $g$ the gravitational constant of $g=-9.81$ms$^{-1}$.  As such, after some simplification, we have that \n",
    "$$\n",
    "a = g.\n",
    "$$\n",
    "The acceleration is the time-derivative of velocity, and velocity is the time-derivative of position, which gives us the system of equations\n",
    "$$\n",
    "\\frac{\\partial z}{\\partial t} = v(t)\n",
    "$$\n",
    "$$\n",
    "\\frac{\\partial v}{\\partial t} = g.\n",
    "$$\n",
    "We can solve this system easily with elementary integration.  Beginning with the second, we have that\n",
    "$$\n",
    "v(t) = g t + v_0\n",
    "$$\n",
    "$$\n",
    "z(t) = \\frac{1}{2} g t^2 + v_0 t + z_0\n",
    "$$\n",
    "Let's code up some example trajectories.  The most interesting ones occur when $v_0$ is positive.  **Modify the code below such that the final time occurs exactly when the object hits the ground (i.e. $t_f$ such $z(t_f) = z_0$).\n",
    "\n"
   ]
  },
  {
   "cell_type": "code",
   "execution_count": 1,
   "id": "944ee369",
   "metadata": {},
   "outputs": [
    {
     "data": {
      "text/plain": [
       "Text(0, 0.5, 'v(t)')"
      ]
     },
     "execution_count": 1,
     "metadata": {},
     "output_type": "execute_result"
    },
    {
     "data": {
      "image/png": "[encoded data removed]",
      "text/plain": [
       "<Figure size 432x288 with 2 Axes>"
      ]
     },
     "metadata": {
      "needs_background": "light"
     },
     "output_type": "display_data"
    }
   ],
   "source": [
    "import numpy as np\n",
    "import matplotlib.pyplot as plt\n",
    "\n",
    "z0 = 0.0    # Initial position of the particle\n",
    "v0 = 5.0    # Initial velocity of the particle (positive is up)\n",
    "g = -9.81   # Gravitational acceleration\n",
    "\n",
    "t = np.linspace(0,-2*v0/g,10001)       # times to evaluate at\n",
    "v = v0 + g*t\n",
    "z = z0 + v0*t + 0.5*g*t**2       # solution for position\n",
    "\n",
    "fig,ax = plt.subplots()\n",
    "ax.plot(t,z,'k-',label='z(t)')\n",
    "ax.set_xlabel('t')\n",
    "ax.set_ylabel('z(t)')\n",
    "ax.legend()\n",
    "ax2 = ax.twinx()\n",
    "ax2.plot(t,v,'r--',label='v(t)')\n",
    "ax2.set_ylabel('v(t)')"
   ]
  },
  {
   "cell_type": "markdown",
   "id": "47a0e7d8",
   "metadata": {},
   "source": [
    "### Newton breaks down\n",
    "Unfortunately, analytical solution techniques such as the one used above are only plausible for the vast minority of physical systems.  For example, consider the case just like the previous one, but in which atmospheric drag operates on the particle in opposition to its velocity.  One such common model is\n",
    "$$\n",
    "F = m g - c v^2 \\frac{v}{|v|},\n",
    "$$\n",
    "where the lattermost fraction ensures that the drag force is in the opposite direction to velocity.  This leads to the system of equations\n",
    "$$\n",
    "\\frac{\\partial z}{\\partial t} = v(t)\n",
    "$$\n",
    "$$\n",
    "\\frac{\\partial v}{\\partial t} = g - \\frac{c}{m} v^2 \\frac{v}{|v|} .\n",
    "$$\n",
    "This equation is non-linear and non-separable, and it has no solution that can be expressed in terms of elementary functions (polynomials, cosines, etc.).  How can we solve this?  The answer is to relax the definition of the derivative, such that we are working with finite quanities.  Specifically, we can make the approximation\n",
    "$$\n",
    "\\frac{\\partial v}{\\partial t} \\approx \\frac{v_{k+1} - v_k}{\\Delta t}.\n",
    "$$\n",
    "(A similar approximation can be made for the position).  Indeed, we can transform the velocity equation into something that we can evaluate by evaluating the right hand side $f(v,t) = g - \\frac{c}{m} v^2 \\frac{v}{|v|}$ at some discrete time.  A common choice referred to as *Euler's method* is \n",
    "$$\n",
    "\\frac{v_{k+1} - v_k}{\\Delta t} = f(v_k,t_k).\n",
    "$$\n",
    "Note that we can assume that we already know $v_k$, either because $k=0$ or because we have iteratively solved the above expression for $v_k$.  As a result, we can very easily solve for $v_{k+1}$\n",
    "$$\n",
    "v_{k+1} = v_k + \\Delta t \\left(g - \\frac{c}{m} v_k^2 \\frac{v_k}{|v_k|}\\right).\n",
    "$$\n",
    "Simultaneously, we also have that\n",
    "$$\n",
    "z_{k+1} = z_k + \\Delta t v_k.\n",
    "$$\n",
    "Taken together, we can simplify the system of equations into a single one vector-valued equation by writing \n",
    "$$\n",
    "\\mathbf{u}_{k+1} = \\mathbf{u}_k + \\Delta t \\mathcal{F}(\\mathbf{u}_k,t_k),\n",
    "$$\n",
    "with $\\mathbf{u}_k = [v_k,z_k]^T$ and \n",
    "$$\n",
    "\\mathcal{F}(\\mathbf{u}_k,t_k) = [g - \\frac{c}{m} v_k^2 \\frac{v_k}{|v_k|},v_k]^T\n",
    "$$\n",
    "(note that the superscript T means transpose, and this is there because we like working with column-vectors.  Also note the distinction between the calligraphic $\\mathcal{F}$, which represents the right hand side of the equation, and $F$, which is the force).\n",
    "\n",
    "**Implement Euler's method and approximately solve for the trajectory of the particle under different assumptions about $c/m$.**  For example, you might try launching a tissue paper at high velocity.  **Also, construct a simulation where you verify that the terminal velocity agrees with the algebraically derived value obtained by setting $\\frac{\\partial v}{\\partial t} = 0$.**"
   ]
  },
  {
   "cell_type": "code",
   "execution_count": null,
   "id": "a00fb8dd",
   "metadata": {},
   "outputs": [],
   "source": [
    "z0 = 0.0     # Initial position\n",
    "v0 = 5.0     # Initial velocity\n",
    "\n",
    "g = -9.81    # Gravitational acceleration\n",
    "m = 1.0      # Mass\n",
    "c = 1.0      # Drag coefficient\n",
    "\n",
    "\n",
    "dt = 0.1     # Time step \n",
    "\n",
    "u_0 = np.array([v0,z0])\n",
    "\n",
    "# right hand side\n",
    "def F(t,u_t):\n",
    "    v_t = u_t[0]\n",
    "    x_t = u_t[1]\n",
    "    return np.array([g - c/m*v_t**2*np.sign(v_t), v_t])\n",
    "\n",
    "# Initial and final times\n",
    "t = 0   \n",
    "t_end = 1.0\n",
    "\n",
    "# Record the solution through time\n",
    "u_t = np.copy(u_0)\n",
    "u_record = [u_0]\n",
    "t_record = [0.0]\n",
    "\n",
    "# Perform time-stepping\n",
    "while t<t_end:\n",
    "    # Update solution\n",
    "    u_next = u_t + dt*F(t,u_t)\n",
    "    u_t = u_next\n",
    "    \n",
    "    # Update time\n",
    "    t+=dt\n",
    "    \n",
    "    # Store solutions\n",
    "    u_record.append(np.copy(u_next))\n",
    "    t_record.append(t)\n",
    "\n",
    "# Convert lists to arrays\n",
    "u_record = np.array(u_record)\n",
    "t_record = np.array(t_record)\n",
    "\n",
    "\n",
    "fig,ax = plt.subplots()\n",
    "ax.plot(t_record,u_record[:,1],'k-',label='z(t)')\n",
    "ax.set_xlabel('t')\n",
    "ax.set_ylabel('z(t)')\n",
    "ax.legend()\n",
    "ax2 = ax.twinx()\n",
    "ax2.plot(t_record,u_record[:,0],'r-',label='v(t)')\n",
    "ax2.set_ylabel('v(t)')\n"
   ]
  },
  {
   "cell_type": "markdown",
   "id": "f4a73ad6",
   "metadata": {},
   "source": [
    "### Accuracy assessment\n",
    "The above code produces *an* answer.  But is it the right answer?  Recall that we made an approximation to the derivative, where we through away the assumption of infinitesimally small steps in favor of finite ones.  What are the implications of this choice?  It's difficult to know for problems where there is no analytical solution such as the one we just solved.  However, recall that for the case when $c=0$, we do have an analytical solution that we compare our *numerical solution* to, the parabolic solution that we found in the first part.\n",
    "\n",
    "#### Qualitative Assessment\n",
    "**For time steps, $\\Delta t\\in[10^{-2},\\ldots,10^{0}]$, plot the particle trajectory computed using Euler's method against the true solution derived in the first part of this notebook.  Does the error get worse or better with increasing $\\Delta t$?  Is there a distinction in the error in the computed velocity versus the computed position?  Why?**"
   ]
  },
  {
   "cell_type": "code",
   "execution_count": null,
   "id": "4d11dd25",
   "metadata": {},
   "outputs": [],
   "source": []
  },
  {
   "cell_type": "markdown",
   "id": "c2b580c3",
   "metadata": {},
   "source": [
    "#### Quantitative Assessment\n",
    "**For time steps, $\\Delta t\\in[10^{-5},\\ldots,10^{0}]$, take exactly one step with Euler's method and compute the difference between the true position and the computed position of the particle at that time.  Create a log-log plot (try matplotlib.pyplot.loglog) with $\\Delta t$ on the horizontal axis and the computed error on the vertical axis.  What is the approximate slope of this line?**\n",
    "\n"
   ]
  },
  {
   "cell_type": "code",
   "execution_count": null,
   "id": "2b61abbc",
   "metadata": {},
   "outputs": [],
   "source": []
  },
  {
   "cell_type": "markdown",
   "id": "2c9c6ef6",
   "metadata": {},
   "source": [
    "### Extension to 2D\n",
    "Of course, projectiles don't always just go straight up and down: it's often the case that we wish to have lateral motion.  Newton's laws still hold in this case\n",
    "$$\n",
    "\\mathbf{F} = m \\mathbf{a}\n",
    "$$\n",
    "where now both force and acceleration are 2D vectors rather than scalars.  In the absence of drag, $\\mathbf{F} = \\mathbf{F}_g = [0,mg]^T$, assuming the horizontal coordinate comes first.  Assuming once again that we have known initial position $\\mathbf{x}(0) = \\mathbf{x}_0$ and velocity $\\mathbf{v}(0) = \\mathbf{v}_0$, then there is an analytical solution that proceeds much like before\n",
    "$$\n",
    "\\mathbf{x}(t) = \\frac{1}{2}\\frac{\\mathbf{F}}{m} t^2 + \\mathbf{v}_0 t + \\mathbf{x}_0\n",
    "$$\n",
    "$$\n",
    "\\mathbf{v}(t) = \\frac{\\mathbf{F}}{m} t + \\mathbf{v}_0.\n",
    "$$\n",
    "Note that we use the notation $\\mathbf{x} = [x,z]^T$ and $\\mathbf{v} = [v_x,v_z]^T$ to represent the 2D vectors of position and velocity.\n"
   ]
  },
  {
   "cell_type": "code",
   "execution_count": null,
   "id": "66d74363",
   "metadata": {},
   "outputs": [],
   "source": [
    "m = 1\n",
    "g = -9.81\n",
    "x0 = np.array([[0,0]]).T\n",
    "v0 = np.array([[5.0,5.0]]).T\n",
    "F = np.array([[0,m*g]]).T\n",
    "\n",
    "t = np.linspace(0,1,11)\n",
    "x = (0.5*F/m*t**2 + v0*t + x0).T\n",
    "v = (F/m*t + v0).T\n",
    "\n",
    "fig,ax = plt.subplots()\n",
    "c = ax.quiver(x[:,0],x[:,1],v[:,0],v[:,1],t)\n",
    "ax.set_xlabel('x')\n",
    "ax.set_ylabel('z')\n",
    "plt.colorbar(c)\n",
    "plt.axis('equal')"
   ]
  },
  {
   "cell_type": "markdown",
   "id": "679679fb",
   "metadata": {},
   "source": [
    "We can solve this with Euler's method as well: it looks exactly the same as before, except now we have that\n",
    "\n",
    "$$\n",
    "\\mathbf{u}_k = [\\mathbf{x}_k,\\mathbf{v}_k]^T\n",
    "$$\n",
    "and \n",
    "$$\n",
    "\\mathcal{F}(\\mathbf{u}_k,t) = \\left[\\mathbf{v}_k,\\frac{\\mathbf{F}_k}{m}\\right]^T.\n",
    "$$\n",
    "However, while we're coding this up, we might as well code up the drag term as well, since it's really not so different.  This is similar to before, except that the drag force is now a vector\n",
    "$$\n",
    "\\mathbf{F}_d = -c |\\mathbf{v}| \\mathbf{v},\n",
    "$$ \n",
    "where $|\\mathbf{v}| = \\sqrt{\\mathbf{v} \\cdot \\mathbf{v}}$ is the norm of the velocity vector.  Note that this always works opposite to the velocity vector: there is no drag force in the $x$-direction if the $x$-component of the velocity is zero.  The total force is then\n",
    "$$\n",
    "\\mathbf{F} = \\mathbf{F}_g + \\mathbf{F}_d,\n",
    "$$\n",
    "or the sum of the gravitational and drag forces. \n",
    "\n",
    "**Implement Euler's method for the 2D particle motion equations.  Check that your implementation is correct against the analytical solution given above, neglecting drag.  Make a plot showing (a) the analytical trajectory (x-z as in the plot above) without drag, (b) the numerical solution without drag, and (c) the numerical solution for several different drag coefficients.**"
   ]
  },
  {
   "cell_type": "code",
   "execution_count": null,
   "id": "d938d0bd",
   "metadata": {},
   "outputs": [],
   "source": []
  }
 ],
 "metadata": {
  "kernelspec": {
   "display_name": "Python 3 (ipykernel)",
   "language": "python",
   "name": "python3"
  },
  "language_info": {
   "codemirror_mode": {
    "name": "ipython",
    "version": 3
   },
   "file_extension": ".py",
   "mimetype": "text/x-python",
   "name": "python",
   "nbconvert_exporter": "python",
   "pygments_lexer": "ipython3",
   "version": "3.9.12"
  }
 },
 "nbformat": 4,
 "nbformat_minor": 5
}
