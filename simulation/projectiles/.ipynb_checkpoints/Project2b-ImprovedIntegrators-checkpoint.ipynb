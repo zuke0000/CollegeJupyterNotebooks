{
 "cells": [
  {
   "cell_type": "markdown",
   "id": "d56ef548",
   "metadata": {},
   "source": [
    "# Project 2b - Projectile Motion : Improved Integrators and a unified interface\n",
    "\n",
    "## Due 2/9\n",
    "\n",
    "We have now seen a few different versions of the particle motion problem: one for 1D motion without drag, one for 1D motion with drag, and then an extension to 2D motion with drag.  All of these equations have something in common, which is that they can be written in the form\n",
    "$$\n",
    "\\frac{d \\mathbf{u}}{d t} = \\mathcal{F}(t,\\mathbf{u})\n",
    "$$\n",
    "with $\\mathbf{u}$ being a vector of state variables (for example, position and velocity in one or two or more directions), and $\\mathcal{F}$ representing the right hand sides of the equations of motion.  For example in 2D drag, we might write\n",
    "$$\n",
    "\\mathbf{u} = \\left[\\matrix{x \\\\ v_x \\\\ z \\\\ v_z}\\right]\n",
    "$$\n",
    "and \n",
    "$$\n",
    "\\mathcal{F}(t,\\mathbf{u}) = \\left[\\matrix{v_x \\\\ \n",
    "                                        -\\frac{c_d}{m} \\sqrt{v_x^2 + v_z^2} \\;v_x  \\\\\n",
    "                                        v_z \\\\\n",
    "                                        g -\\frac{c_d}{m} \\sqrt{v_x^2 + v_z^2} \\;v_z}\\right].\n",
    "$$\n",
    "Indeed, many important scenarios that we may wish to model, ranging from Newtonian physics to population dynamics and beyond fall within this framework.  Because we will be modelling many such systems, it will be helpful to develop a convenient framework for operating on such systems.  In particular, we would like to develop an object oriented framework for working with these problems so that we can reuse as much code as possible (while also keeping our code nice).  We will continue to modify these methods as we require additional functionality, but these will form a good start.  \n",
    "\n",
    "### A class for problem specification\n",
    "Our first task will be to create a python class representing our problem.  This doesn't really need to do much: all it really needs to return is the function $\\mathcal{F}(t,\\mathbf{u})$ and to store any information relevant to the class.  As an example, I've provided a class for the drag-free 1D particle motion equation.  **Create a new class using the existing one as a template that implements the 2D equations with drag.**  "
   ]
  },
  {
   "cell_type": "code",
   "execution_count": null,
   "id": "ed3ee426",
   "metadata": {},
   "outputs": [],
   "source": [
    "import numpy as np\n",
    "\n",
    "\n",
    "class ParticleMotion1D:\n",
    "    \"\"\" This is an example class for an ODE specification\"\"\"\n",
    "    \n",
    "    def __init__(self,g=-9.81):\n",
    "        \n",
    "        self.n_dof = 2\n",
    "        self.g = g\n",
    "        \n",
    "    def rhs(self,t,u):\n",
    "        # the right hand side of the ode (or $\\mathcal{F}(t,u)$)\n",
    "        dudt = np.zeros(self.n_dof)\n",
    "        dudt[0] = u[1]\n",
    "        dudt[1] = self.g\n",
    "        return dudt\n",
    "    \n",
    "class ParticleMotion2DWithDrag:\n",
    "    \n",
    "    # Do you need other keyword arguments here?\n",
    "    def __init__(self,g=-9.81):\n",
    "        pass\n",
    "    \n",
    "    def rhs(self,t,u):\n",
    "        pass\n",
    "    "
   ]
  },
  {
   "cell_type": "markdown",
   "id": "13a8cfbb",
   "metadata": {},
   "source": [
    "### A class for time stepping\n",
    "We will also be utilizing multiple different methods for performing numerical integration.  One simple choice is Euler's method.  A reasonable class for doing this might be\n",
    "\n"
   ]
  },
  {
   "cell_type": "code",
   "execution_count": null,
   "id": "abb9d62d",
   "metadata": {},
   "outputs": [],
   "source": [
    "class Euler:\n",
    "    def __init__(self):\n",
    "        pass   \n",
    "    \n",
    "    def step(self,ode,t,dt,u_0):\n",
    "        u_1 = u_0 + dt*ode.rhs(t,u_0)\n",
    "        return u_1"
   ]
  },
  {
   "cell_type": "markdown",
   "id": "9b3cf144",
   "metadata": {},
   "source": [
    "Note that there is no reference to particle motion or to any other particular problem specifically: all this requires is the current time, the desired time step, the initial state, and the object representing the problem.  Thus, one could easily use either my implementation of the simple 1D particle or your implementation of the 2D particle *with no modification to the code* (assuming that shapes are all correct, which is something one might wish to check).  This modularity is, obviously, highly desirable.  We can also view this class as a template for more performant time-stepping schemes such as the midpoint method or Runge-Kutta 4.  The midpoint method (or RK2) is defined as \n",
    "$$\n",
    "\\mathbf{u}_{n+1} = \\mathbf{u}_n + \\frac{\\Delta t}{2}(k_1 + k_2)\n",
    "$$\n",
    "$$\n",
    "k_1 = \\mathcal{F}(t,\\mathbf{u}_n)\n",
    "$$\n",
    "$$\n",
    "k_2 = \\mathcal{F}(t + \\frac{\\Delta t}{2}, \\mathbf{u}_n + \\frac{\\Delta t}{2} k_1)\n",
    "$$\n",
    "**Adapt the above class to implement RK2**\n",
    "\n"
   ]
  },
  {
   "cell_type": "code",
   "execution_count": null,
   "id": "037db6d3",
   "metadata": {},
   "outputs": [],
   "source": [
    "class RK2:\n",
    "    def __init__(self):\n",
    "        pass   \n",
    "    \n",
    "    def step(self,ode,t,dt,u_0):\n",
    "        # Do some stuff here\n",
    "        return u_1"
   ]
  },
  {
   "cell_type": "markdown",
   "id": "929d9cff",
   "metadata": {},
   "source": [
    "**Also implement RK4** (Gould Eqs. 3.59, 3.60)"
   ]
  },
  {
   "cell_type": "code",
   "execution_count": null,
   "id": "8d3ac429",
   "metadata": {},
   "outputs": [],
   "source": [
    "class RK4:\n",
    "    def __init__(self):\n",
    "        pass   \n",
    "    \n",
    "    def step(self,ode,t,dt,u_0):\n",
    "        # Do some stuff here\n",
    "        return u_1"
   ]
  },
  {
   "cell_type": "markdown",
   "id": "d2f84d38",
   "metadata": {},
   "source": [
    "Finally, the typical use case for these objects is to perform an integration over multiple time steps, and its nice to contain such operations in a class.  A reasonable implementation of such a thing might look like:"
   ]
  },
  {
   "cell_type": "code",
   "execution_count": null,
   "id": "2663cb9c",
   "metadata": {},
   "outputs": [],
   "source": [
    "class Integrator:\n",
    "    def __init__(self,ode,method):\n",
    "        self.ode = ode\n",
    "        self.method = method\n",
    "        \n",
    "    def integrate(self,interval,dt,u_0):\n",
    "        t_0 = interval[0]\n",
    "        t_end = interval[1]\n",
    "        \n",
    "        times = [t_0]\n",
    "        states = [u_0]\n",
    "        \n",
    "        t = t_0\n",
    "        while t<t_end:\n",
    "            dt_ = min(dt,t_end-t)\n",
    "            u_1 = self.method.step(self.ode,t,dt_,u_0)\n",
    "            t = t + dt_\n",
    "            u_0 = u_1\n",
    "            \n",
    "            times.append(t)\n",
    "            states.append(u_1)\n",
    "            \n",
    "        return np.array(times),np.array(states)"
   ]
  },
  {
   "cell_type": "markdown",
   "id": "6a575129",
   "metadata": {},
   "source": [
    "No modifications to the above code are needed at this stage, but I would like you to **go through it, line by line, and add comments describing what all of the elements are doing**.  This should be straightforward, as I hope that it looks very much like some code that you've already written.  \n",
    "\n",
    "An example of all of these components working together is"
   ]
  },
  {
   "cell_type": "code",
   "execution_count": null,
   "id": "0ffa4111",
   "metadata": {},
   "outputs": [],
   "source": [
    "pm = ParticleMotion1D()\n",
    "method = Euler()\n",
    "integrator = Integrator(pm,method)\n",
    "\n",
    "t_0 = 0.0\n",
    "t_end = 1.0\n",
    "dt = 0.01\n",
    "z_0 = 5.0\n",
    "v_0 = 5.0\n",
    "t,u = integrator.integrate([t_0,t_end],dt,np.array([z_0,v_0]))\n",
    "\n",
    "plt.plot(t,u[:,0])"
   ]
  },
  {
   "cell_type": "markdown",
   "id": "4ec17078",
   "metadata": {},
   "source": [
    "**Verify your implementations by testing similar code to the above block with all different combinations of problems and time stepping schemes.**  Note that if your improved time-stepping schemes are working, a particle integrated using RK2 or RK4 with relatively large time steps (say $\\Delta t=0.1$ should end up in a very similar place to one integrated with Euler's method with a very small time step (which is implemented correctly) (say $\\Delta t=.001$)."
   ]
  }
 ],
 "metadata": {
  "kernelspec": {
   "display_name": "Python 3 (ipykernel)",
   "language": "python",
   "name": "python3"
  },
  "language_info": {
   "codemirror_mode": {
    "name": "ipython",
    "version": 3
   },
   "file_extension": ".py",
   "mimetype": "text/x-python",
   "name": "python",
   "nbconvert_exporter": "python",
   "pygments_lexer": "ipython3",
   "version": "3.9.12"
  }
 },
 "nbformat": 4,
 "nbformat_minor": 5
}
