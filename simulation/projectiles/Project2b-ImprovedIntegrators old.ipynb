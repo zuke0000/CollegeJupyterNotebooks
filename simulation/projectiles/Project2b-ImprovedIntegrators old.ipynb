{
 "cells": [
  {
   "cell_type": "markdown",
   "source": [
    "# Project 2b - Projectile Motion : Improved Integrators and a unified interface\r\n",
    "\r\n",
    "## Due 2/9\r\n",
    "We have now seen a few different versions of the particle motion problem: one for 1D motion without drag, one for 1D motion with drag, and then an extension to 2D motion with drag.  All of these equations have something in common, which is that they can be written in the form\r\n",
    "$$\r\n",
    "\\frac{d \\mathbf{u}}{d t} = \\mathcal{F}(t,\\mathbf{u})\r\n",
    "$$\r\n",
    "with $\\mathbf{u}$ being a vector of state variables (for example, position and velocity in one or two or more directions), and $\\mathcal{F}$ representing the right hand sides of the equations of motion.  For example in 2D drag, we might write\r\n",
    "\r\n",
    "$$\r\n",
    "\\mathbf{u} = \\left[\\matrix{x \\\\ v_x \\\\ z \\\\ v_z}\\right]\r\n",
    "$$\r\n",
    "\r\n",
    "and \r\n",
    "$$\r\n",
    "\\mathcal{F}(t,\\mathbf{u}) = \\left[\\matrix{v_x \\\\ \r\n",
    "                                        -\\frac{c_d}{m} \\sqrt{v_x^2 + v_z^2} \\;v_x  \\\\\r\n",
    "                                        v_z \\\\\r\n",
    "                                        g -\\frac{c_d}{m} \\sqrt{v_x^2 + v_z^2} \\;v_z}\\right].\r\n",
    "$$\r\n",
    "Indeed, many important scenarios that we may wish to model, ranging from Newtonian physics to population dynamics and beyond fall within this framework.  Because we will be modelling many such systems, it will be helpful to develop a convenient framework for operating on such systems.  In particular, we would like to develop an object oriented framework for working with these problems so that we can reuse as much code as possible (while also keeping our code nice).  We will continue to modify these methods as we require additional functionality, but these will form a good start.  \r\n",
    "\r\n",
    "### A class for problem specification\r\n",
    "Our first task will be to create a python class representing our problem.  This doesn't really need to do much: all it really needs to return is the function $\\mathcal{F}(t,\\mathbf{u})$ and to store any information relevant to the class.  As an example, I've provided a class for the drag-free 1D particle motion equation.  **Create a new class using the existing one as a template that implements the 2D equations with drag.**  "
   ],
   "metadata": {}
  },
  {
   "cell_type": "code",
   "execution_count": 27,
   "source": [
    "import numpy as np\r\n",
    "import matplotlib.pyplot as plt\r\n",
    "\r\n",
    "class ParticleMotion1D:\r\n",
    "    \"\"\" This is an example class for an ODE specification\"\"\"\r\n",
    "    \r\n",
    "    def __init__(self,g=-9.81):\r\n",
    "        \r\n",
    "        self.n_dof = 2\r\n",
    "        self.g = g\r\n",
    "        \r\n",
    "    def rhs(self,t,u):\r\n",
    "        # the right hand side of the ode (or $\\mathcal{F}(t,u)$)\r\n",
    "        dudt = np.zeros(self.n_dof)\r\n",
    "        dudt[0] = u[1]\r\n",
    "        dudt[1] = self.g\r\n",
    "        return dudt\r\n",
    "    \r\n",
    "class ParticleMotion2DWithDrag:\r\n",
    "    \r\n",
    "    # Do you need other keyword arguments here?\r\n",
    "    def __init__(self,g=-9.81):\r\n",
    "        self.n_dot = 2\r\n",
    "        self.c = 0.\r\n",
    "        \r\n",
    "        pass\r\n",
    "    \r\n",
    "    def rhs(self,t,u):\r\n",
    "        dudt = np.zeros(self.n_dot)\r\n",
    "        dudt[0] = u[1]\r\n",
    "        dudt[1] = (-self.c / self.a)*u[1]/np.sqrt(u[1]**2+u[3]**2)*u[1]\r\n",
    "        dudt[2] = u[3]\r\n",
    "        dudt[3] = self.g + (-self.c/self.a)*(u[3]/np.sqrt(u[1]**2))\r\n",
    "\r\n",
    "        pass\r\n",
    "    "
   ],
   "outputs": [],
   "metadata": {}
  },
  {
   "cell_type": "markdown",
   "source": [
    "### A class for time stepping\n",
    "We will also be utilizing multiple different methods for performing numerical integration.  One simple choice is Euler's method.  A reasonable class for doing this might be\n",
    "\n"
   ],
   "metadata": {}
  },
  {
   "cell_type": "code",
   "execution_count": 28,
   "source": [
    "class Euler:\r\n",
    "    def __init__(self):\r\n",
    "        pass   \r\n",
    "    \r\n",
    "    def step(self,ode,t,dt,u_0):\r\n",
    "        u_1 = u_0 + dt*ode.rhs(t,u_0)\r\n",
    "        return u_1"
   ],
   "outputs": [],
   "metadata": {}
  },
  {
   "cell_type": "markdown",
   "source": [
    "Note that there is no reference to particle motion or to any other particular problem specifically: all this requires is the current time, the desired time step, the initial state, and the object representing the problem.  Thus, one could easily use either my implementation of the simple 1D particle or your implementation of the 2D particle *with no modification to the code* (assuming that shapes are all correct, which is something one might wish to check).  This modularity is, obviously, highly desirable.  We can also view this class as a template for more performant time-stepping schemes such as the midpoint method or Runge-Kutta 4.  The midpoint method (or RK2) is defined as \r\n",
    "$$\r\n",
    "\\mathbf{u}_{n+1} = \\mathbf{u}_n + \\frac{\\Delta t}{2}(k_1 + k_2)\r\n",
    "$$\r\n",
    "$$\r\n",
    "k_1 = \\mathcal{F}(t,\\mathbf{u}_n)\r\n",
    "$$\r\n",
    "$$\r\n",
    "k_2 = \\mathcal{F}(t + \\frac{\\Delta t}{1}, \\mathbf{u}_n + \\frac{\\Delta t}{1} k_1)\r\n",
    "$$\r\n",
    "**Adapt the above class to implement RK2**\r\n",
    "\r\n"
   ],
   "metadata": {}
  },
  {
   "cell_type": "code",
   "execution_count": 29,
   "source": [
    "class RK2:\r\n",
    "    def __init__(self):\r\n",
    "        pass   \r\n",
    "    \r\n",
    "    def step(self,ode,t,dt,u_0):\r\n",
    "        # Do some stuff here\r\n",
    "        k1 = ode.rhs(t,u_0) * dt\r\n",
    "        k2 = ode.rhs(t+dt/2, (u_0 + k1/2))*dt\r\n",
    "        k3 = ode.rhs(t+dt/2, u_0*k2/2)*dt\r\n",
    "        k4 = ode.rhs(t+dt, u_0+k3)*dt\r\n",
    "        u_1 = u_0 + (dt/2)(k1+k2)\r\n",
    "        return (u_0 + 1/6(k1+ k2*2 + 2*k3 + k4))"
   ],
   "outputs": [
    {
     "output_type": "stream",
     "name": "stderr",
     "text": [
      "<>:12: SyntaxWarning: 'int' object is not callable; perhaps you missed a comma?\n",
      "<>:12: SyntaxWarning: 'int' object is not callable; perhaps you missed a comma?\n",
      "C:\\Users\\Derrick\\AppData\\Local\\Temp\\ipykernel_13744\\2410793569.py:12: SyntaxWarning: 'int' object is not callable; perhaps you missed a comma?\n",
      "  return (u_0 + 1/6(k1+ k2*2 + 2*k3 + k4))\n"
     ]
    }
   ],
   "metadata": {}
  },
  {
   "cell_type": "markdown",
   "source": [
    "**Also implement RK4** (Gould Eqs. 3.59, 3.60)"
   ],
   "metadata": {}
  },
  {
   "cell_type": "code",
   "execution_count": 30,
   "source": [
    "class RK4:\r\n",
    "    def __init__(self):\r\n",
    "        pass   \r\n",
    "    \r\n",
    "    def step(self,ode,t,dt,u_0):\r\n",
    "        \r\n",
    "        return u_1"
   ],
   "outputs": [],
   "metadata": {}
  },
  {
   "cell_type": "markdown",
   "source": [
    "Finally, the typical use case for these objects is to perform an integration over multiple time steps, and its nice to contain such operations in a class.  A reasonable implementation of such a thing might look like:"
   ],
   "metadata": {}
  },
  {
   "cell_type": "code",
   "execution_count": 31,
   "source": [
    "class Integrator:\r\n",
    "    def __init__(self,ode,method):\r\n",
    "        self.ode = ode\r\n",
    "        self.method = method\r\n",
    "        \r\n",
    "    def integrate(self,interval,dt,u_0):\r\n",
    "        t_0 = interval[0] # time that starts\r\n",
    "        t_end = interval[1]\r\n",
    "        \r\n",
    "        times = [t_0]\r\n",
    "        states = [u_0]\r\n",
    "        \r\n",
    "        t = t_0\r\n",
    "        while t<t_end:\r\n",
    "            dt_ = min(dt,t_end-t)\r\n",
    "            u_1 = self.method.step(self.ode,t,dt_,u_0)\r\n",
    "            t = t + dt_\r\n",
    "            u_0 = u_1\r\n",
    "            \r\n",
    "            times.append(t)\r\n",
    "            states.append(u_1)\r\n",
    "            \r\n",
    "        return np.array(times),np.array(states)"
   ],
   "outputs": [],
   "metadata": {}
  },
  {
   "cell_type": "markdown",
   "source": [
    "No modifications to the above code are needed at this stage, but I would like you to **go through it, line by line, and add comments describing what all of the elements are doing**.  This should be straightforward, as I hope that it looks very much like some code that you've already written.  \n",
    "\n",
    "An example of all of these components working together is"
   ],
   "metadata": {}
  },
  {
   "cell_type": "code",
   "execution_count": 33,
   "source": [
    "import matplotlib.pyplot as plt\r\n",
    "\r\n",
    "pm = ParticleMotion1D()\r\n",
    "method = Euler()\r\n",
    "integrator = Integrator(pm,method)\r\n",
    "\r\n",
    "t_0 = 0.0\r\n",
    "t_end = 1.0\r\n",
    "dt = 0.01\r\n",
    "z_0 = 5.0\r\n",
    "v_0 = 5.0\r\n",
    "t,u = integrator.integrate([t_0,t_end],dt,np.array([z_0,v_0]))\r\n",
    "\r\n",
    "plt.plot(t,u[:,0])"
   ],
   "outputs": [
    {
     "output_type": "execute_result",
     "data": {
      "text/plain": [
       "[<matplotlib.lines.Line2D at 0x1e29aa881f0>]"
      ]
     },
     "metadata": {},
     "execution_count": 33
    },
    {
     "output_type": "display_data",
     "data": {
      "text/plain": [
       "<Figure size 432x288 with 1 Axes>"
      ],
      "image/svg+xml": "<?xml version=\"1.0\" encoding=\"utf-8\" standalone=\"no\"?>\n<!DOCTYPE svg PUBLIC \"-//W3C//DTD SVG 1.1//EN\"\n  \"http://www.w3.org/Graphics/SVG/1.1/DTD/svg11.dtd\">\n<svg xmlns:xlink=\"http://www.w3.org/1999/xlink\" width=\"372.103125pt\" height=\"248.518125pt\" viewBox=\"0 0 372.103125 248.518125\" xmlns=\"http://www.w3.org/2000/svg\" version=\"1.1\">\n <metadata>\n  <rdf:RDF xmlns:dc=\"http://purl.org/dc/elements/1.1/\" xmlns:cc=\"http://creativecommons.org/ns#\" xmlns:rdf=\"http://www.w3.org/1999/02/22-rdf-syntax-ns#\">\n   <cc:Work>\n    <dc:type rdf:resource=\"http://purl.org/dc/dcmitype/StillImage\"/>\n    <dc:date>2023-02-02T11:40:25.979969</dc:date>\n    <dc:format>image/svg+xml</dc:format>\n    <dc:creator>\n     <cc:Agent>\n      <dc:title>Matplotlib v3.5.1, https://matplotlib.org/</dc:title>\n     </cc:Agent>\n    </dc:creator>\n   </cc:Work>\n  </rdf:RDF>\n </metadata>\n <defs>\n  <style type=\"text/css\">*{stroke-linejoin: round; stroke-linecap: butt}</style>\n </defs>\n <g id=\"figure_1\">\n  <g id=\"patch_1\">\n   <path d=\"M 0 248.518125 \nL 372.103125 248.518125 \nL 372.103125 0 \nL 0 0 \nL 0 248.518125 \nz\n\" style=\"fill: none\"/>\n  </g>\n  <g id=\"axes_1\">\n   <g id=\"patch_2\">\n    <path d=\"M 30.103125 224.64 \nL 364.903125 224.64 \nL 364.903125 7.2 \nL 30.103125 7.2 \nz\n\" style=\"fill: #ffffff\"/>\n   </g>\n   <g id=\"matplotlib.axis_1\">\n    <g id=\"xtick_1\">\n     <g id=\"line2d_1\">\n      <defs>\n       <path id=\"mdc9b400784\" d=\"M 0 0 \nL 0 3.5 \n\" style=\"stroke: #000000; stroke-width: 0.8\"/>\n      </defs>\n      <g>\n       <use xlink:href=\"#mdc9b400784\" x=\"45.321307\" y=\"224.64\" style=\"stroke: #000000; stroke-width: 0.8\"/>\n      </g>\n     </g>\n     <g id=\"text_1\">\n      <!-- 0.0 -->\n      <g transform=\"translate(37.369744 239.238438)scale(0.1 -0.1)\">\n       <defs>\n        <path id=\"DejaVuSans-30\" d=\"M 2034 4250 \nQ 1547 4250 1301 3770 \nQ 1056 3291 1056 2328 \nQ 1056 1369 1301 889 \nQ 1547 409 2034 409 \nQ 2525 409 2770 889 \nQ 3016 1369 3016 2328 \nQ 3016 3291 2770 3770 \nQ 2525 4250 2034 4250 \nz\nM 2034 4750 \nQ 2819 4750 3233 4129 \nQ 3647 3509 3647 2328 \nQ 3647 1150 3233 529 \nQ 2819 -91 2034 -91 \nQ 1250 -91 836 529 \nQ 422 1150 422 2328 \nQ 422 3509 836 4129 \nQ 1250 4750 2034 4750 \nz\n\" transform=\"scale(0.015625)\"/>\n        <path id=\"DejaVuSans-2e\" d=\"M 684 794 \nL 1344 794 \nL 1344 0 \nL 684 0 \nL 684 794 \nz\n\" transform=\"scale(0.015625)\"/>\n       </defs>\n       <use xlink:href=\"#DejaVuSans-30\"/>\n       <use xlink:href=\"#DejaVuSans-2e\" x=\"63.623047\"/>\n       <use xlink:href=\"#DejaVuSans-30\" x=\"95.410156\"/>\n      </g>\n     </g>\n    </g>\n    <g id=\"xtick_2\">\n     <g id=\"line2d_2\">\n      <g>\n       <use xlink:href=\"#mdc9b400784\" x=\"106.194034\" y=\"224.64\" style=\"stroke: #000000; stroke-width: 0.8\"/>\n      </g>\n     </g>\n     <g id=\"text_2\">\n      <!-- 0.2 -->\n      <g transform=\"translate(98.242472 239.238438)scale(0.1 -0.1)\">\n       <defs>\n        <path id=\"DejaVuSans-32\" d=\"M 1228 531 \nL 3431 531 \nL 3431 0 \nL 469 0 \nL 469 531 \nQ 828 903 1448 1529 \nQ 2069 2156 2228 2338 \nQ 2531 2678 2651 2914 \nQ 2772 3150 2772 3378 \nQ 2772 3750 2511 3984 \nQ 2250 4219 1831 4219 \nQ 1534 4219 1204 4116 \nQ 875 4013 500 3803 \nL 500 4441 \nQ 881 4594 1212 4672 \nQ 1544 4750 1819 4750 \nQ 2544 4750 2975 4387 \nQ 3406 4025 3406 3419 \nQ 3406 3131 3298 2873 \nQ 3191 2616 2906 2266 \nQ 2828 2175 2409 1742 \nQ 1991 1309 1228 531 \nz\n\" transform=\"scale(0.015625)\"/>\n       </defs>\n       <use xlink:href=\"#DejaVuSans-30\"/>\n       <use xlink:href=\"#DejaVuSans-2e\" x=\"63.623047\"/>\n       <use xlink:href=\"#DejaVuSans-32\" x=\"95.410156\"/>\n      </g>\n     </g>\n    </g>\n    <g id=\"xtick_3\">\n     <g id=\"line2d_3\">\n      <g>\n       <use xlink:href=\"#mdc9b400784\" x=\"167.066761\" y=\"224.64\" style=\"stroke: #000000; stroke-width: 0.8\"/>\n      </g>\n     </g>\n     <g id=\"text_3\">\n      <!-- 0.4 -->\n      <g transform=\"translate(159.115199 239.238438)scale(0.1 -0.1)\">\n       <defs>\n        <path id=\"DejaVuSans-34\" d=\"M 2419 4116 \nL 825 1625 \nL 2419 1625 \nL 2419 4116 \nz\nM 2253 4666 \nL 3047 4666 \nL 3047 1625 \nL 3713 1625 \nL 3713 1100 \nL 3047 1100 \nL 3047 0 \nL 2419 0 \nL 2419 1100 \nL 313 1100 \nL 313 1709 \nL 2253 4666 \nz\n\" transform=\"scale(0.015625)\"/>\n       </defs>\n       <use xlink:href=\"#DejaVuSans-30\"/>\n       <use xlink:href=\"#DejaVuSans-2e\" x=\"63.623047\"/>\n       <use xlink:href=\"#DejaVuSans-34\" x=\"95.410156\"/>\n      </g>\n     </g>\n    </g>\n    <g id=\"xtick_4\">\n     <g id=\"line2d_4\">\n      <g>\n       <use xlink:href=\"#mdc9b400784\" x=\"227.939489\" y=\"224.64\" style=\"stroke: #000000; stroke-width: 0.8\"/>\n      </g>\n     </g>\n     <g id=\"text_4\">\n      <!-- 0.6 -->\n      <g transform=\"translate(219.987926 239.238438)scale(0.1 -0.1)\">\n       <defs>\n        <path id=\"DejaVuSans-36\" d=\"M 2113 2584 \nQ 1688 2584 1439 2293 \nQ 1191 2003 1191 1497 \nQ 1191 994 1439 701 \nQ 1688 409 2113 409 \nQ 2538 409 2786 701 \nQ 3034 994 3034 1497 \nQ 3034 2003 2786 2293 \nQ 2538 2584 2113 2584 \nz\nM 3366 4563 \nL 3366 3988 \nQ 3128 4100 2886 4159 \nQ 2644 4219 2406 4219 \nQ 1781 4219 1451 3797 \nQ 1122 3375 1075 2522 \nQ 1259 2794 1537 2939 \nQ 1816 3084 2150 3084 \nQ 2853 3084 3261 2657 \nQ 3669 2231 3669 1497 \nQ 3669 778 3244 343 \nQ 2819 -91 2113 -91 \nQ 1303 -91 875 529 \nQ 447 1150 447 2328 \nQ 447 3434 972 4092 \nQ 1497 4750 2381 4750 \nQ 2619 4750 2861 4703 \nQ 3103 4656 3366 4563 \nz\n\" transform=\"scale(0.015625)\"/>\n       </defs>\n       <use xlink:href=\"#DejaVuSans-30\"/>\n       <use xlink:href=\"#DejaVuSans-2e\" x=\"63.623047\"/>\n       <use xlink:href=\"#DejaVuSans-36\" x=\"95.410156\"/>\n      </g>\n     </g>\n    </g>\n    <g id=\"xtick_5\">\n     <g id=\"line2d_5\">\n      <g>\n       <use xlink:href=\"#mdc9b400784\" x=\"288.812216\" y=\"224.64\" style=\"stroke: #000000; stroke-width: 0.8\"/>\n      </g>\n     </g>\n     <g id=\"text_5\">\n      <!-- 0.8 -->\n      <g transform=\"translate(280.860653 239.238438)scale(0.1 -0.1)\">\n       <defs>\n        <path id=\"DejaVuSans-38\" d=\"M 2034 2216 \nQ 1584 2216 1326 1975 \nQ 1069 1734 1069 1313 \nQ 1069 891 1326 650 \nQ 1584 409 2034 409 \nQ 2484 409 2743 651 \nQ 3003 894 3003 1313 \nQ 3003 1734 2745 1975 \nQ 2488 2216 2034 2216 \nz\nM 1403 2484 \nQ 997 2584 770 2862 \nQ 544 3141 544 3541 \nQ 544 4100 942 4425 \nQ 1341 4750 2034 4750 \nQ 2731 4750 3128 4425 \nQ 3525 4100 3525 3541 \nQ 3525 3141 3298 2862 \nQ 3072 2584 2669 2484 \nQ 3125 2378 3379 2068 \nQ 3634 1759 3634 1313 \nQ 3634 634 3220 271 \nQ 2806 -91 2034 -91 \nQ 1263 -91 848 271 \nQ 434 634 434 1313 \nQ 434 1759 690 2068 \nQ 947 2378 1403 2484 \nz\nM 1172 3481 \nQ 1172 3119 1398 2916 \nQ 1625 2713 2034 2713 \nQ 2441 2713 2670 2916 \nQ 2900 3119 2900 3481 \nQ 2900 3844 2670 4047 \nQ 2441 4250 2034 4250 \nQ 1625 4250 1398 4047 \nQ 1172 3844 1172 3481 \nz\n\" transform=\"scale(0.015625)\"/>\n       </defs>\n       <use xlink:href=\"#DejaVuSans-30\"/>\n       <use xlink:href=\"#DejaVuSans-2e\" x=\"63.623047\"/>\n       <use xlink:href=\"#DejaVuSans-38\" x=\"95.410156\"/>\n      </g>\n     </g>\n    </g>\n    <g id=\"xtick_6\">\n     <g id=\"line2d_6\">\n      <g>\n       <use xlink:href=\"#mdc9b400784\" x=\"349.684943\" y=\"224.64\" style=\"stroke: #000000; stroke-width: 0.8\"/>\n      </g>\n     </g>\n     <g id=\"text_6\">\n      <!-- 1.0 -->\n      <g transform=\"translate(341.733381 239.238438)scale(0.1 -0.1)\">\n       <defs>\n        <path id=\"DejaVuSans-31\" d=\"M 794 531 \nL 1825 531 \nL 1825 4091 \nL 703 3866 \nL 703 4441 \nL 1819 4666 \nL 2450 4666 \nL 2450 531 \nL 3481 531 \nL 3481 0 \nL 794 0 \nL 794 531 \nz\n\" transform=\"scale(0.015625)\"/>\n       </defs>\n       <use xlink:href=\"#DejaVuSans-31\"/>\n       <use xlink:href=\"#DejaVuSans-2e\" x=\"63.623047\"/>\n       <use xlink:href=\"#DejaVuSans-30\" x=\"95.410156\"/>\n      </g>\n     </g>\n    </g>\n   </g>\n   <g id=\"matplotlib.axis_2\">\n    <g id=\"ytick_1\">\n     <g id=\"line2d_7\">\n      <defs>\n       <path id=\"m84ab7d611d\" d=\"M 0 0 \nL -3.5 0 \n\" style=\"stroke: #000000; stroke-width: 0.8\"/>\n      </defs>\n      <g>\n       <use xlink:href=\"#m84ab7d611d\" x=\"30.103125\" y=\"214.756364\" style=\"stroke: #000000; stroke-width: 0.8\"/>\n      </g>\n     </g>\n     <g id=\"text_7\">\n      <!-- 5.0 -->\n      <g transform=\"translate(7.2 218.555582)scale(0.1 -0.1)\">\n       <defs>\n        <path id=\"DejaVuSans-35\" d=\"M 691 4666 \nL 3169 4666 \nL 3169 4134 \nL 1269 4134 \nL 1269 2991 \nQ 1406 3038 1543 3061 \nQ 1681 3084 1819 3084 \nQ 2600 3084 3056 2656 \nQ 3513 2228 3513 1497 \nQ 3513 744 3044 326 \nQ 2575 -91 1722 -91 \nQ 1428 -91 1123 -41 \nQ 819 9 494 109 \nL 494 744 \nQ 775 591 1075 516 \nQ 1375 441 1709 441 \nQ 2250 441 2565 725 \nQ 2881 1009 2881 1497 \nQ 2881 1984 2565 2268 \nQ 2250 2553 1709 2553 \nQ 1456 2553 1204 2497 \nQ 953 2441 691 2322 \nL 691 4666 \nz\n\" transform=\"scale(0.015625)\"/>\n       </defs>\n       <use xlink:href=\"#DejaVuSans-35\"/>\n       <use xlink:href=\"#DejaVuSans-2e\" x=\"63.623047\"/>\n       <use xlink:href=\"#DejaVuSans-30\" x=\"95.410156\"/>\n      </g>\n     </g>\n    </g>\n    <g id=\"ytick_2\">\n     <g id=\"line2d_8\">\n      <g>\n       <use xlink:href=\"#m84ab7d611d\" x=\"30.103125\" y=\"184.327034\" style=\"stroke: #000000; stroke-width: 0.8\"/>\n      </g>\n     </g>\n     <g id=\"text_8\">\n      <!-- 5.2 -->\n      <g transform=\"translate(7.2 188.126253)scale(0.1 -0.1)\">\n       <use xlink:href=\"#DejaVuSans-35\"/>\n       <use xlink:href=\"#DejaVuSans-2e\" x=\"63.623047\"/>\n       <use xlink:href=\"#DejaVuSans-32\" x=\"95.410156\"/>\n      </g>\n     </g>\n    </g>\n    <g id=\"ytick_3\">\n     <g id=\"line2d_9\">\n      <g>\n       <use xlink:href=\"#m84ab7d611d\" x=\"30.103125\" y=\"153.897705\" style=\"stroke: #000000; stroke-width: 0.8\"/>\n      </g>\n     </g>\n     <g id=\"text_9\">\n      <!-- 5.4 -->\n      <g transform=\"translate(7.2 157.696924)scale(0.1 -0.1)\">\n       <use xlink:href=\"#DejaVuSans-35\"/>\n       <use xlink:href=\"#DejaVuSans-2e\" x=\"63.623047\"/>\n       <use xlink:href=\"#DejaVuSans-34\" x=\"95.410156\"/>\n      </g>\n     </g>\n    </g>\n    <g id=\"ytick_4\">\n     <g id=\"line2d_10\">\n      <g>\n       <use xlink:href=\"#m84ab7d611d\" x=\"30.103125\" y=\"123.468376\" style=\"stroke: #000000; stroke-width: 0.8\"/>\n      </g>\n     </g>\n     <g id=\"text_10\">\n      <!-- 5.6 -->\n      <g transform=\"translate(7.2 127.267594)scale(0.1 -0.1)\">\n       <use xlink:href=\"#DejaVuSans-35\"/>\n       <use xlink:href=\"#DejaVuSans-2e\" x=\"63.623047\"/>\n       <use xlink:href=\"#DejaVuSans-36\" x=\"95.410156\"/>\n      </g>\n     </g>\n    </g>\n    <g id=\"ytick_5\">\n     <g id=\"line2d_11\">\n      <g>\n       <use xlink:href=\"#m84ab7d611d\" x=\"30.103125\" y=\"93.039046\" style=\"stroke: #000000; stroke-width: 0.8\"/>\n      </g>\n     </g>\n     <g id=\"text_11\">\n      <!-- 5.8 -->\n      <g transform=\"translate(7.2 96.838265)scale(0.1 -0.1)\">\n       <use xlink:href=\"#DejaVuSans-35\"/>\n       <use xlink:href=\"#DejaVuSans-2e\" x=\"63.623047\"/>\n       <use xlink:href=\"#DejaVuSans-38\" x=\"95.410156\"/>\n      </g>\n     </g>\n    </g>\n    <g id=\"ytick_6\">\n     <g id=\"line2d_12\">\n      <g>\n       <use xlink:href=\"#m84ab7d611d\" x=\"30.103125\" y=\"62.609717\" style=\"stroke: #000000; stroke-width: 0.8\"/>\n      </g>\n     </g>\n     <g id=\"text_12\">\n      <!-- 6.0 -->\n      <g transform=\"translate(7.2 66.408936)scale(0.1 -0.1)\">\n       <use xlink:href=\"#DejaVuSans-36\"/>\n       <use xlink:href=\"#DejaVuSans-2e\" x=\"63.623047\"/>\n       <use xlink:href=\"#DejaVuSans-30\" x=\"95.410156\"/>\n      </g>\n     </g>\n    </g>\n    <g id=\"ytick_7\">\n     <g id=\"line2d_13\">\n      <g>\n       <use xlink:href=\"#m84ab7d611d\" x=\"30.103125\" y=\"32.180387\" style=\"stroke: #000000; stroke-width: 0.8\"/>\n      </g>\n     </g>\n     <g id=\"text_13\">\n      <!-- 6.2 -->\n      <g transform=\"translate(7.2 35.979606)scale(0.1 -0.1)\">\n       <use xlink:href=\"#DejaVuSans-36\"/>\n       <use xlink:href=\"#DejaVuSans-2e\" x=\"63.623047\"/>\n       <use xlink:href=\"#DejaVuSans-32\" x=\"95.410156\"/>\n      </g>\n     </g>\n    </g>\n   </g>\n   <g id=\"line2d_14\">\n    <path d=\"M 45.321307 214.756364 \nL 48.364943 207.149031 \nL 51.40858 199.690955 \nL 54.452216 192.382134 \nL 57.495852 185.222569 \nL 60.539489 178.212261 \nL 63.583125 171.351207 \nL 66.626761 164.63941 \nL 69.670398 158.076869 \nL 72.714034 151.663584 \nL 75.75767 145.399554 \nL 78.801307 139.28478 \nL 81.844943 133.319262 \nL 84.88858 127.503 \nL 87.932216 121.835994 \nL 90.975852 116.318244 \nL 94.019489 110.949749 \nL 97.063125 105.730511 \nL 100.106761 100.660528 \nL 103.150398 95.739801 \nL 106.194034 90.96833 \nL 109.23767 86.346115 \nL 112.281307 81.873156 \nL 115.324943 77.549452 \nL 118.36858 73.375005 \nL 121.412216 69.349813 \nL 124.455852 65.473877 \nL 127.499489 61.747197 \nL 130.543125 58.169773 \nL 133.586761 54.741605 \nL 136.630398 51.462693 \nL 139.674034 48.333036 \nL 142.71767 45.352635 \nL 145.761307 42.521491 \nL 148.804943 39.839602 \nL 151.84858 37.306969 \nL 154.892216 34.923591 \nL 157.935852 32.68947 \nL 160.979489 30.604605 \nL 164.023125 28.668995 \nL 167.066761 26.882641 \nL 170.110398 25.245543 \nL 173.154034 23.757701 \nL 176.19767 22.419115 \nL 179.241307 21.229785 \nL 182.284943 20.18971 \nL 185.32858 19.298892 \nL 188.372216 18.557329 \nL 191.415852 17.965022 \nL 194.459489 17.521971 \nL 197.503125 17.228176 \nL 200.546761 17.083636 \nL 203.590398 17.088353 \nL 206.634034 17.242325 \nL 209.67767 17.545554 \nL 212.721307 17.998038 \nL 215.764943 18.599778 \nL 218.80858 19.350774 \nL 221.852216 20.251025 \nL 224.895852 21.300533 \nL 227.939489 22.499296 \nL 230.983125 23.847316 \nL 234.026761 25.344591 \nL 237.070398 26.991122 \nL 240.114034 28.786909 \nL 243.15767 30.731951 \nL 246.201307 32.82625 \nL 249.244943 35.069804 \nL 252.28858 37.462615 \nL 255.332216 40.004681 \nL 258.375852 42.696003 \nL 261.419489 45.536581 \nL 264.463125 48.526415 \nL 267.506761 51.665504 \nL 270.550398 54.95385 \nL 273.594034 58.391451 \nL 276.63767 61.978308 \nL 279.681307 65.714421 \nL 282.724943 69.59979 \nL 285.76858 73.634415 \nL 288.812216 77.818296 \nL 291.855852 82.151432 \nL 294.899489 86.633824 \nL 297.943125 91.265473 \nL 300.986761 96.046377 \nL 304.030398 100.976537 \nL 307.074034 106.055953 \nL 310.11767 111.284624 \nL 313.161307 116.662552 \nL 316.204943 122.189735 \nL 319.24858 127.866174 \nL 322.292216 133.691869 \nL 325.335852 139.66682 \nL 328.379489 145.791027 \nL 331.423125 152.06449 \nL 334.466761 158.487208 \nL 337.510398 165.059183 \nL 340.554034 171.780413 \nL 343.59767 178.650899 \nL 346.641307 185.670641 \nL 349.684943 192.839639 \n\" clip-path=\"url(#p922fa7357c)\" style=\"fill: none; stroke: #1f77b4; stroke-width: 1.5; stroke-linecap: square\"/>\n   </g>\n   <g id=\"patch_3\">\n    <path d=\"M 30.103125 224.64 \nL 30.103125 7.2 \n\" style=\"fill: none; stroke: #000000; stroke-width: 0.8; stroke-linejoin: miter; stroke-linecap: square\"/>\n   </g>\n   <g id=\"patch_4\">\n    <path d=\"M 364.903125 224.64 \nL 364.903125 7.2 \n\" style=\"fill: none; stroke: #000000; stroke-width: 0.8; stroke-linejoin: miter; stroke-linecap: square\"/>\n   </g>\n   <g id=\"patch_5\">\n    <path d=\"M 30.103125 224.64 \nL 364.903125 224.64 \n\" style=\"fill: none; stroke: #000000; stroke-width: 0.8; stroke-linejoin: miter; stroke-linecap: square\"/>\n   </g>\n   <g id=\"patch_6\">\n    <path d=\"M 30.103125 7.2 \nL 364.903125 7.2 \n\" style=\"fill: none; stroke: #000000; stroke-width: 0.8; stroke-linejoin: miter; stroke-linecap: square\"/>\n   </g>\n  </g>\n </g>\n <defs>\n  <clipPath id=\"p922fa7357c\">\n   <rect x=\"30.103125\" y=\"7.2\" width=\"334.8\" height=\"217.44\"/>\n  </clipPath>\n </defs>\n</svg>\n",
      "image/png": "[encoded data removed]"
     },
     "metadata": {
      "needs_background": "light"
     }
    }
   ],
   "metadata": {}
  },
  {
   "cell_type": "markdown",
   "source": [
    "**Verify your implementations by testing similar code to the above block with all different combinations of problems and time stepping schemes.**  Note that if your improved time-stepping schemes are working, a particle integrated using RK2 or RK4 with relatively large time steps (say $\\Delta t=0.1$ should end up in a very similar place to one integrated with Euler's method with a very small time step (which is implemented correctly) (say $\\Delta t=.001$)."
   ],
   "metadata": {}
  },
  {
   "cell_type": "markdown",
   "source": [],
   "metadata": {}
  }
 ],
 "metadata": {
  "kernelspec": {
   "name": "python3",
   "display_name": "Python 3.9.12 64-bit ('base': conda)"
  },
  "language_info": {
   "codemirror_mode": {
    "name": "ipython",
    "version": 3
   },
   "file_extension": ".py",
   "mimetype": "text/x-python",
   "name": "python",
   "nbconvert_exporter": "python",
   "pygments_lexer": "ipython3",
   "version": "3.9.12"
  },
  "interpreter": {
   "hash": "949183bae10d6f6601199a92cdca330a95f61ba4d882df6dff7be328bb4fbfab"
  }
 },
 "nbformat": 4,
 "nbformat_minor": 5
}