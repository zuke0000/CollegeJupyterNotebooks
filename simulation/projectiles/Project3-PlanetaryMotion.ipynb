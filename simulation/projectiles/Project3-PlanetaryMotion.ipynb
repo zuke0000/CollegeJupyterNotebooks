{
 "cells": [
  {
   "cell_type": "markdown",
   "source": [
    "# Project 3a - Planetary Motion\n",
    "\n",
    "## Due 2/14\n",
    "\n",
    "Particle motion under gravity and drag are useful test cases because they are quite simple.  However, there are only so many things that can occur because there is no interaction between different particles.  An interesting generalization of particle motion is the case in which we do not assume uniform gravity, but rather use the full specification for the gravitational force between two particles $i$ and $j$, which is given by\n",
    "$$ F_{ij} = -G\\frac{m_i m_j}{|\\mathbf{r}_{ij}|^3} \\mathbf{r}_{ij}. $$\n",
    "Note that this force is anti-symmetric, and leads to and acceleration in particle $i$ due to its interaction with particle $j$ that look like this\n",
    "$$\n",
    "\\frac{\\partial \\mathbf{v}_i}{\\partial t} = -G \\frac{m_j}{|\\mathbf{r}_{ij}|^3} \\mathbf{r}_{ij}.\n",
    "$$\n",
    "$$\n",
    "\\frac{\\partial \\mathbf{v}_j}{\\partial t} = -G \\frac{m_i}{|\\mathbf{r}_{ij}|^3} \\mathbf{r}_{ji}.\n",
    "$$\n",
    "As before, when integrating Newton's laws of motion, the derivative of position is just velocity\n",
    "$$\n",
    "\\frac{\\partial \\mathbf{x}_i}{\\partial t} = \\mathbf{v}_i.\n",
    "$$\n",
    "\n",
    "If we have $n$ particles, the forces are additive and we have that for a general particle $i$\n",
    "$$\n",
    "\\frac{\\partial \\mathbf{x}_i}{\\partial t} = \\mathbf{v}_i.\n",
    "$$\n",
    "$$\n",
    "\\frac{\\partial \\mathbf{v}_i}{\\partial t} = \\sum_{k=1,k\\neq i}^N -G \\frac{m_k}{|\\mathbf{r}_{ik}|^3} \\mathbf{r}_{ik}.\n",
    "$$\n",
    "\n",
    "### Planetary motion problem\n",
    "**Your first task is to create a planetary motion problem class using the same specification as before**.  Note that you will have to keep track of a few things: for each particle, you will have two coordinates and two velocities, for a total of $4N$ degrees of freedom.  You should be careful to choose an organizational structure that lets you keep these things straight. "
   ],
   "metadata": {}
  },
  {
   "cell_type": "code",
   "execution_count": 23,
   "source": [
    "import numpy as np\r\n",
    "\r\n",
    "class PlanetaryMotion:\r\n",
    "    \"\"\" This is an example class for an ODE specification\"\"\"\r\n",
    "    \r\n",
    "    def __init__(self,G=6.67e-11,m=np.array([1.,1.]),n_bodies=2):\r\n",
    "        self.n_bodies = n_bodies\r\n",
    "        self.n_dof = n_bodies * 4 # each particle keeps track of 4 variables\r\n",
    "        self.g = 1\r\n",
    "        self.m = m\r\n",
    "        \r\n",
    "\r\n",
    "    def rhs(self,t,u):\r\n",
    "        # the right hand side of the ode (or $\\mathcal{F}(t,u)$)\r\n",
    "        # implement u in a way that can take n bodies\r\n",
    "        # u = |x1 x2 x3, y1 y2 y3, vx1 vx2 vx3, vy1 vy2 vy3|\r\n",
    "        r = np.array([u[1] - u[0], u[3] - u[2]])\r\n",
    "        r*=-1\r\n",
    "        F = (-self.g*self.m[0]*self.m[1])/(np.linalg.norm(r)**3)*r\r\n",
    "        dudt = np.zeros(self.n_dof)\r\n",
    "        dudt[0] = u[4]\r\n",
    "        dudt[1] = u[5]\r\n",
    "        dudt[2] = u[6]\r\n",
    "        dudt[3] = u[7]\r\n",
    "        dudt[4] = F[0]/self.m[0]\r\n",
    "        dudt[5] = -F[0]/self.m[1]\r\n",
    "        dudt[6] = F[1]/self.m[0]\r\n",
    "        dudt[7] = -F[1]/self.m[0]\r\n",
    "        return dudt\r\n",
    "\r\n",
    "    "
   ],
   "outputs": [],
   "metadata": {}
  },
  {
   "cell_type": "markdown",
   "source": [
    "### A conservative time stepping scheme\n",
    "Unfortunately these equations are a bit picky: they are sensitive to accumulating errors in the system.  One way to account for this is to use a time-stepping scheme that conserves energy exactly: even if the integration isn't accurate, it will not blow up.  One such algorithm is the Euler-Cromer algorithm, which is given by Eq. 3.34 in Gould.  **Implement this time-stepping scheme**."
   ],
   "metadata": {}
  },
  {
   "cell_type": "code",
   "execution_count": 24,
   "source": [
    "class EulerCromer:\r\n",
    "    def __init__(self):\r\n",
    "        pass   \r\n",
    "    \r\n",
    "    def step(self,ode,t,dt,u_0):\r\n",
    "        split = ode.n_bodies * 2\r\n",
    "        rhs_old = ode.rhs(t,u_0)\r\n",
    "        rhs_new = ode.rhs(t+dt, u_0)\r\n",
    "        \r\n",
    "        vel_new = u_0[split:] + dt*rhs_new[split:]\r\n",
    "        pos_new = u_0[:split] + dt*vel_new\r\n",
    "        u_1 = np.concatenate((pos_new, vel_new))\r\n",
    "        return u_1"
   ],
   "outputs": [],
   "metadata": {}
  },
  {
   "cell_type": "markdown",
   "source": [
    "### Integrating the equations of motion\n",
    "We can use the same Integrator object as before.  **Integrate the equations of motion for a 2 body system.**  Setting the initial conditions can be a little bit tricky: not all conditions lead to stable orbits.  One such circumstance that does is for $m_1=1e4$,$m_2=1$, and $G=1$, with the velocity and position of particle 1 uniformly zero, and the velocity and position of particle 2 given by\n",
    "$$\n",
    "\\mathbf{x}_2 = [100,0]\n",
    "$$\n",
    "$$\n",
    "\\mathbf{v}_2 = [0,10]\n",
    "$$\n",
    "**Plot the trajectory of the particle in whatever way seems suitable to you.** I find that plots of both position versus time, as well as x-position versus y-position are instructive."
   ],
   "metadata": {}
  },
  {
   "cell_type": "code",
   "execution_count": 25,
   "source": [
    "class Integrator:\r\n",
    "    def __init__(self,ode,method):\r\n",
    "        self.ode = ode\r\n",
    "        self.method = method\r\n",
    "        \r\n",
    "    def integrate(self,interval,dt,u_0):\r\n",
    "        t_0 = interval[0]\r\n",
    "        t_end = interval[1]\r\n",
    "        \r\n",
    "        times = [t_0]\r\n",
    "        states = [u_0]\r\n",
    "        \r\n",
    "        t = t_0\r\n",
    "        while t<t_end:\r\n",
    "            dt_ = min(dt,t_end-t)\r\n",
    "            u_1 = self.method.step(self.ode,t,dt_,u_0)\r\n",
    "            t = t + dt_\r\n",
    "            u_0 = u_1\r\n",
    "            \r\n",
    "            times.append(t)\r\n",
    "            states.append(u_1)\r\n",
    "            \r\n",
    "        return np.array(times),np.array(states)"
   ],
   "outputs": [],
   "metadata": {}
  },
  {
   "cell_type": "markdown",
   "source": [
    "### Energy Conservation\n",
    "If you implemented the above correctly, your particle should be moving in a stable, repeating, circular trajectory.  Now try again with Euler's method rather than Euler-Cromer.  What is happening here?  It turns out that Euler's method does not conserve energy.  We can illustrate this directly by computing the total energy of the system as a function of time.  There are two reservoirs of energy in this system: the gravitational potential energy, which is given by\n",
    "$$\n",
    "T = -\\sum_{i=1}^N \\sum_{k=1,i\\neq k}^N G \\frac{m_i m_k}{|\\mathbf{r}_{ik}|}\n",
    "$$\n",
    "and the kinetic energy\n",
    "$$\n",
    "K = \\sum_{i=1}^N \\frac{1}{2} m_i v_i^2\n",
    "$$\n",
    "**Compute and plot $T + K$ at every time step for both the Euler-Cromer and Euler's method, and comment whether each method conserves energy**.\n"
   ],
   "metadata": {}
  },
  {
   "cell_type": "code",
   "execution_count": 26,
   "source": [
    "import matplotlib.pyplot as plt\r\n",
    "\r\n",
    "pm = PlanetaryMotion()\r\n",
    "method = EulerCromer()\r\n",
    "integrator = Integrator(pm,method)\r\n",
    "\r\n",
    "t_0 = 0.0\r\n",
    "t_end = 100\r\n",
    "dt = 0.01\r\n",
    "particles_u = np.array([0,100,0,0,0,0,0,10])\r\n",
    "t,u = integrator.integrate([t_0,t_end],dt,np.array(particles_u))\r\n",
    "\r\n",
    "plt.plot(u[:,1],u[:,3])"
   ],
   "outputs": [
    {
     "output_type": "execute_result",
     "data": {
      "text/plain": [
       "[<matplotlib.lines.Line2D at 0x27cfb8e22e0>]"
      ]
     },
     "metadata": {},
     "execution_count": 26
    },
    {
     "output_type": "display_data",
     "data": {
      "text/plain": [
       "<Figure size 432x288 with 1 Axes>"
      ],
      "image/svg+xml": "<?xml version=\"1.0\" encoding=\"utf-8\" standalone=\"no\"?>\n<!DOCTYPE svg PUBLIC \"-//W3C//DTD SVG 1.1//EN\"\n  \"http://www.w3.org/Graphics/SVG/1.1/DTD/svg11.dtd\">\n<svg xmlns:xlink=\"http://www.w3.org/1999/xlink\" width=\"381.65pt\" height=\"248.518125pt\" viewBox=\"0 0 381.65 248.518125\" xmlns=\"http://www.w3.org/2000/svg\" version=\"1.1\">\n <metadata>\n  <rdf:RDF xmlns:dc=\"http://purl.org/dc/elements/1.1/\" xmlns:cc=\"http://creativecommons.org/ns#\" xmlns:rdf=\"http://www.w3.org/1999/02/22-rdf-syntax-ns#\">\n   <cc:Work>\n    <dc:type rdf:resource=\"http://purl.org/dc/dcmitype/StillImage\"/>\n    <dc:date>2023-02-14T11:11:44.483038</dc:date>\n    <dc:format>image/svg+xml</dc:format>\n    <dc:creator>\n     <cc:Agent>\n      <dc:title>Matplotlib v3.5.1, https://matplotlib.org/</dc:title>\n     </cc:Agent>\n    </dc:creator>\n   </cc:Work>\n  </rdf:RDF>\n </metadata>\n <defs>\n  <style type=\"text/css\">*{stroke-linejoin: round; stroke-linecap: butt}</style>\n </defs>\n <g id=\"figure_1\">\n  <g id=\"patch_1\">\n   <path d=\"M -0 248.518125 \nL 381.65 248.518125 \nL 381.65 0 \nL -0 0 \nL -0 248.518125 \nz\n\" style=\"fill: none\"/>\n  </g>\n  <g id=\"axes_1\">\n   <g id=\"patch_2\">\n    <path d=\"M 39.65 224.64 \nL 374.45 224.64 \nL 374.45 7.2 \nL 39.65 7.2 \nz\n\" style=\"fill: #ffffff\"/>\n   </g>\n   <g id=\"matplotlib.axis_1\">\n    <g id=\"xtick_1\">\n     <g id=\"line2d_1\">\n      <defs>\n       <path id=\"m985da4d285\" d=\"M 0 0 \nL 0 3.5 \n\" style=\"stroke: #000000; stroke-width: 0.8\"/>\n      </defs>\n      <g>\n       <use xlink:href=\"#m985da4d285\" x=\"88.977605\" y=\"224.64\" style=\"stroke: #000000; stroke-width: 0.8\"/>\n      </g>\n     </g>\n     <g id=\"text_1\">\n      <!-- 20 -->\n      <g transform=\"translate(82.615105 239.238437)scale(0.1 -0.1)\">\n       <defs>\n        <path id=\"DejaVuSans-32\" d=\"M 1228 531 \nL 3431 531 \nL 3431 0 \nL 469 0 \nL 469 531 \nQ 828 903 1448 1529 \nQ 2069 2156 2228 2338 \nQ 2531 2678 2651 2914 \nQ 2772 3150 2772 3378 \nQ 2772 3750 2511 3984 \nQ 2250 4219 1831 4219 \nQ 1534 4219 1204 4116 \nQ 875 4013 500 3803 \nL 500 4441 \nQ 881 4594 1212 4672 \nQ 1544 4750 1819 4750 \nQ 2544 4750 2975 4387 \nQ 3406 4025 3406 3419 \nQ 3406 3131 3298 2873 \nQ 3191 2616 2906 2266 \nQ 2828 2175 2409 1742 \nQ 1991 1309 1228 531 \nz\n\" transform=\"scale(0.015625)\"/>\n        <path id=\"DejaVuSans-30\" d=\"M 2034 4250 \nQ 1547 4250 1301 3770 \nQ 1056 3291 1056 2328 \nQ 1056 1369 1301 889 \nQ 1547 409 2034 409 \nQ 2525 409 2770 889 \nQ 3016 1369 3016 2328 \nQ 3016 3291 2770 3770 \nQ 2525 4250 2034 4250 \nz\nM 2034 4750 \nQ 2819 4750 3233 4129 \nQ 3647 3509 3647 2328 \nQ 3647 1150 3233 529 \nQ 2819 -91 2034 -91 \nQ 1250 -91 836 529 \nQ 422 1150 422 2328 \nQ 422 3509 836 4129 \nQ 1250 4750 2034 4750 \nz\n\" transform=\"scale(0.015625)\"/>\n       </defs>\n       <use xlink:href=\"#DejaVuSans-32\"/>\n       <use xlink:href=\"#DejaVuSans-30\" x=\"63.623047\"/>\n      </g>\n     </g>\n    </g>\n    <g id=\"xtick_2\">\n     <g id=\"line2d_2\">\n      <g>\n       <use xlink:href=\"#m985da4d285\" x=\"156.541159\" y=\"224.64\" style=\"stroke: #000000; stroke-width: 0.8\"/>\n      </g>\n     </g>\n     <g id=\"text_2\">\n      <!-- 40 -->\n      <g transform=\"translate(150.178659 239.238437)scale(0.1 -0.1)\">\n       <defs>\n        <path id=\"DejaVuSans-34\" d=\"M 2419 4116 \nL 825 1625 \nL 2419 1625 \nL 2419 4116 \nz\nM 2253 4666 \nL 3047 4666 \nL 3047 1625 \nL 3713 1625 \nL 3713 1100 \nL 3047 1100 \nL 3047 0 \nL 2419 0 \nL 2419 1100 \nL 313 1100 \nL 313 1709 \nL 2253 4666 \nz\n\" transform=\"scale(0.015625)\"/>\n       </defs>\n       <use xlink:href=\"#DejaVuSans-34\"/>\n       <use xlink:href=\"#DejaVuSans-30\" x=\"63.623047\"/>\n      </g>\n     </g>\n    </g>\n    <g id=\"xtick_3\">\n     <g id=\"line2d_3\">\n      <g>\n       <use xlink:href=\"#m985da4d285\" x=\"224.104712\" y=\"224.64\" style=\"stroke: #000000; stroke-width: 0.8\"/>\n      </g>\n     </g>\n     <g id=\"text_3\">\n      <!-- 60 -->\n      <g transform=\"translate(217.742212 239.238437)scale(0.1 -0.1)\">\n       <defs>\n        <path id=\"DejaVuSans-36\" d=\"M 2113 2584 \nQ 1688 2584 1439 2293 \nQ 1191 2003 1191 1497 \nQ 1191 994 1439 701 \nQ 1688 409 2113 409 \nQ 2538 409 2786 701 \nQ 3034 994 3034 1497 \nQ 3034 2003 2786 2293 \nQ 2538 2584 2113 2584 \nz\nM 3366 4563 \nL 3366 3988 \nQ 3128 4100 2886 4159 \nQ 2644 4219 2406 4219 \nQ 1781 4219 1451 3797 \nQ 1122 3375 1075 2522 \nQ 1259 2794 1537 2939 \nQ 1816 3084 2150 3084 \nQ 2853 3084 3261 2657 \nQ 3669 2231 3669 1497 \nQ 3669 778 3244 343 \nQ 2819 -91 2113 -91 \nQ 1303 -91 875 529 \nQ 447 1150 447 2328 \nQ 447 3434 972 4092 \nQ 1497 4750 2381 4750 \nQ 2619 4750 2861 4703 \nQ 3103 4656 3366 4563 \nz\n\" transform=\"scale(0.015625)\"/>\n       </defs>\n       <use xlink:href=\"#DejaVuSans-36\"/>\n       <use xlink:href=\"#DejaVuSans-30\" x=\"63.623047\"/>\n      </g>\n     </g>\n    </g>\n    <g id=\"xtick_4\">\n     <g id=\"line2d_4\">\n      <g>\n       <use xlink:href=\"#m985da4d285\" x=\"291.668265\" y=\"224.64\" style=\"stroke: #000000; stroke-width: 0.8\"/>\n      </g>\n     </g>\n     <g id=\"text_4\">\n      <!-- 80 -->\n      <g transform=\"translate(285.305765 239.238437)scale(0.1 -0.1)\">\n       <defs>\n        <path id=\"DejaVuSans-38\" d=\"M 2034 2216 \nQ 1584 2216 1326 1975 \nQ 1069 1734 1069 1313 \nQ 1069 891 1326 650 \nQ 1584 409 2034 409 \nQ 2484 409 2743 651 \nQ 3003 894 3003 1313 \nQ 3003 1734 2745 1975 \nQ 2488 2216 2034 2216 \nz\nM 1403 2484 \nQ 997 2584 770 2862 \nQ 544 3141 544 3541 \nQ 544 4100 942 4425 \nQ 1341 4750 2034 4750 \nQ 2731 4750 3128 4425 \nQ 3525 4100 3525 3541 \nQ 3525 3141 3298 2862 \nQ 3072 2584 2669 2484 \nQ 3125 2378 3379 2068 \nQ 3634 1759 3634 1313 \nQ 3634 634 3220 271 \nQ 2806 -91 2034 -91 \nQ 1263 -91 848 271 \nQ 434 634 434 1313 \nQ 434 1759 690 2068 \nQ 947 2378 1403 2484 \nz\nM 1172 3481 \nQ 1172 3119 1398 2916 \nQ 1625 2713 2034 2713 \nQ 2441 2713 2670 2916 \nQ 2900 3119 2900 3481 \nQ 2900 3844 2670 4047 \nQ 2441 4250 2034 4250 \nQ 1625 4250 1398 4047 \nQ 1172 3844 1172 3481 \nz\n\" transform=\"scale(0.015625)\"/>\n       </defs>\n       <use xlink:href=\"#DejaVuSans-38\"/>\n       <use xlink:href=\"#DejaVuSans-30\" x=\"63.623047\"/>\n      </g>\n     </g>\n    </g>\n    <g id=\"xtick_5\">\n     <g id=\"line2d_5\">\n      <g>\n       <use xlink:href=\"#m985da4d285\" x=\"359.231818\" y=\"224.64\" style=\"stroke: #000000; stroke-width: 0.8\"/>\n      </g>\n     </g>\n     <g id=\"text_5\">\n      <!-- 100 -->\n      <g transform=\"translate(349.688068 239.238437)scale(0.1 -0.1)\">\n       <defs>\n        <path id=\"DejaVuSans-31\" d=\"M 794 531 \nL 1825 531 \nL 1825 4091 \nL 703 3866 \nL 703 4441 \nL 1819 4666 \nL 2450 4666 \nL 2450 531 \nL 3481 531 \nL 3481 0 \nL 794 0 \nL 794 531 \nz\n\" transform=\"scale(0.015625)\"/>\n       </defs>\n       <use xlink:href=\"#DejaVuSans-31\"/>\n       <use xlink:href=\"#DejaVuSans-30\" x=\"63.623047\"/>\n       <use xlink:href=\"#DejaVuSans-30\" x=\"127.246094\"/>\n      </g>\n     </g>\n    </g>\n   </g>\n   <g id=\"matplotlib.axis_2\">\n    <g id=\"ytick_1\">\n     <g id=\"line2d_6\">\n      <defs>\n       <path id=\"mcf88a44e24\" d=\"M 0 0 \nL -3.5 0 \n\" style=\"stroke: #000000; stroke-width: 0.8\"/>\n      </defs>\n      <g>\n       <use xlink:href=\"#mcf88a44e24\" x=\"39.65\" y=\"214.756364\" style=\"stroke: #000000; stroke-width: 0.8\"/>\n      </g>\n     </g>\n     <g id=\"text_6\">\n      <!-- 0 -->\n      <g transform=\"translate(26.2875 218.555582)scale(0.1 -0.1)\">\n       <use xlink:href=\"#DejaVuSans-30\"/>\n      </g>\n     </g>\n    </g>\n    <g id=\"ytick_2\">\n     <g id=\"line2d_7\">\n      <g>\n       <use xlink:href=\"#mcf88a44e24\" x=\"39.65\" y=\"175.2189\" style=\"stroke: #000000; stroke-width: 0.8\"/>\n      </g>\n     </g>\n     <g id=\"text_7\">\n      <!-- 200 -->\n      <g transform=\"translate(13.5625 179.018119)scale(0.1 -0.1)\">\n       <use xlink:href=\"#DejaVuSans-32\"/>\n       <use xlink:href=\"#DejaVuSans-30\" x=\"63.623047\"/>\n       <use xlink:href=\"#DejaVuSans-30\" x=\"127.246094\"/>\n      </g>\n     </g>\n    </g>\n    <g id=\"ytick_3\">\n     <g id=\"line2d_8\">\n      <g>\n       <use xlink:href=\"#mcf88a44e24\" x=\"39.65\" y=\"135.681436\" style=\"stroke: #000000; stroke-width: 0.8\"/>\n      </g>\n     </g>\n     <g id=\"text_8\">\n      <!-- 400 -->\n      <g transform=\"translate(13.5625 139.480655)scale(0.1 -0.1)\">\n       <use xlink:href=\"#DejaVuSans-34\"/>\n       <use xlink:href=\"#DejaVuSans-30\" x=\"63.623047\"/>\n       <use xlink:href=\"#DejaVuSans-30\" x=\"127.246094\"/>\n      </g>\n     </g>\n    </g>\n    <g id=\"ytick_4\">\n     <g id=\"line2d_9\">\n      <g>\n       <use xlink:href=\"#mcf88a44e24\" x=\"39.65\" y=\"96.143973\" style=\"stroke: #000000; stroke-width: 0.8\"/>\n      </g>\n     </g>\n     <g id=\"text_9\">\n      <!-- 600 -->\n      <g transform=\"translate(13.5625 99.943191)scale(0.1 -0.1)\">\n       <use xlink:href=\"#DejaVuSans-36\"/>\n       <use xlink:href=\"#DejaVuSans-30\" x=\"63.623047\"/>\n       <use xlink:href=\"#DejaVuSans-30\" x=\"127.246094\"/>\n      </g>\n     </g>\n    </g>\n    <g id=\"ytick_5\">\n     <g id=\"line2d_10\">\n      <g>\n       <use xlink:href=\"#mcf88a44e24\" x=\"39.65\" y=\"56.606509\" style=\"stroke: #000000; stroke-width: 0.8\"/>\n      </g>\n     </g>\n     <g id=\"text_10\">\n      <!-- 800 -->\n      <g transform=\"translate(13.5625 60.405728)scale(0.1 -0.1)\">\n       <use xlink:href=\"#DejaVuSans-38\"/>\n       <use xlink:href=\"#DejaVuSans-30\" x=\"63.623047\"/>\n       <use xlink:href=\"#DejaVuSans-30\" x=\"127.246094\"/>\n      </g>\n     </g>\n    </g>\n    <g id=\"ytick_6\">\n     <g id=\"line2d_11\">\n      <g>\n       <use xlink:href=\"#mcf88a44e24\" x=\"39.65\" y=\"17.069045\" style=\"stroke: #000000; stroke-width: 0.8\"/>\n      </g>\n     </g>\n     <g id=\"text_11\">\n      <!-- 1000 -->\n      <g transform=\"translate(7.2 20.868264)scale(0.1 -0.1)\">\n       <use xlink:href=\"#DejaVuSans-31\"/>\n       <use xlink:href=\"#DejaVuSans-30\" x=\"63.623047\"/>\n       <use xlink:href=\"#DejaVuSans-30\" x=\"127.246094\"/>\n       <use xlink:href=\"#DejaVuSans-30\" x=\"190.869141\"/>\n      </g>\n     </g>\n    </g>\n   </g>\n   <g id=\"line2d_12\">\n    <path d=\"M 359.231818 214.756364 \nL 359.119798 213.155097 \nL 358.783038 211.534062 \nL 358.203276 209.853723 \nL 357.356232 208.094313 \nL 356.199126 206.216296 \nL 354.675294 204.180137 \nL 352.71689 201.946303 \nL 350.227519 199.45549 \nL 347.098481 196.648398 \nL 343.139667 193.406424 \nL 338.139655 189.610967 \nL 331.792844 185.084124 \nL 323.661285 179.568925 \nL 313.045623 172.650265 \nL 298.876752 163.695605 \nL 279.355856 151.637535 \nL 251.060481 134.440071 \nL 206.620209 107.714982 \nL 124.1139 58.396418 \nL 54.868182 17.083636 \nL 54.868182 17.083636 \n\" clip-path=\"url(#pe3c9f763c7)\" style=\"fill: none; stroke: #1f77b4; stroke-width: 1.5; stroke-linecap: square\"/>\n   </g>\n   <g id=\"patch_3\">\n    <path d=\"M 39.65 224.64 \nL 39.65 7.2 \n\" style=\"fill: none; stroke: #000000; stroke-width: 0.8; stroke-linejoin: miter; stroke-linecap: square\"/>\n   </g>\n   <g id=\"patch_4\">\n    <path d=\"M 374.45 224.64 \nL 374.45 7.2 \n\" style=\"fill: none; stroke: #000000; stroke-width: 0.8; stroke-linejoin: miter; stroke-linecap: square\"/>\n   </g>\n   <g id=\"patch_5\">\n    <path d=\"M 39.65 224.64 \nL 374.45 224.64 \n\" style=\"fill: none; stroke: #000000; stroke-width: 0.8; stroke-linejoin: miter; stroke-linecap: square\"/>\n   </g>\n   <g id=\"patch_6\">\n    <path d=\"M 39.65 7.2 \nL 374.45 7.2 \n\" style=\"fill: none; stroke: #000000; stroke-width: 0.8; stroke-linejoin: miter; stroke-linecap: square\"/>\n   </g>\n  </g>\n </g>\n <defs>\n  <clipPath id=\"pe3c9f763c7\">\n   <rect x=\"39.65\" y=\"7.2\" width=\"334.8\" height=\"217.44\"/>\n  </clipPath>\n </defs>\n</svg>\n",
      "image/png": "[encoded data removed]"
     },
     "metadata": {
      "needs_background": "light"
     }
    }
   ],
   "metadata": {}
  },
  {
   "cell_type": "markdown",
   "source": [
    "### 3-body problem\n",
    "**Add a third particle to the system**.  It may require a little bit of trial and error to find a stable trajectory (HINT: One stable configuration would add a particle 3 that is somehow symmetric with particle 2.  Explore modifications to the mass and initial conditions to see what kinds of things can happen to our little planets.  "
   ],
   "metadata": {}
  },
  {
   "cell_type": "code",
   "execution_count": null,
   "source": [],
   "outputs": [],
   "metadata": {}
  }
 ],
 "metadata": {
  "kernelspec": {
   "name": "python3",
   "display_name": "Python 3.9.12 64-bit ('base': conda)"
  },
  "language_info": {
   "codemirror_mode": {
    "name": "ipython",
    "version": 3
   },
   "file_extension": ".py",
   "mimetype": "text/x-python",
   "name": "python",
   "nbconvert_exporter": "python",
   "pygments_lexer": "ipython3",
   "version": "3.9.12"
  },
  "interpreter": {
   "hash": "949183bae10d6f6601199a92cdca330a95f61ba4d882df6dff7be328bb4fbfab"
  }
 },
 "nbformat": 4,
 "nbformat_minor": 5
}