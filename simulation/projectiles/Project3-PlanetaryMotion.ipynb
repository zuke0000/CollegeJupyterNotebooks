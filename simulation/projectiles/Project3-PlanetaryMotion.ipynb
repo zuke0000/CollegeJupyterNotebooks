{
 "cells": [
  {
   "cell_type": "markdown",
   "source": [
    "# Project 3a - Planetary Motion\n",
    "\n",
    "## Due 2/14\n",
    "\n",
    "Particle motion under gravity and drag are useful test cases because they are quite simple.  However, there are only so many things that can occur because there is no interaction between different particles.  An interesting generalization of particle motion is the case in which we do not assume uniform gravity, but rather use the full specification for the gravitational force between two particles $i$ and $j$, which is given by\n",
    "$$ F_{ij} = -G\\frac{m_i m_j}{|\\mathbf{r}_{ij}|^3} \\mathbf{r}_{ij}. $$\n",
    "Note that this force is anti-symmetric, and leads to and acceleration in particle $i$ due to its interaction with particle $j$ that look like this\n",
    "$$\n",
    "\\frac{\\partial \\mathbf{v}_i}{\\partial t} = -G \\frac{m_j}{|\\mathbf{r}_{ij}|^3} \\mathbf{r}_{ij}.\n",
    "$$\n",
    "$$\n",
    "\\frac{\\partial \\mathbf{v}_j}{\\partial t} = -G \\frac{m_i}{|\\mathbf{r}_{ij}|^3} \\mathbf{r}_{ji}.\n",
    "$$\n",
    "As before, when integrating Newton's laws of motion, the derivative of position is just velocity\n",
    "$$\n",
    "\\frac{\\partial \\mathbf{x}_i}{\\partial t} = \\mathbf{v}_i.\n",
    "$$\n",
    "\n",
    "If we have $n$ particles, the forces are additive and we have that for a general particle $i$\n",
    "$$\n",
    "\\frac{\\partial \\mathbf{x}_i}{\\partial t} = \\mathbf{v}_i.\n",
    "$$\n",
    "$$\n",
    "\\frac{\\partial \\mathbf{v}_i}{\\partial t} = \\sum_{k=1,k\\neq i}^N -G \\frac{m_k}{|\\mathbf{r}_{ik}|^3} \\mathbf{r}_{ik}.\n",
    "$$\n",
    "\n",
    "### Planetary motion problem\n",
    "**Your first task is to create a planetary motion problem class using the same specification as before**.  Note that you will have to keep track of a few things: for each particle, you will have two coordinates and two velocities, for a total of $4N$ degrees of freedom.  You should be careful to choose an organizational structure that lets you keep these things straight. "
   ],
   "metadata": {}
  },
  {
   "cell_type": "code",
   "execution_count": null,
   "source": [
    "import numpy as np\r\n",
    "\r\n",
    "class PlanetaryMotion:\r\n",
    "    \"\"\" This is an example class for an ODE specification\"\"\"\r\n",
    "    \r\n",
    "    def __init__(self,G=6.67e-11,m=np.array([1.,1.]),n_bodies=2):\r\n",
    "        self.n_dof = n_bodies * 2 # each particle keeps track of 4 variables\r\n",
    "        self.g = 1\r\n",
    "        self.m = m\r\n",
    "        \r\n",
    "\r\n",
    "    def rhs(self,t,u):\r\n",
    "        # the right hand side of the ode (or $\\mathcal{F}(t,u)$)\r\n",
    "        # u = |x1 y1 x2 y2 vx1 vx2 vy1 vy2|\r\n",
    "        # implement u in a way that can take n bodies\r\n",
    "        # |x1 x2 x3, y1 y2 y3, vx1 vx2 vx3, vy1 vy2 vy3|\r\n",
    "        dudt = np.zeros(self.n_dof)\r\n",
    "        dudt[0] = u[2]\r\n",
    "        dudt[1] = u[3]\r\n",
    "        dudt[2] = u \r\n",
    "    "
   ],
   "outputs": [],
   "metadata": {}
  },
  {
   "cell_type": "markdown",
   "source": [
    "### A conservative time stepping scheme\n",
    "Unfortunately these equations are a bit picky: they are sensitive to accumulating errors in the system.  One way to account for this is to use a time-stepping scheme that conserves energy exactly: even if the integration isn't accurate, it will not blow up.  One such algorithm is the Euler-Cromer algorithm, which is given by Eq. 3.34 in Gould.  **Implement this time-stepping scheme**."
   ],
   "metadata": {}
  },
  {
   "cell_type": "code",
   "execution_count": null,
   "source": [
    "class EulerCromer:\r\n",
    "    def __init__(self):\r\n",
    "        pass   \r\n",
    "    \r\n",
    "    def step(self,ode,t,dt,u_0):\r\n",
    "        pass"
   ],
   "outputs": [],
   "metadata": {}
  },
  {
   "cell_type": "markdown",
   "source": [
    "### Integrating the equations of motion\n",
    "We can use the same Integrator object as before.  **Integrate the equations of motion for a 2 body system.**  Setting the initial conditions can be a little bit tricky: not all conditions lead to stable orbits.  One such circumstance that does is for $m_1=1e4$,$m_2=1$, and $G=1$, with the velocity and position of particle 1 uniformly zero, and the velocity and position of particle 2 given by\n",
    "$$\n",
    "\\mathbf{x}_2 = [100,0]\n",
    "$$\n",
    "$$\n",
    "\\mathbf{v}_2 = [0,10]\n",
    "$$\n",
    "**Plot the trajectory of the particle in whatever way seems suitable to you.** I find that plots of both position versus time, as well as x-position versus y-position are instructive."
   ],
   "metadata": {}
  },
  {
   "cell_type": "code",
   "execution_count": null,
   "source": [
    "class Integrator:\r\n",
    "    def __init__(self,ode,method):\r\n",
    "        self.ode = ode\r\n",
    "        self.method = method\r\n",
    "        \r\n",
    "    def integrate(self,interval,dt,u_0):\r\n",
    "        t_0 = interval[0]\r\n",
    "        t_end = interval[1]\r\n",
    "        \r\n",
    "        times = [t_0]\r\n",
    "        states = [u_0]\r\n",
    "        \r\n",
    "        t = t_0\r\n",
    "        while t<t_end:\r\n",
    "            dt_ = min(dt,t_end-t)\r\n",
    "            u_1 = self.method.step(self.ode,t,dt_,u_0)\r\n",
    "            t = t + dt_\r\n",
    "            u_0 = u_1\r\n",
    "            \r\n",
    "            times.append(t)\r\n",
    "            states.append(u_1)\r\n",
    "            \r\n",
    "        return np.array(times),np.array(states)"
   ],
   "outputs": [],
   "metadata": {}
  },
  {
   "cell_type": "markdown",
   "source": [
    "### Energy Conservation\n",
    "If you implemented the above correctly, your particle should be moving in a stable, repeating, circular trajectory.  Now try again with Euler's method rather than Euler-Cromer.  What is happening here?  It turns out that Euler's method does not conserve energy.  We can illustrate this directly by computing the total energy of the system as a function of time.  There are two reservoirs of energy in this system: the gravitational potential energy, which is given by\n",
    "$$\n",
    "T = -\\sum_{i=1}^N \\sum_{k=1,i\\neq k}^N G \\frac{m_i m_k}{|\\mathbf{r}_{ik}|}\n",
    "$$\n",
    "and the kinetic energy\n",
    "$$\n",
    "K = \\sum_{i=1}^N \\frac{1}{2} m_i v_i^2\n",
    "$$\n",
    "**Compute and plot $T + K$ at every time step for both the Euler-Cromer and Euler's method, and comment whether each method conserves energy**.\n"
   ],
   "metadata": {}
  },
  {
   "cell_type": "code",
   "execution_count": null,
   "source": [],
   "outputs": [],
   "metadata": {}
  },
  {
   "cell_type": "markdown",
   "source": [
    "### 3-body problem\n",
    "**Add a third particle to the system**.  It may require a little bit of trial and error to find a stable trajectory (HINT: One stable configuration would add a particle 3 that is somehow symmetric with particle 2.  Explore modifications to the mass and initial conditions to see what kinds of things can happen to our little planets.  "
   ],
   "metadata": {}
  },
  {
   "cell_type": "code",
   "execution_count": null,
   "source": [],
   "outputs": [],
   "metadata": {}
  }
 ],
 "metadata": {
  "kernelspec": {
   "name": "python3",
   "display_name": "Python 3.9.12 64-bit ('base': conda)"
  },
  "language_info": {
   "codemirror_mode": {
    "name": "ipython",
    "version": 3
   },
   "file_extension": ".py",
   "mimetype": "text/x-python",
   "name": "python",
   "nbconvert_exporter": "python",
   "pygments_lexer": "ipython3",
   "version": "3.9.12"
  },
  "interpreter": {
   "hash": "949183bae10d6f6601199a92cdca330a95f61ba4d882df6dff7be328bb4fbfab"
  }
 },
 "nbformat": 4,
 "nbformat_minor": 5
}