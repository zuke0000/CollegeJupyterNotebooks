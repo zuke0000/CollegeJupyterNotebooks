{
 "cells": [
  {
   "cell_type": "code",
<<<<<<< HEAD
   "execution_count": 1,
=======
   "execution_count": 171,
>>>>>>> 6942337bc5fad0f34e21db42a44835bbaff7b87f
   "id": "8f56ced3",
   "metadata": {},
   "outputs": [],
   "source": [
    "import pandas as pd\n",
    "import numpy as np"
   ]
  },
  {
   "cell_type": "code",
<<<<<<< HEAD
   "execution_count": 2,
=======
   "execution_count": 172,
>>>>>>> 6942337bc5fad0f34e21db42a44835bbaff7b87f
   "id": "c85f5992",
   "metadata": {},
   "outputs": [
    {
     "data": {
      "text/html": [
       "<div>\n",
       "<style scoped>\n",
       "    .dataframe tbody tr th:only-of-type {\n",
       "        vertical-align: middle;\n",
       "    }\n",
       "\n",
       "    .dataframe tbody tr th {\n",
       "        vertical-align: top;\n",
       "    }\n",
       "\n",
       "    .dataframe thead th {\n",
       "        text-align: right;\n",
       "    }\n",
       "</style>\n",
       "<table border=\"1\" class=\"dataframe\">\n",
       "  <thead>\n",
       "    <tr style=\"text-align: right;\">\n",
       "      <th></th>\n",
       "      <th>Teacher Gender Male?</th>\n",
       "      <th>Student Gender Male?</th>\n",
       "      <th>Teacher same as student gender?</th>\n",
       "      <th>Morning class?</th>\n",
       "      <th>High School Year</th>\n",
       "      <th>6. How old are you?</th>\n",
       "      <th>Grade in Class</th>\n",
       "      <th>GPA</th>\n",
       "      <th>Absences</th>\n",
       "      <th>Standards Based Grading Used?</th>\n",
       "      <th>...</th>\n",
       "      <th>34. How much homework does your English teacher give you?</th>\n",
       "      <th>Is student allowed to eat food?</th>\n",
       "      <th>36. Does your teacher provide students with snacks?</th>\n",
       "      <th>37. How is the temperature of the room most of the time?</th>\n",
       "      <th>38. How often do you read books outside of class? (comics included)</th>\n",
       "      <th>39. Do one of your parents/guardians have a degree?</th>\n",
       "      <th>40. Are you the youngest, middle, or oldest sibling in your family?</th>\n",
       "      <th>41. What is your current level of happiness in general?</th>\n",
       "      <th>Student Hours of sleep</th>\n",
       "      <th>43. What statement best describes your family's income?</th>\n",
       "    </tr>\n",
       "  </thead>\n",
       "  <tbody>\n",
       "    <tr>\n",
       "      <th>0</th>\n",
       "      <td>1</td>\n",
       "      <td>0</td>\n",
       "      <td>0</td>\n",
       "      <td>1</td>\n",
       "      <td>3</td>\n",
       "      <td>16</td>\n",
       "      <td>90.62%</td>\n",
       "      <td>4.000</td>\n",
       "      <td>7</td>\n",
       "      <td>1</td>\n",
       "      <td>...</td>\n",
       "      <td>A lot, I can barely keep up.</td>\n",
       "      <td>0</td>\n",
       "      <td>Rarely</td>\n",
       "      <td>A little chilly</td>\n",
       "      <td>I rarely read books</td>\n",
       "      <td>Both parents/guardians have a degree</td>\n",
       "      <td>I'm the oldest</td>\n",
       "      <td>I am happy most of the time</td>\n",
       "      <td>7</td>\n",
       "      <td>Our income covers our needs and a little more,...</td>\n",
       "    </tr>\n",
       "    <tr>\n",
       "      <th>1</th>\n",
       "      <td>1</td>\n",
       "      <td>0</td>\n",
       "      <td>0</td>\n",
       "      <td>1</td>\n",
       "      <td>3</td>\n",
       "      <td>17</td>\n",
       "      <td>84.78%</td>\n",
       "      <td>3.769</td>\n",
       "      <td>4</td>\n",
       "      <td>1</td>\n",
       "      <td>...</td>\n",
       "      <td>A decent amount, I don't struggle to stay on t...</td>\n",
       "      <td>1</td>\n",
       "      <td>Rarely</td>\n",
       "      <td>Ideal temperature</td>\n",
       "      <td>I never read books</td>\n",
       "      <td>Both parents/guardians have a degree</td>\n",
       "      <td>I'm the oldest</td>\n",
       "      <td>I have my ups and downs</td>\n",
       "      <td>7</td>\n",
       "      <td>Our income covers our needs and more, I don't ...</td>\n",
       "    </tr>\n",
       "    <tr>\n",
       "      <th>2</th>\n",
       "      <td>1</td>\n",
       "      <td>0</td>\n",
       "      <td>0</td>\n",
       "      <td>1</td>\n",
       "      <td>3</td>\n",
       "      <td>16</td>\n",
       "      <td>94.79%</td>\n",
       "      <td>4.000</td>\n",
       "      <td>4</td>\n",
       "      <td>1</td>\n",
       "      <td>...</td>\n",
       "      <td>A decent amount, I don't struggle to stay on t...</td>\n",
       "      <td>1</td>\n",
       "      <td>Never</td>\n",
       "      <td>A little chilly</td>\n",
       "      <td>I read books every now and then</td>\n",
       "      <td>Both parents/guardians have a degree</td>\n",
       "      <td>I'm the oldest</td>\n",
       "      <td>I have my ups and downs</td>\n",
       "      <td>7</td>\n",
       "      <td>Our income covers our needs and more, I don't ...</td>\n",
       "    </tr>\n",
       "    <tr>\n",
       "      <th>3</th>\n",
       "      <td>1</td>\n",
       "      <td>1</td>\n",
       "      <td>1</td>\n",
       "      <td>1</td>\n",
       "      <td>3</td>\n",
       "      <td>16</td>\n",
       "      <td>94.13%</td>\n",
       "      <td>4.000</td>\n",
       "      <td>8</td>\n",
       "      <td>1</td>\n",
       "      <td>...</td>\n",
       "      <td>A decent amount, I don't struggle to stay on t...</td>\n",
       "      <td>1</td>\n",
       "      <td>Rarely</td>\n",
       "      <td>Ideal temperature</td>\n",
       "      <td>I read frequently in my free time</td>\n",
       "      <td>Both parents/guardians have a degree</td>\n",
       "      <td>I'm the youngest</td>\n",
       "      <td>I feel down a decent amount of time</td>\n",
       "      <td>6</td>\n",
       "      <td>Our income covers our needs and more, I don't ...</td>\n",
       "    </tr>\n",
       "    <tr>\n",
       "      <th>4</th>\n",
       "      <td>1</td>\n",
       "      <td>0</td>\n",
       "      <td>0</td>\n",
       "      <td>1</td>\n",
       "      <td>3</td>\n",
       "      <td>16</td>\n",
       "      <td>72.62%</td>\n",
       "      <td>3.250</td>\n",
       "      <td>10</td>\n",
       "      <td>1</td>\n",
       "      <td>...</td>\n",
       "      <td>A decent amount, I don't struggle to stay on t...</td>\n",
       "      <td>1</td>\n",
       "      <td>Rarely</td>\n",
       "      <td>A little chilly</td>\n",
       "      <td>I read frequently in my free time</td>\n",
       "      <td>Both parents/guardians have a degree</td>\n",
       "      <td>I'm the oldest</td>\n",
       "      <td>I am happy most of the time</td>\n",
       "      <td>6</td>\n",
       "      <td>Our income covers our needs, but budgeting sto...</td>\n",
       "    </tr>\n",
       "  </tbody>\n",
       "</table>\n",
       "<p>5 rows × 43 columns</p>\n",
       "</div>"
      ],
      "text/plain": [
       "   Teacher Gender Male?  Student Gender Male?  \\\n",
       "0                     1                     0   \n",
       "1                     1                     0   \n",
       "2                     1                     0   \n",
       "3                     1                     1   \n",
       "4                     1                     0   \n",
       "\n",
       "   Teacher same as student gender?  Morning class?  High School Year  \\\n",
       "0                                0               1                 3   \n",
       "1                                0               1                 3   \n",
       "2                                0               1                 3   \n",
       "3                                1               1                 3   \n",
       "4                                0               1                 3   \n",
       "\n",
       "   6. How old are you? Grade in Class    GPA  Absences  \\\n",
       "0                   16         90.62%  4.000         7   \n",
       "1                   17         84.78%  3.769         4   \n",
       "2                   16         94.79%  4.000         4   \n",
       "3                   16         94.13%  4.000         8   \n",
       "4                   16         72.62%  3.250        10   \n",
       "\n",
       "   Standards Based Grading Used?  ...  \\\n",
       "0                              1  ...   \n",
       "1                              1  ...   \n",
       "2                              1  ...   \n",
       "3                              1  ...   \n",
       "4                              1  ...   \n",
       "\n",
       "  34. How much homework does your English teacher give you?  \\\n",
       "0                       A lot, I can barely keep up.          \n",
       "1  A decent amount, I don't struggle to stay on t...          \n",
       "2  A decent amount, I don't struggle to stay on t...          \n",
       "3  A decent amount, I don't struggle to stay on t...          \n",
       "4  A decent amount, I don't struggle to stay on t...          \n",
       "\n",
       "  Is student allowed to eat food?  \\\n",
       "0                               0   \n",
       "1                               1   \n",
       "2                               1   \n",
       "3                               1   \n",
       "4                               1   \n",
       "\n",
       "  36. Does your teacher provide students with snacks?  \\\n",
       "0                                             Rarely    \n",
       "1                                             Rarely    \n",
       "2                                              Never    \n",
       "3                                             Rarely    \n",
       "4                                             Rarely    \n",
       "\n",
       "  37. How is the temperature of the room most of the time?  \\\n",
       "0                                    A little chilly         \n",
       "1                                  Ideal temperature         \n",
       "2                                    A little chilly         \n",
       "3                                  Ideal temperature         \n",
       "4                                    A little chilly         \n",
       "\n",
       "  38. How often do you read books outside of class? (comics included)  \\\n",
       "0                                I rarely read books                    \n",
       "1                                 I never read books                    \n",
       "2                    I read books every now and then                    \n",
       "3                  I read frequently in my free time                    \n",
       "4                  I read frequently in my free time                    \n",
       "\n",
       "   39. Do one of your parents/guardians have a degree?  \\\n",
       "0               Both parents/guardians have a degree     \n",
       "1               Both parents/guardians have a degree     \n",
       "2               Both parents/guardians have a degree     \n",
       "3               Both parents/guardians have a degree     \n",
       "4               Both parents/guardians have a degree     \n",
       "\n",
       "   40. Are you the youngest, middle, or oldest sibling in your family?  \\\n",
       "0                                     I'm the oldest                     \n",
       "1                                     I'm the oldest                     \n",
       "2                                     I'm the oldest                     \n",
       "3                                   I'm the youngest                     \n",
       "4                                     I'm the oldest                     \n",
       "\n",
       "   41. What is your current level of happiness in general?  \\\n",
       "0                        I am happy most of the time         \n",
       "1                            I have my ups and downs         \n",
       "2                            I have my ups and downs         \n",
       "3                I feel down a decent amount of time         \n",
       "4                        I am happy most of the time         \n",
       "\n",
       "   Student Hours of sleep  \\\n",
       "0                       7   \n",
       "1                       7   \n",
       "2                       7   \n",
       "3                       6   \n",
       "4                       6   \n",
       "\n",
       "  43. What statement best describes your family's income?  \n",
       "0  Our income covers our needs and a little more,...       \n",
       "1  Our income covers our needs and more, I don't ...       \n",
       "2  Our income covers our needs and more, I don't ...       \n",
       "3  Our income covers our needs and more, I don't ...       \n",
       "4  Our income covers our needs, but budgeting sto...       \n",
       "\n",
       "[5 rows x 43 columns]"
      ]
     },
<<<<<<< HEAD
     "execution_count": 2,
=======
     "execution_count": 172,
>>>>>>> 6942337bc5fad0f34e21db42a44835bbaff7b87f
     "metadata": {},
     "output_type": "execute_result"
    }
   ],
   "source": [
    "# import data from csv file, set it up as a Pandas data table\n",
    "path = 'Data Points for Practice - Data.csv' \n",
    "data = pd.read_csv(path)\n",
    "data.head(5) # forget unnamed for now"
   ]
  },
  {
   "cell_type": "code",
<<<<<<< HEAD
   "execution_count": 3,
=======
   "execution_count": 197,
>>>>>>> 6942337bc5fad0f34e21db42a44835bbaff7b87f
   "id": "f6638584",
   "metadata": {},
   "outputs": [],
   "source": [
    "features = data.columns.drop('Grade in Class')\n",
    "numerics = ['int16', 'int32', 'int64', 'float16', 'float32', 'float64']\n",
    "\n",
    "numerical_features = data.select_dtypes(include=numerics).columns # list of column names that are numerical\n",
    "categorical_features = features.drop(numerical_features) # list of column names that are categorical\n",
    "#classification_features = features.drop('')"
   ]
  },
  {
   "cell_type": "code",
<<<<<<< HEAD
   "execution_count": 4,
=======
   "execution_count": 198,
>>>>>>> 6942337bc5fad0f34e21db42a44835bbaff7b87f
   "id": "ca4fbfde",
   "metadata": {},
   "outputs": [],
   "source": [
    "# setup X and y data\n",
    "# Note that X is the features and y is the target we want to predict\n",
    "\n",
    "X = data.drop('Grade in Class', axis=1)\n",
    "y = data['Grade in Class'].str.rstrip('%').astype('float')\n",
    "\n",
    "# setup test split, model randomly chooses students to predict their grade\n",
    "from sklearn.model_selection import train_test_split\n",
    "X_train,X_test,y_train,y_test = train_test_split(X,y)"
   ]
  },
  {
   "cell_type": "code",
<<<<<<< HEAD
   "execution_count": 5,
=======
   "execution_count": 222,
>>>>>>> 6942337bc5fad0f34e21db42a44835bbaff7b87f
   "id": "be276258",
   "metadata": {},
   "outputs": [],
   "source": [
    "# pipeline\n",
    "#setup pipe\n",
    "from sklearn.linear_model import LinearRegression\n",
    "from sklearn.pipeline import Pipeline\n",
    "from sklearn.compose import ColumnTransformer\n",
    "from sklearn.impute import SimpleImputer\n",
    "from sklearn.preprocessing import OneHotEncoder, MinMaxScaler, PolynomialFeatures\n",
    "from sklearn.ensemble import RandomForestRegressor, RandomForestClassifier\n",
    "from sklearn.tree import DecisionTreeClassifier\n",
    "\n",
    "# imputers take care of missing values incase any aren't there\n",
    "num_processor = Pipeline(steps=[\n",
    "    ('imputer', SimpleImputer(strategy='median')),\n",
    "    ('scaler', MinMaxScaler()),\n",
    "])\n",
    "\n",
    "cat_processor = Pipeline(steps=[\n",
    "    ('imputer', SimpleImputer(strategy='most_frequent')),\n",
    "    ('encoder', OneHotEncoder(handle_unknown='ignore')) # was handle_unknown='ignore'\n",
    "])\n",
    "\n",
    "feature_processor = ColumnTransformer(transformers=[\n",
    "    ('num_processor', num_processor, numerical_features),\n",
    "    ('cat_processor', cat_processor, categorical_features,)\n",
    "], remainder='passthrough')\n",
    "\n",
    "pipe = Pipeline(steps=[\n",
    "    ('feature_processor', feature_processor),\n",
    "    ('forest', RandomForestRegressor())\n",
    "])\n"
   ]
  },
  {
   "cell_type": "code",
<<<<<<< HEAD
   "execution_count": 6,
=======
   "execution_count": 223,
>>>>>>> 6942337bc5fad0f34e21db42a44835bbaff7b87f
   "id": "ccc993f6",
   "metadata": {},
   "outputs": [
    {
<<<<<<< HEAD
     "data": {
      "text/plain": [
       "Pipeline(steps=[('feature_processor',\n",
       "                 ColumnTransformer(remainder='passthrough',\n",
       "                                   transformers=[('num_processor',\n",
       "                                                  Pipeline(steps=[('imputer',\n",
       "                                                                   SimpleImputer(strategy='median')),\n",
       "                                                                  ('scaler',\n",
       "                                                                   MinMaxScaler())]),\n",
       "                                                  Index(['Teacher Gender Male?', 'Student Gender Male?',\n",
       "       'Teacher same as student gender?', 'Morning class?', 'High School Year',\n",
       "       '6. How old are you?', 'GPA', 'Absences',\n",
       "       'Sta...\n",
       "       '37. How is the temperature of the room most of the time?',\n",
       "       '38. How often do you read books outside of class? (comics included)',\n",
       "       '39. Do one of your parents/guardians have a degree?',\n",
       "       '40. Are you the youngest, middle, or oldest sibling in your family?',\n",
       "       '41. What is your current level of happiness in general?',\n",
       "       '43. What statement best describes your family's income?'],\n",
       "      dtype='object'))])),\n",
       "                ('forest', RandomForestRegressor())])"
      ]
     },
     "execution_count": 6,
=======
     "name": "stderr",
     "output_type": "stream",
     "text": [
      "c:\\Users\\Derrick\\Anaconda3\\lib\\site-packages\\sklearn\\ensemble\\forest.py:245: FutureWarning: The default value of n_estimators will change from 10 in version 0.20 to 100 in 0.22.\n",
      "  \"10 in version 0.20 to 100 in 0.22.\", FutureWarning)\n"
     ]
    },
    {
     "data": {
      "text/plain": [
       "Pipeline(memory=None,\n",
       "         steps=[('feature_processor',\n",
       "                 ColumnTransformer(n_jobs=None, remainder='passthrough',\n",
       "                                   sparse_threshold=0.3,\n",
       "                                   transformer_weights=None,\n",
       "                                   transformers=[('num_processor',\n",
       "                                                  Pipeline(memory=None,\n",
       "                                                           steps=[('imputer',\n",
       "                                                                   SimpleImputer(add_indicator=False,\n",
       "                                                                                 copy=True,\n",
       "                                                                                 fill_value=None,\n",
       "                                                                                 missing_values=nan,\n",
       "                                                                                 strategy='median',\n",
       "                                                                                 verbose=0)),\n",
       "                                                                  ('scaler',\n",
       "                                                                   MinMaxScaler...\n",
       "                                   verbose=False)),\n",
       "                ('forest',\n",
       "                 RandomForestRegressor(bootstrap=True, criterion='mse',\n",
       "                                       max_depth=None, max_features='auto',\n",
       "                                       max_leaf_nodes=None,\n",
       "                                       min_impurity_decrease=0.0,\n",
       "                                       min_impurity_split=None,\n",
       "                                       min_samples_leaf=1, min_samples_split=2,\n",
       "                                       min_weight_fraction_leaf=0.0,\n",
       "                                       n_estimators=10, n_jobs=None,\n",
       "                                       oob_score=False, random_state=None,\n",
       "                                       verbose=0, warm_start=False))],\n",
       "         verbose=False)"
      ]
     },
     "execution_count": 223,
>>>>>>> 6942337bc5fad0f34e21db42a44835bbaff7b87f
     "metadata": {},
     "output_type": "execute_result"
    }
   ],
   "source": [
    "pipe.fit(X_train,y_train)"
   ]
  },
  {
   "cell_type": "code",
<<<<<<< HEAD
   "execution_count": 7,
=======
   "execution_count": 224,
>>>>>>> 6942337bc5fad0f34e21db42a44835bbaff7b87f
   "id": "f559c5b2",
   "metadata": {},
   "outputs": [],
   "source": [
    "# setup RandomForestRegressor, we use this to predict student grades\n",
    "from sklearn.ensemble import RandomForestRegressor\n",
    "\n",
    "clf = RandomForestRegressor()"
   ]
  },
  {
   "cell_type": "code",
<<<<<<< HEAD
   "execution_count": 8,
=======
   "execution_count": 225,
>>>>>>> 6942337bc5fad0f34e21db42a44835bbaff7b87f
   "id": "1d98d3cd",
   "metadata": {},
   "outputs": [
    {
     "name": "stdout",
     "output_type": "stream",
     "text": [
      "Fitting 5 folds for each of 1 candidates, totalling 5 fits\n"
     ]
    },
    {
<<<<<<< HEAD
     "data": {
      "text/plain": [
       "GridSearchCV(cv=5,\n",
       "             estimator=Pipeline(steps=[('feature_processor',\n",
       "                                        ColumnTransformer(remainder='passthrough',\n",
       "                                                          transformers=[('num_processor',\n",
       "                                                                         Pipeline(steps=[('imputer',\n",
       "                                                                                          SimpleImputer(strategy='median')),\n",
       "                                                                                         ('scaler',\n",
       "                                                                                          MinMaxScaler())]),\n",
       "                                                                         Index(['Teacher Gender Male?', 'Student Gender Male?',\n",
       "       'Teacher same as student gender?', 'Morning class?', 'High School Year',\n",
       "       '6. How old ar...\n",
       "       '38. How often do you read books outside of class? (comics included)',\n",
       "       '39. Do one of your parents/guardians have a degree?',\n",
       "       '40. Are you the youngest, middle, or oldest sibling in your family?',\n",
       "       '41. What is your current level of happiness in general?',\n",
       "       '43. What statement best describes your family's income?'],\n",
       "      dtype='object'))])),\n",
       "                                       ('forest', RandomForestRegressor())]),\n",
       "             n_jobs=-1, param_grid={}, scoring='neg_mean_squared_error',\n",
       "             verbose=1)"
      ]
     },
     "execution_count": 8,
=======
     "name": "stderr",
     "output_type": "stream",
     "text": [
      "[Parallel(n_jobs=-1)]: Using backend LokyBackend with 12 concurrent workers.\n",
      "[Parallel(n_jobs=-1)]: Done   5 out of   5 | elapsed:    2.4s finished\n",
      "c:\\Users\\Derrick\\Anaconda3\\lib\\site-packages\\sklearn\\model_selection\\_search.py:813: DeprecationWarning: The default of the `iid` parameter will change from True to False in version 0.22 and will be removed in 0.24. This will change numeric results when test-set sizes are unequal.\n",
      "  DeprecationWarning)\n"
     ]
    },
    {
     "data": {
      "text/plain": [
       "GridSearchCV(cv=5, error_score='raise-deprecating',\n",
       "             estimator=Pipeline(memory=None,\n",
       "                                steps=[('feature_processor',\n",
       "                                        ColumnTransformer(n_jobs=None,\n",
       "                                                          remainder='passthrough',\n",
       "                                                          sparse_threshold=0.3,\n",
       "                                                          transformer_weights=None,\n",
       "                                                          transformers=[('num_processor',\n",
       "                                                                         Pipeline(memory=None,\n",
       "                                                                                  steps=[('imputer',\n",
       "                                                                                          SimpleImputer(add_indicator=False,\n",
       "                                                                                                        copy=True,\n",
       "                                                                                                        fill_value=None,\n",
       "                                                                                                        missing_val...\n",
       "                                                              min_impurity_decrease=0.0,\n",
       "                                                              min_impurity_split=None,\n",
       "                                                              min_samples_leaf=1,\n",
       "                                                              min_samples_split=2,\n",
       "                                                              min_weight_fraction_leaf=0.0,\n",
       "                                                              n_estimators=10,\n",
       "                                                              n_jobs=None,\n",
       "                                                              oob_score=False,\n",
       "                                                              random_state=None,\n",
       "                                                              verbose=0,\n",
       "                                                              warm_start=False))],\n",
       "                                verbose=False),\n",
       "             iid='warn', n_jobs=-1, param_grid={}, pre_dispatch='2*n_jobs',\n",
       "             refit=True, return_train_score=False,\n",
       "             scoring='neg_mean_squared_error', verbose=1)"
      ]
     },
     "execution_count": 225,
>>>>>>> 6942337bc5fad0f34e21db42a44835bbaff7b87f
     "metadata": {},
     "output_type": "execute_result"
    }
   ],
   "source": [
    "# Setup for a grid search, we use a search grid to test multiple parameters and find the best one\n",
    "from sklearn.model_selection import GridSearchCV\n",
    "depth_list = [2,4,8,16,32]\n",
    "param_dic = {}\n",
    "# additionally, clf above has class_weight = 'balanced' in the parameters\n",
    "\n",
    "grid = GridSearchCV(pipe,param_dic, scoring='neg_mean_squared_error', cv=5, n_jobs=-1, verbose=1)\n",
    "grid.fit(X_train,y_train)"
   ]
  },
  {
   "cell_type": "code",
<<<<<<< HEAD
   "execution_count": 9,
=======
   "execution_count": 226,
>>>>>>> 6942337bc5fad0f34e21db42a44835bbaff7b87f
   "id": "c90a1e97",
   "metadata": {},
   "outputs": [],
   "source": [
    "# from the grid search, select the best one then make predictions from it\n",
    "best_pipe = grid.best_estimator_\n",
    "y_test_pred = best_pipe.predict(X_test) # from the people being tested, predict their grades\n"
   ]
  },
  {
   "cell_type": "code",
<<<<<<< HEAD
   "execution_count": 10,
=======
   "execution_count": 231,
>>>>>>> 6942337bc5fad0f34e21db42a44835bbaff7b87f
   "id": "84913da2",
   "metadata": {},
   "outputs": [
    {
     "name": "stdout",
     "output_type": "stream",
     "text": [
<<<<<<< HEAD
      "length of feature importances: 97\n",
=======
      "length of feature importances: 95\n",
>>>>>>> 6942337bc5fad0f34e21db42a44835bbaff7b87f
      "length of features taken in 42\n"
     ]
    }
   ],
   "source": [
    "# from the best pipe, give the importances of the features given\n",
    "# TODO: for some reason the feature importances list is longer than the features taken in\n",
    "# TODO: link for above stuff here https://scikit-learn.org/stable/auto_examples/ensemble/plot_forest_importances.html\n",
    "estimator_values = grid.best_estimator_.named_steps[\"forest\"].feature_importances_\n",
    "feature_names = [f\"feature {i}\" for i in range(X.shape[1])]\n",
    "print('length of feature importances:', len(estimator_values))\n",
    "print('length of features taken in', len(feature_names))\n",
    "# estimators = pd.DataFrame(data = estimator_values, index=[numerical_features, categorical_features], columns=['index', 'value'])\n"
   ]
  },
  {
   "cell_type": "code",
<<<<<<< HEAD
   "execution_count": 22,
   "id": "a70fc572",
   "metadata": {},
   "outputs": [],
   "source": [
    "# get important features\n",
    "from sklearn.inspection import permutation_importance\n",
    "\n",
    "result = permutation_importance(\n",
    "    best_pipe, X_test, y_test, n_repeats=10, random_state=42, n_jobs=2\n",
    ")\n",
    "\n",
    "forest_importances = pd.Series(result.importances_mean, index=X.columns)"
   ]
  },
  {
   "cell_type": "code",
   "execution_count": 24,
   "id": "cf5a6797",
   "metadata": {},
   "outputs": [
    {
     "data": {
      "text/plain": [
       "GPA                                                                                                                                         1.316087\n",
       "33. How strict is your English teacher with grading?                                                                                        0.016372\n",
       "Does student sit in desk?                                                                                                                   0.015054\n",
       "34. How much homework does your English teacher give you?                                                                                   0.012446\n",
       "27. How often do you usually talk in English class?                                                                                         0.009613\n",
       "Do students need to raise hand to talk?                                                                                                     0.008133\n",
       "13. How often do you work with groups/friends? (this is not asking about group projects, it's about who you generally do your work with)    0.008125\n",
       "Class size                                                                                                                                  0.007731\n",
       "Student Hours of sleep                                                                                                                      0.005974\n",
       "15. How often do you have group projects?                                                                                                   0.005911\n",
       "32. Do you enjoy your English class?                                                                                                        0.005026\n",
       "Student Gender Male?                                                                                                                        0.002931\n",
       "6. How old are you?                                                                                                                         0.002810\n",
       "Is student allowed to eat food?                                                                                                             0.001704\n",
       "20. What is the usual level of noise in your classroom?                                                                                     0.000498\n",
       "High School Year                                                                                                                            0.000467\n",
       "Standards Based Grading Used?                                                                                                               0.000312\n",
       "Seating Chart?                                                                                                                              0.000149\n",
       "Teacher Gender Male?                                                                                                                        0.000062\n",
       "24. What is your teacher's late work policy?                                                                                                0.000000\n",
       "Binder Checks?                                                                                                                              0.000000\n",
       "25. Has there been a student teacher or teacher's assistant in your classroom this semester?                                                0.000000\n",
       "Hats/hoods allowed?                                                                                                                         0.000000\n",
       "Class pet present?                                                                                                                          0.000000\n",
       "Does student like teacher?                                                                                                                  0.000000\n",
       "41. What is your current level of happiness in general?                                                                                    -0.000012\n",
       "Are classroom lights dimmed?                                                                                                               -0.000029\n",
       "14. What is the phone policy like in your class?                                                                                           -0.000107\n",
       "Teacher same as student gender?                                                                                                            -0.000533\n",
       "Number of Books Read                                                                                                                       -0.001424\n",
       "12. Do you keep up with your homework and turn assignments in on time?                                                                     -0.001521\n",
       "Morning class?                                                                                                                             -0.002153\n",
       "43. What statement best describes your family's income?                                                                                    -0.002886\n",
       "36. Does your teacher provide students with snacks?                                                                                        -0.004063\n",
       "Essays Written                                                                                                                             -0.005901\n",
       "39. Do one of your parents/guardians have a degree?                                                                                        -0.007160\n",
       "40. Are you the youngest, middle, or oldest sibling in your family?                                                                        -0.012384\n",
       "38. How often do you read books outside of class? (comics included)                                                                        -0.022423\n",
       "Absences                                                                                                                                   -0.039830\n",
       "37. How is the temperature of the room most of the time?                                                                                   -0.040043\n",
       "22. Do you study for tests?                                                                                                                -0.069438\n",
       "How often homework is given                                                                                                                -0.093417\n",
       "dtype: float64"
      ]
     },
     "execution_count": 24,
     "metadata": {},
     "output_type": "execute_result"
    }
   ],
   "source": [
    "forest_importances.sort_values(ascending=False)"
   ]
  },
  {
   "cell_type": "code",
   "execution_count": 25,
   "id": "c030fa51",
   "metadata": {},
   "outputs": [
    {
     "name": "stderr",
     "output_type": "stream",
     "text": [
      "c:\\Users\\Derrick\\Anaconda3\\lib\\site-packages\\ipykernel_launcher.py:8: UserWarning: Tight layout not applied. The bottom and top margins cannot be made large enough to accommodate all axes decorations. \n",
      "  \n"
     ]
    },
    {
     "data": {
      "image/png": "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",
      "text/plain": [
       "<Figure size 432x288 with 1 Axes>"
      ]
     },
     "metadata": {
      "needs_background": "light"
     },
     "output_type": "display_data"
    }
   ],
   "source": [
    "# plot important features\n",
    "import matplotlib.pyplot as plt\n",
    "\n",
    "fig, ax = plt.subplots()\n",
    "forest_importances.plot.bar(yerr=result.importances_std, ax=ax)\n",
    "ax.set_title(\"Feature importances using permutation on full model\")\n",
    "ax.set_ylabel(\"Mean accuracy decrease\")\n",
    "fig.tight_layout()\n",
    "plt.show()"
   ]
  },
  {
   "cell_type": "code",
   "execution_count": 10,
=======
   "execution_count": null,
>>>>>>> 6942337bc5fad0f34e21db42a44835bbaff7b87f
   "id": "cded82a8",
   "metadata": {},
   "outputs": [
    {
     "data": {
      "text/plain": [
<<<<<<< HEAD
       "[89.0, 86.0, 79.0, 82.0, 88.0, 91.0, 90.0, 92.0]"
      ]
     },
     "execution_count": 10,
=======
       "[78.0, 78.0, 93.0, 83.0, 73.0, 73.0, 90.0, 80.0]"
      ]
     },
     "execution_count": 100,
>>>>>>> 6942337bc5fad0f34e21db42a44835bbaff7b87f
     "metadata": {},
     "output_type": "execute_result"
    }
   ],
   "source": [
    "# print a list of grades predicted\n",
    "np.floor(y_test_pred).tolist()"
   ]
  },
  {
   "cell_type": "code",
<<<<<<< HEAD
   "execution_count": 11,
=======
   "execution_count": null,
>>>>>>> 6942337bc5fad0f34e21db42a44835bbaff7b87f
   "id": "4a086775",
   "metadata": {},
   "outputs": [
    {
     "data": {
      "text/plain": [
<<<<<<< HEAD
       "array([93.96, 76.25, 77.46, 72.62, 88.54, 75.92, 84.78, 93.23])"
      ]
     },
     "execution_count": 11,
=======
       "array([76.25, 84.27, 94.79, 84.78, 93.29, 83.73, 75.92, 87.73])"
      ]
     },
     "execution_count": 103,
>>>>>>> 6942337bc5fad0f34e21db42a44835bbaff7b87f
     "metadata": {},
     "output_type": "execute_result"
    }
   ],
   "source": [
    "# print a list of the actual grades\n",
    "y_test.values"
   ]
  },
  {
   "cell_type": "code",
<<<<<<< HEAD
   "execution_count": 12,
=======
   "execution_count": 206,
>>>>>>> 6942337bc5fad0f34e21db42a44835bbaff7b87f
   "id": "f6ff41e7",
   "metadata": {},
   "outputs": [
    {
     "name": "stdout",
     "output_type": "stream",
     "text": [
<<<<<<< HEAD
      "predicted grade:  89.0 actual grade:  93.96\n",
      "predicted grade:  86.0 actual grade:  76.25\n",
      "predicted grade:  79.0 actual grade:  77.46\n",
      "predicted grade:  82.0 actual grade:  72.62\n",
      "predicted grade:  88.0 actual grade:  88.54\n",
      "predicted grade:  91.0 actual grade:  75.92\n",
      "predicted grade:  90.0 actual grade:  84.78\n",
      "predicted grade:  92.0 actual grade:  93.23\n"
=======
      "predicted grade:  83.0 actual grade:  60.91\n",
      "predicted grade:  88.0 actual grade:  93.96\n",
      "predicted grade:  84.0 actual grade:  69.33\n",
      "predicted grade:  87.0 actual grade:  84.27\n",
      "predicted grade:  81.0 actual grade:  72.62\n",
      "predicted grade:  93.0 actual grade:  94.79\n",
      "predicted grade:  93.0 actual grade:  88.98\n",
      "predicted grade:  83.0 actual grade:  93.29\n"
>>>>>>> 6942337bc5fad0f34e21db42a44835bbaff7b87f
     ]
    }
   ],
   "source": [
    "# print predicted and actual grades side by side\n",
    "testLength = len(y_test)\n",
    "for i in range(testLength):\n",
    "    print('predicted grade: ', np.floor(y_test_pred[i]), 'actual grade: ', y_test.values[i])"
   ]
  },
  {
   "cell_type": "code",
<<<<<<< HEAD
   "execution_count": 15,
=======
   "execution_count": 235,
>>>>>>> 6942337bc5fad0f34e21db42a44835bbaff7b87f
   "id": "2db6a5b1",
   "metadata": {},
   "outputs": [
    {
     "data": {
<<<<<<< HEAD
      "image/png": "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",
=======
      "image/png": "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",
>>>>>>> 6942337bc5fad0f34e21db42a44835bbaff7b87f
      "text/plain": [
       "<Figure size 720x720 with 1 Axes>"
      ]
     },
     "metadata": {
      "needs_background": "light"
     },
     "output_type": "display_data"
    }
   ],
   "source": [
    "import pandas as pd\n",
    "import matplotlib.pyplot as plt\n",
    "\n",
    "best_pipe = grid.best_estimator_\n",
    "y_test_pred = best_pipe.predict(X_test)\n",
    "\n",
    "\n",
    "# plot from SOF https://stackoverflow.com/questions/58410187/how-to-plot-predicted-values-vs-the-true-value\n",
    "plt.figure(figsize=(10,10))\n",
    "plt.scatter(y_test, y_test_pred, c='crimson')\n",
    "plt.yscale('linear')\n",
    "plt.xscale('linear')\n",
    "\n",
    "p1 = max(max(y_test_pred), max(y_test))\n",
    "p2 = min(min(y_test_pred), min(y_test))\n",
    "plt.plot([p1, p2], [p1, p2], 'b-')\n",
    "plt.xlabel('True Values', fontsize=15)\n",
    "plt.ylabel('Predictions', fontsize=15)\n",
    "plt.axis('equal')\n",
    "plt.show()"
   ]
  },
  {
   "cell_type": "code",
   "execution_count": 233,
   "id": "c75ca470",
   "metadata": {},
   "outputs": [
    {
     "name": "stdout",
     "output_type": "stream",
     "text": [
      "params: {}\n",
      "MSE: 12.501488251404309\n",
      "MAE: 10.131499999999999\n"
     ]
    }
   ],
   "source": [
    "import numpy as np\n",
    "from sklearn.metrics import confusion_matrix, accuracy_score, recall_score, mean_absolute_error, mean_squared_error\n",
    "\n",
    "def TestPipe(y,y_pred):\n",
    "    print('params:',grid.best_params_)\n",
    "    # MSE\n",
    "    print('MSE:',np.sqrt(mean_squared_error(y,y_pred)))\n",
    "    # MAE\n",
    "    print('MAE:',mean_absolute_error(y,y_pred))\n",
    "    # MAPE\n",
    "    # not using cause its missing in my python version\n",
    "    #print('MAPE', mean_absolute_percentage_error(y,y_pred))\n",
    "\n",
    "TestPipe(y_test,y_test_pred)"
   ]
  },
  {
   "cell_type": "code",
<<<<<<< HEAD
   "execution_count": 14,
=======
   "execution_count": 180,
>>>>>>> 6942337bc5fad0f34e21db42a44835bbaff7b87f
   "id": "543a3d86",
   "metadata": {},
   "outputs": [
    {
     "ename": "AttributeError",
     "evalue": "'RandomForestRegressor' object has no attribute 'tree_'",
     "output_type": "error",
     "traceback": [
      "\u001b[1;31m---------------------------------------------------------------------------\u001b[0m",
      "\u001b[1;31mAttributeError\u001b[0m                            Traceback (most recent call last)",
<<<<<<< HEAD
      "\u001b[1;32m<ipython-input-14-8b1bad4f2789>\u001b[0m in \u001b[0;36m<module>\u001b[1;34m\u001b[0m\n\u001b[0;32m      7\u001b[0m          \u001b[1;31m#class_names = best_pipe.named_steps['forest'].classes_,\u001b[0m\u001b[1;33m\u001b[0m\u001b[1;33m\u001b[0m\u001b[1;33m\u001b[0m\u001b[0m\n\u001b[0;32m      8\u001b[0m          \u001b[0mfilled\u001b[0m \u001b[1;33m=\u001b[0m \u001b[1;32mTrue\u001b[0m\u001b[1;33m,\u001b[0m\u001b[1;33m\u001b[0m\u001b[1;33m\u001b[0m\u001b[0m\n\u001b[1;32m----> 9\u001b[1;33m          fontsize=15)\n\u001b[0m\u001b[0;32m     10\u001b[0m \u001b[0mplt\u001b[0m\u001b[1;33m.\u001b[0m\u001b[0mshow\u001b[0m\u001b[1;33m(\u001b[0m\u001b[1;33m)\u001b[0m\u001b[1;33m\u001b[0m\u001b[1;33m\u001b[0m\u001b[0m\n",
=======
      "\u001b[1;32m<ipython-input-180-915260f2cf04>\u001b[0m in \u001b[0;36m<module>\u001b[1;34m\u001b[0m\n\u001b[0;32m      6\u001b[0m          \u001b[1;31m#class_names = best_pipe.named_steps['forest'].classes_,\u001b[0m\u001b[1;33m\u001b[0m\u001b[1;33m\u001b[0m\u001b[1;33m\u001b[0m\u001b[0m\n\u001b[0;32m      7\u001b[0m          \u001b[0mfilled\u001b[0m \u001b[1;33m=\u001b[0m \u001b[1;32mTrue\u001b[0m\u001b[1;33m,\u001b[0m\u001b[1;33m\u001b[0m\u001b[1;33m\u001b[0m\u001b[0m\n\u001b[1;32m----> 8\u001b[1;33m          fontsize=15)\n\u001b[0m\u001b[0;32m      9\u001b[0m \u001b[0mplt\u001b[0m\u001b[1;33m.\u001b[0m\u001b[0mshow\u001b[0m\u001b[1;33m(\u001b[0m\u001b[1;33m)\u001b[0m\u001b[1;33m\u001b[0m\u001b[1;33m\u001b[0m\u001b[0m\n",
>>>>>>> 6942337bc5fad0f34e21db42a44835bbaff7b87f
      "\u001b[1;32mc:\\Users\\Derrick\\Anaconda3\\lib\\site-packages\\sklearn\\tree\\export.py\u001b[0m in \u001b[0;36mplot_tree\u001b[1;34m(decision_tree, max_depth, feature_names, class_names, label, filled, impurity, node_ids, proportion, rotate, rounded, precision, ax, fontsize)\u001b[0m\n\u001b[0;32m    176\u001b[0m         \u001b[0mproportion\u001b[0m\u001b[1;33m=\u001b[0m\u001b[0mproportion\u001b[0m\u001b[1;33m,\u001b[0m \u001b[0mrotate\u001b[0m\u001b[1;33m=\u001b[0m\u001b[0mrotate\u001b[0m\u001b[1;33m,\u001b[0m \u001b[0mrounded\u001b[0m\u001b[1;33m=\u001b[0m\u001b[0mrounded\u001b[0m\u001b[1;33m,\u001b[0m\u001b[1;33m\u001b[0m\u001b[1;33m\u001b[0m\u001b[0m\n\u001b[0;32m    177\u001b[0m         precision=precision, fontsize=fontsize)\n\u001b[1;32m--> 178\u001b[1;33m     \u001b[1;32mreturn\u001b[0m \u001b[0mexporter\u001b[0m\u001b[1;33m.\u001b[0m\u001b[0mexport\u001b[0m\u001b[1;33m(\u001b[0m\u001b[0mdecision_tree\u001b[0m\u001b[1;33m,\u001b[0m \u001b[0max\u001b[0m\u001b[1;33m=\u001b[0m\u001b[0max\u001b[0m\u001b[1;33m)\u001b[0m\u001b[1;33m\u001b[0m\u001b[1;33m\u001b[0m\u001b[0m\n\u001b[0m\u001b[0;32m    179\u001b[0m \u001b[1;33m\u001b[0m\u001b[0m\n\u001b[0;32m    180\u001b[0m \u001b[1;33m\u001b[0m\u001b[0m\n",
      "\u001b[1;32mc:\\Users\\Derrick\\Anaconda3\\lib\\site-packages\\sklearn\\tree\\export.py\u001b[0m in \u001b[0;36mexport\u001b[1;34m(self, decision_tree, ax)\u001b[0m\n\u001b[0;32m    569\u001b[0m         \u001b[0max\u001b[0m\u001b[1;33m.\u001b[0m\u001b[0mclear\u001b[0m\u001b[1;33m(\u001b[0m\u001b[1;33m)\u001b[0m\u001b[1;33m\u001b[0m\u001b[1;33m\u001b[0m\u001b[0m\n\u001b[0;32m    570\u001b[0m         \u001b[0max\u001b[0m\u001b[1;33m.\u001b[0m\u001b[0mset_axis_off\u001b[0m\u001b[1;33m(\u001b[0m\u001b[1;33m)\u001b[0m\u001b[1;33m\u001b[0m\u001b[1;33m\u001b[0m\u001b[0m\n\u001b[1;32m--> 571\u001b[1;33m         \u001b[0mmy_tree\u001b[0m \u001b[1;33m=\u001b[0m \u001b[0mself\u001b[0m\u001b[1;33m.\u001b[0m\u001b[0m_make_tree\u001b[0m\u001b[1;33m(\u001b[0m\u001b[1;36m0\u001b[0m\u001b[1;33m,\u001b[0m \u001b[0mdecision_tree\u001b[0m\u001b[1;33m.\u001b[0m\u001b[0mtree_\u001b[0m\u001b[1;33m)\u001b[0m\u001b[1;33m\u001b[0m\u001b[1;33m\u001b[0m\u001b[0m\n\u001b[0m\u001b[0;32m    572\u001b[0m         \u001b[0mdraw_tree\u001b[0m \u001b[1;33m=\u001b[0m \u001b[0mbuchheim\u001b[0m\u001b[1;33m(\u001b[0m\u001b[0mmy_tree\u001b[0m\u001b[1;33m)\u001b[0m\u001b[1;33m\u001b[0m\u001b[1;33m\u001b[0m\u001b[0m\n\u001b[0;32m    573\u001b[0m \u001b[1;33m\u001b[0m\u001b[0m\n",
      "\u001b[1;31mAttributeError\u001b[0m: 'RandomForestRegressor' object has no attribute 'tree_'"
     ]
    },
    {
     "data": {
      "image/png": "iVBORw0KGgoAAAANSUhEUgAAA1MAAAM9CAYAAAB5Rim2AAAABHNCSVQICAgIfAhkiAAAAAlwSFlzAAALEgAACxIB0t1+/AAAADh0RVh0U29mdHdhcmUAbWF0cGxvdGxpYiB2ZXJzaW9uMy4xLjAsIGh0dHA6Ly9tYXRwbG90bGliLm9yZy+17YcXAAARiElEQVR4nO3XwQ3AIBDAsNL9dz5mIB+EZE+Qb9bMfAAAAJz5bwcAAAC8yEwBAAAEZgoAACAwUwAAAIGZAgAACMwUAABAYKYAAAACMwUAABCYKQAAgMBMAQAABGYKAAAgMFMAAACBmQIAAAjMFAAAQGCmAAAAAjMFAAAQmCkAAIDATAEAAARmCgAAIDBTAAAAgZkCAAAIzBQAAEBgpgAAAAIzBQAAEJgpAACAwEwBAAAEZgoAACAwUwAAAIGZAgAACMwUAABAYKYAAAACMwUAABCYKQAAgMBMAQAABGYKAAAgMFMAAACBmQIAAAjMFAAAQGCmAAAAAjMFAAAQmCkAAIDATAEAAARmCgAAIDBTAAAAgZkCAAAIzBQAAEBgpgAAAAIzBQAAEJgpAACAwEwBAAAEZgoAACAwUwAAAIGZAgAACMwUAABAYKYAAAACMwUAABCYKQAAgMBMAQAABGYKAAAgMFMAAACBmQIAAAjMFAAAQGCmAAAAAjMFAAAQmCkAAIDATAEAAARmCgAAIDBTAAAAgZkCAAAIzBQAAEBgpgAAAAIzBQAAEJgpAACAwEwBAAAEZgoAACAwUwAAAIGZAgAACMwUAABAYKYAAAACMwUAABCYKQAAgMBMAQAABGYKAAAgMFMAAACBmQIAAAjMFAAAQGCmAAAAAjMFAAAQmCkAAIDATAEAAARmCgAAIDBTAAAAgZkCAAAIzBQAAEBgpgAAAAIzBQAAEJgpAACAwEwBAAAEZgoAACAwUwAAAIGZAgAACMwUAABAYKYAAAACMwUAABCYKQAAgMBMAQAABGYKAAAgMFMAAACBmQIAAAjMFAAAQGCmAAAAAjMFAAAQmCkAAIDATAEAAARmCgAAIDBTAAAAgZkCAAAIzBQAAEBgpgAAAAIzBQAAEJgpAACAwEwBAAAEZgoAACAwUwAAAIGZAgAACMwUAABAYKYAAAACMwUAABCYKQAAgMBMAQAABGYKAAAgMFMAAACBmQIAAAjMFAAAQGCmAAAAAjMFAAAQmCkAAIDATAEAAARmCgAAIDBTAAAAgZkCAAAIzBQAAEBgpgAAAAIzBQAAEJgpAACAwEwBAAAEZgoAACAwUwAAAIGZAgAACMwUAABAYKYAAAACMwUAABCYKQAAgMBMAQAABGYKAAAgMFMAAACBmQIAAAjMFAAAQGCmAAAAAjMFAAAQmCkAAIDATAEAAARmCgAAIDBTAAAAgZkCAAAIzBQAAEBgpgAAAAIzBQAAEJgpAACAwEwBAAAEZgoAACAwUwAAAIGZAgAACMwUAABAYKYAAAACMwUAABCYKQAAgMBMAQAABGYKAAAgMFMAAACBmQIAAAjMFAAAQGCmAAAAAjMFAAAQmCkAAIDATAEAAARmCgAAIDBTAAAAgZkCAAAIzBQAAEBgpgAAAAIzBQAAEJgpAACAwEwBAAAEZgoAACAwUwAAAIGZAgAACMwUAABAYKYAAAACMwUAABCYKQAAgMBMAQAABGYKAAAgMFMAAACBmQIAAAjMFAAAQGCmAAAAAjMFAAAQmCkAAIDATAEAAARmCgAAIDBTAAAAgZkCAAAIzBQAAEBgpgAAAAIzBQAAEJgpAACAwEwBAAAEZgoAACAwUwAAAIGZAgAACMwUAABAYKYAAAACMwUAABCYKQAAgMBMAQAABGYKAAAgMFMAAACBmQIAAAjMFAAAQGCmAAAAAjMFAAAQmCkAAIDATAEAAARmCgAAIDBTAAAAgZkCAAAIzBQAAEBgpgAAAAIzBQAAEJgpAACAwEwBAAAEZgoAACAwUwAAAIGZAgAACMwUAABAYKYAAAACMwUAABCYKQAAgMBMAQAABGYKAAAgMFMAAACBmQIAAAjMFAAAQGCmAAAAAjMFAAAQmCkAAIDATAEAAARmCgAAIDBTAAAAgZkCAAAIzBQAAEBgpgAAAAIzBQAAEJgpAACAwEwBAAAEZgoAACAwUwAAAIGZAgAACMwUAABAYKYAAAACMwUAABCYKQAAgMBMAQAABGYKAAAgMFMAAACBmQIAAAjMFAAAQGCmAAAAAjMFAAAQmCkAAIDATAEAAARmCgAAIDBTAAAAgZkCAAAIzBQAAEBgpgAAAAIzBQAAEJgpAACAwEwBAAAEZgoAACAwUwAAAIGZAgAACMwUAABAYKYAAAACMwUAABCYKQAAgMBMAQAABGYKAAAgMFMAAACBmQIAAAjMFAAAQGCmAAAAAjMFAAAQmCkAAIDATAEAAARmCgAAIDBTAAAAgZkCAAAIzBQAAEBgpgAAAAIzBQAAEJgpAACAwEwBAAAEZgoAACAwUwAAAIGZAgAACMwUAABAYKYAAAACMwUAABCYKQAAgMBMAQAABGYKAAAgMFMAAACBmQIAAAjMFAAAQGCmAAAAAjMFAAAQmCkAAIDATAEAAARmCgAAIDBTAAAAgZkCAAAIzBQAAEBgpgAAAAIzBQAAEJgpAACAwEwBAAAEZgoAACAwUwAAAIGZAgAACMwUAABAYKYAAAACMwUAABCYKQAAgMBMAQAABGYKAAAgMFMAAACBmQIAAAjMFAAAQGCmAAAAAjMFAAAQmCkAAIDATAEAAARmCgAAIDBTAAAAgZkCAAAIzBQAAEBgpgAAAAIzBQAAEJgpAACAwEwBAAAEZgoAACAwUwAAAIGZAgAACMwUAABAYKYAAAACMwUAABCYKQAAgMBMAQAABGYKAAAgMFMAAACBmQIAAAjMFAAAQGCmAAAAAjMFAAAQmCkAAIDATAEAAARmCgAAIDBTAAAAgZkCAAAIzBQAAEBgpgAAAAIzBQAAEJgpAACAwEwBAAAEZgoAACAwUwAAAIGZAgAACMwUAABAYKYAAAACMwUAABCYKQAAgMBMAQAABGYKAAAgMFMAAACBmQIAAAjMFAAAQGCmAAAAAjMFAAAQmCkAAIDATAEAAARmCgAAIDBTAAAAgZkCAAAIzBQAAEBgpgAAAAIzBQAAEJgpAACAwEwBAAAEZgoAACAwUwAAAIGZAgAACMwUAABAYKYAAAACMwUAABCYKQAAgMBMAQAABGYKAAAgMFMAAACBmQIAAAjMFAAAQGCmAAAAAjMFAAAQmCkAAIDATAEAAARmCgAAIDBTAAAAgZkCAAAIzBQAAEBgpgAAAAIzBQAAEJgpAACAwEwBAAAEZgoAACAwUwAAAIGZAgAACMwUAABAYKYAAAACMwUAABCYKQAAgMBMAQAABGYKAAAgMFMAAACBmQIAAAjMFAAAQGCmAAAAAjMFAAAQmCkAAIDATAEAAARmCgAAIDBTAAAAgZkCAAAIzBQAAEBgpgAAAAIzBQAAEJgpAACAwEwBAAAEZgoAACAwUwAAAIGZAgAACMwUAABAYKYAAAACMwUAABCYKQAAgMBMAQAABGYKAAAgMFMAAACBmQIAAAjMFAAAQGCmAAAAAjMFAAAQmCkAAIDATAEAAARmCgAAIDBTAAAAgZkCAAAIzBQAAEBgpgAAAAIzBQAAEJgpAACAwEwBAAAEZgoAACAwUwAAAIGZAgAACMwUAABAYKYAAAACMwUAABCYKQAAgMBMAQAABGYKAAAgMFMAAACBmQIAAAjMFAAAQGCmAAAAAjMFAAAQmCkAAIDATAEAAARmCgAAIDBTAAAAgZkCAAAIzBQAAEBgpgAAAAIzBQAAEJgpAACAwEwBAAAEZgoAACAwUwAAAIGZAgAACMwUAABAYKYAAAACMwUAABCYKQAAgMBMAQAABGYKAAAgMFMAAACBmQIAAAjMFAAAQGCmAAAAAjMFAAAQmCkAAIDATAEAAARmCgAAIDBTAAAAgZkCAAAIzBQAAEBgpgAAAAIzBQAAEJgpAACAwEwBAAAEZgoAACAwUwAAAIGZAgAACMwUAABAYKYAAAACMwUAABCYKQAAgMBMAQAABGYKAAAgMFMAAACBmQIAAAjMFAAAQGCmAAAAAjMFAAAQmCkAAIDATAEAAARmCgAAIDBTAAAAgZkCAAAIzBQAAEBgpgAAAAIzBQAAEJgpAACAwEwBAAAEZgoAACAwUwAAAIGZAgAACMwUAABAYKYAAAACMwUAABCYKQAAgMBMAQAABGYKAAAgMFMAAACBmQIAAAjMFAAAQGCmAAAAAjMFAAAQmCkAAIDATAEAAARmCgAAIDBTAAAAgZkCAAAIzBQAAEBgpgAAAAIzBQAAEJgpAACAwEwBAAAEZgoAACAwUwAAAIGZAgAACMwUAABAYKYAAAACMwUAABCYKQAAgMBMAQAABGYKAAAgMFMAAACBmQIAAAjMFAAAQGCmAAAAAjMFAAAQmCkAAIDATAEAAARmCgAAIDBTAAAAgZkCAAAIzBQAAEBgpgAAAAIzBQAAEJgpAACAwEwBAAAEZgoAACAwUwAAAIGZAgAACMwUAABAYKYAAAACMwUAABCYKQAAgMBMAQAABGYKAAAgMFMAAACBmQIAAAjMFAAAQGCmAAAAAjMFAAAQmCkAAIDATAEAAARmCgAAIDBTAAAAgZkCAAAIzBQAAEBgpgAAAAIzBQAAEJgpAACAwEwBAAAEZgoAACAwUwAAAIGZAgAACMwUAABAYKYAAAACMwUAABCYKQAAgMBMAQAABGYKAAAgMFMAAACBmQIAAAjMFAAAQGCmAAAAAjMFAAAQmCkAAIDATAEAAARmCgAAIDBTAAAAgZkCAAAIzBQAAEBgpgAAAAIzBQAAEJgpAACAwEwBAAAEZgoAACAwUwAAAIGZAgAACMwUAABAYKYAAAACMwUAABCYKQAAgMBMAQAABGYKAAAgMFMAAACBmQIAAAjMFAAAQGCmAAAAAjMFAAAQmCkAAIDATAEAAARmCgAAIDBTAAAAgZkCAAAIzBQAAEBgpgAAAAIzBQAAEJgpAACAwEwBAAAEZgoAACAwUwAAAIGZAgAACMwUAABAYKYAAAACMwUAABCYKQAAgMBMAQAABGYKAAAgMFMAAACBmQIAAAjMFAAAQGCmAAAAAjMFAAAQmCkAAIDATAEAAARmCgAAIDBTAAAAgZkCAAAIzBQAAEBgpgAAAAIzBQAAEJgpAACAwEwBAAAEZgoAACAwUwAAAIGZAgAACMwUAABAYKYAAAACMwUAABCYKQAAgMBMAQAABGYKAAAgMFMAAACBmQIAAAjMFAAAQGCmAAAAAjMFAAAQmCkAAIDATAEAAARmCgAAIDBTAAAAgZkCAAAIzBQAAEBgpgAAAAIzBQAAEJgpAACAwEwBAAAEZgoAACAwUwAAAIGZAgAACMwUAABAYKYAAAACMwUAABCYKQAAgMBMAQAABGYKAAAgMFMAAACBmQIAAAjMFAAAQGCmAAAAAjMFAAAQmCkAAIDATAEAAARmCgAAIDBTAAAAgZkCAAAIzBQAAEBgpgAAAAIzBQAAEJgpAACAwEwBAAAEZgoAACAwUwAAAIGZAgAACMwUAABAYKYAAAACMwUAABCYKQAAgMBMAQAABGYKAAAgMFMAAACBmQIAAAjMFAAAQGCmAAAAAjMFAAAQmCkAAIDATAEAAARmCgAAIDBTAAAAgZkCAAAIzBQAAEBgpgAAAAIzBQAAEJgpAACAwEwBAAAEZgoAACAwUwAAAIGZAgAACMwUAABAYKYAAAACMwUAABCYKQAAgMBMAQAABGYKAAAgMFMAAACBmQIAAAjMFAAAQGCmAAAAAjMFAAAQmCkAAIDATAEAAARmCgAAIDBTAAAAgZkCAAAIzBQAAEBgpgAAAAIzBQAAEJgpAACAwEwBAAAEZgoAACAwUwAAAIGZAgAACMwUAABAYKYAAAACMwUAABCYKQAAgMBMAQAABGYKAAAgMFMAAACBmQIAAAjMFAAAQGCmAAAAAjMFAAAQmCkAAIDATAEAAARmCgAAIDBTAAAAgZkCAAAIzBQAAEBgpgAAAAIzBQAAEJgpAACAwEwBAAAEZgoAACAwUwAAAIGZAgAACMwUAABAYKYAAAACMwUAABCYKQAAgMBMAQAABGYKAAAgMFMAAADBBgTOCXcKJM24AAAAAElFTkSuQmCC",
      "text/plain": [
       "<Figure size 1080x1080 with 1 Axes>"
      ]
     },
     "metadata": {
      "needs_background": "light"
     },
     "output_type": "display_data"
    }
   ],
   "source": [
    "# DONT USDFS  XD\n",
    "from sklearn.tree import plot_tree\n",
    "\n",
    "plt.figure(figsize=(15,15))\n",
    "plot_tree(best_pipe.named_steps['forest'],\n",
    "         #feature_names = X_test.columns,\n",
    "         #class_names = best_pipe.named_steps['forest'].classes_,\n",
    "         filled = True,\n",
    "         fontsize=15)\n",
    "plt.show()"
   ]
  },
  {
   "cell_type": "code",
   "execution_count": null,
   "id": "f68b28fd",
   "metadata": {},
   "outputs": [],
   "source": []
  }
 ],
 "metadata": {
  "kernelspec": {
   "display_name": "base",
   "language": "python",
   "name": "python3"
  },
  "language_info": {
   "codemirror_mode": {
    "name": "ipython",
    "version": 3
   },
   "file_extension": ".py",
   "mimetype": "text/x-python",
   "name": "python",
   "nbconvert_exporter": "python",
   "pygments_lexer": "ipython3",
   "version": "3.7.3"
  },
  "vscode": {
   "interpreter": {
    "hash": "6fb045e0794b49a94e0fb4df5d6e6b5607c8e635c915d714616e7ab91521d5b8"
   }
  }
 },
 "nbformat": 4,
 "nbformat_minor": 5
<<<<<<< HEAD
}
=======
}
>>>>>>> 6942337bc5fad0f34e21db42a44835bbaff7b87f
