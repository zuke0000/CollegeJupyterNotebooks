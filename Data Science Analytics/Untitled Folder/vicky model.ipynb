{
 "cells": [
  {
   "cell_type": "code",
   "execution_count": 171,
   "id": "8f56ced3",
   "metadata": {},
   "outputs": [],
   "source": [
    "import pandas as pd\n",
    "import numpy as np"
   ]
  },
  {
   "cell_type": "code",
   "execution_count": 172,
   "id": "c85f5992",
   "metadata": {},
   "outputs": [
    {
     "data": {
      "text/html": [
       "<div>\n",
       "<style scoped>\n",
       "    .dataframe tbody tr th:only-of-type {\n",
       "        vertical-align: middle;\n",
       "    }\n",
       "\n",
       "    .dataframe tbody tr th {\n",
       "        vertical-align: top;\n",
       "    }\n",
       "\n",
       "    .dataframe thead th {\n",
       "        text-align: right;\n",
       "    }\n",
       "</style>\n",
       "<table border=\"1\" class=\"dataframe\">\n",
       "  <thead>\n",
       "    <tr style=\"text-align: right;\">\n",
       "      <th></th>\n",
       "      <th>Teacher Gender Male?</th>\n",
       "      <th>Student Gender Male?</th>\n",
       "      <th>Teacher same as student gender?</th>\n",
       "      <th>Morning class?</th>\n",
       "      <th>High School Year</th>\n",
       "      <th>6. How old are you?</th>\n",
       "      <th>Grade in Class</th>\n",
       "      <th>GPA</th>\n",
       "      <th>Absences</th>\n",
       "      <th>Standards Based Grading Used?</th>\n",
       "      <th>...</th>\n",
       "      <th>34. How much homework does your English teacher give you?</th>\n",
       "      <th>Is student allowed to eat food?</th>\n",
       "      <th>36. Does your teacher provide students with snacks?</th>\n",
       "      <th>37. How is the temperature of the room most of the time?</th>\n",
       "      <th>38. How often do you read books outside of class? (comics included)</th>\n",
       "      <th>39. Do one of your parents/guardians have a degree?</th>\n",
       "      <th>40. Are you the youngest, middle, or oldest sibling in your family?</th>\n",
       "      <th>41. What is your current level of happiness in general?</th>\n",
       "      <th>Student Hours of sleep</th>\n",
       "      <th>43. What statement best describes your family's income?</th>\n",
       "    </tr>\n",
       "  </thead>\n",
       "  <tbody>\n",
       "    <tr>\n",
       "      <th>0</th>\n",
       "      <td>1</td>\n",
       "      <td>0</td>\n",
       "      <td>0</td>\n",
       "      <td>1</td>\n",
       "      <td>3</td>\n",
       "      <td>16</td>\n",
       "      <td>90.62%</td>\n",
       "      <td>4.000</td>\n",
       "      <td>7</td>\n",
       "      <td>1</td>\n",
       "      <td>...</td>\n",
       "      <td>A lot, I can barely keep up.</td>\n",
       "      <td>0</td>\n",
       "      <td>Rarely</td>\n",
       "      <td>A little chilly</td>\n",
       "      <td>I rarely read books</td>\n",
       "      <td>Both parents/guardians have a degree</td>\n",
       "      <td>I'm the oldest</td>\n",
       "      <td>I am happy most of the time</td>\n",
       "      <td>7</td>\n",
       "      <td>Our income covers our needs and a little more,...</td>\n",
       "    </tr>\n",
       "    <tr>\n",
       "      <th>1</th>\n",
       "      <td>1</td>\n",
       "      <td>0</td>\n",
       "      <td>0</td>\n",
       "      <td>1</td>\n",
       "      <td>3</td>\n",
       "      <td>17</td>\n",
       "      <td>84.78%</td>\n",
       "      <td>3.769</td>\n",
       "      <td>4</td>\n",
       "      <td>1</td>\n",
       "      <td>...</td>\n",
       "      <td>A decent amount, I don't struggle to stay on t...</td>\n",
       "      <td>1</td>\n",
       "      <td>Rarely</td>\n",
       "      <td>Ideal temperature</td>\n",
       "      <td>I never read books</td>\n",
       "      <td>Both parents/guardians have a degree</td>\n",
       "      <td>I'm the oldest</td>\n",
       "      <td>I have my ups and downs</td>\n",
       "      <td>7</td>\n",
       "      <td>Our income covers our needs and more, I don't ...</td>\n",
       "    </tr>\n",
       "    <tr>\n",
       "      <th>2</th>\n",
       "      <td>1</td>\n",
       "      <td>0</td>\n",
       "      <td>0</td>\n",
       "      <td>1</td>\n",
       "      <td>3</td>\n",
       "      <td>16</td>\n",
       "      <td>94.79%</td>\n",
       "      <td>4.000</td>\n",
       "      <td>4</td>\n",
       "      <td>1</td>\n",
       "      <td>...</td>\n",
       "      <td>A decent amount, I don't struggle to stay on t...</td>\n",
       "      <td>1</td>\n",
       "      <td>Never</td>\n",
       "      <td>A little chilly</td>\n",
       "      <td>I read books every now and then</td>\n",
       "      <td>Both parents/guardians have a degree</td>\n",
       "      <td>I'm the oldest</td>\n",
       "      <td>I have my ups and downs</td>\n",
       "      <td>7</td>\n",
       "      <td>Our income covers our needs and more, I don't ...</td>\n",
       "    </tr>\n",
       "    <tr>\n",
       "      <th>3</th>\n",
       "      <td>1</td>\n",
       "      <td>1</td>\n",
       "      <td>1</td>\n",
       "      <td>1</td>\n",
       "      <td>3</td>\n",
       "      <td>16</td>\n",
       "      <td>94.13%</td>\n",
       "      <td>4.000</td>\n",
       "      <td>8</td>\n",
       "      <td>1</td>\n",
       "      <td>...</td>\n",
       "      <td>A decent amount, I don't struggle to stay on t...</td>\n",
       "      <td>1</td>\n",
       "      <td>Rarely</td>\n",
       "      <td>Ideal temperature</td>\n",
       "      <td>I read frequently in my free time</td>\n",
       "      <td>Both parents/guardians have a degree</td>\n",
       "      <td>I'm the youngest</td>\n",
       "      <td>I feel down a decent amount of time</td>\n",
       "      <td>6</td>\n",
       "      <td>Our income covers our needs and more, I don't ...</td>\n",
       "    </tr>\n",
       "    <tr>\n",
       "      <th>4</th>\n",
       "      <td>1</td>\n",
       "      <td>0</td>\n",
       "      <td>0</td>\n",
       "      <td>1</td>\n",
       "      <td>3</td>\n",
       "      <td>16</td>\n",
       "      <td>72.62%</td>\n",
       "      <td>3.250</td>\n",
       "      <td>10</td>\n",
       "      <td>1</td>\n",
       "      <td>...</td>\n",
       "      <td>A decent amount, I don't struggle to stay on t...</td>\n",
       "      <td>1</td>\n",
       "      <td>Rarely</td>\n",
       "      <td>A little chilly</td>\n",
       "      <td>I read frequently in my free time</td>\n",
       "      <td>Both parents/guardians have a degree</td>\n",
       "      <td>I'm the oldest</td>\n",
       "      <td>I am happy most of the time</td>\n",
       "      <td>6</td>\n",
       "      <td>Our income covers our needs, but budgeting sto...</td>\n",
       "    </tr>\n",
       "  </tbody>\n",
       "</table>\n",
       "<p>5 rows × 43 columns</p>\n",
       "</div>"
      ],
      "text/plain": [
       "   Teacher Gender Male?  Student Gender Male?  \\\n",
       "0                     1                     0   \n",
       "1                     1                     0   \n",
       "2                     1                     0   \n",
       "3                     1                     1   \n",
       "4                     1                     0   \n",
       "\n",
       "   Teacher same as student gender?  Morning class?  High School Year  \\\n",
       "0                                0               1                 3   \n",
       "1                                0               1                 3   \n",
       "2                                0               1                 3   \n",
       "3                                1               1                 3   \n",
       "4                                0               1                 3   \n",
       "\n",
       "   6. How old are you? Grade in Class    GPA  Absences  \\\n",
       "0                   16         90.62%  4.000         7   \n",
       "1                   17         84.78%  3.769         4   \n",
       "2                   16         94.79%  4.000         4   \n",
       "3                   16         94.13%  4.000         8   \n",
       "4                   16         72.62%  3.250        10   \n",
       "\n",
       "   Standards Based Grading Used?  ...  \\\n",
       "0                              1  ...   \n",
       "1                              1  ...   \n",
       "2                              1  ...   \n",
       "3                              1  ...   \n",
       "4                              1  ...   \n",
       "\n",
       "  34. How much homework does your English teacher give you?  \\\n",
       "0                       A lot, I can barely keep up.          \n",
       "1  A decent amount, I don't struggle to stay on t...          \n",
       "2  A decent amount, I don't struggle to stay on t...          \n",
       "3  A decent amount, I don't struggle to stay on t...          \n",
       "4  A decent amount, I don't struggle to stay on t...          \n",
       "\n",
       "  Is student allowed to eat food?  \\\n",
       "0                               0   \n",
       "1                               1   \n",
       "2                               1   \n",
       "3                               1   \n",
       "4                               1   \n",
       "\n",
       "  36. Does your teacher provide students with snacks?  \\\n",
       "0                                             Rarely    \n",
       "1                                             Rarely    \n",
       "2                                              Never    \n",
       "3                                             Rarely    \n",
       "4                                             Rarely    \n",
       "\n",
       "  37. How is the temperature of the room most of the time?  \\\n",
       "0                                    A little chilly         \n",
       "1                                  Ideal temperature         \n",
       "2                                    A little chilly         \n",
       "3                                  Ideal temperature         \n",
       "4                                    A little chilly         \n",
       "\n",
       "  38. How often do you read books outside of class? (comics included)  \\\n",
       "0                                I rarely read books                    \n",
       "1                                 I never read books                    \n",
       "2                    I read books every now and then                    \n",
       "3                  I read frequently in my free time                    \n",
       "4                  I read frequently in my free time                    \n",
       "\n",
       "   39. Do one of your parents/guardians have a degree?  \\\n",
       "0               Both parents/guardians have a degree     \n",
       "1               Both parents/guardians have a degree     \n",
       "2               Both parents/guardians have a degree     \n",
       "3               Both parents/guardians have a degree     \n",
       "4               Both parents/guardians have a degree     \n",
       "\n",
       "   40. Are you the youngest, middle, or oldest sibling in your family?  \\\n",
       "0                                     I'm the oldest                     \n",
       "1                                     I'm the oldest                     \n",
       "2                                     I'm the oldest                     \n",
       "3                                   I'm the youngest                     \n",
       "4                                     I'm the oldest                     \n",
       "\n",
       "   41. What is your current level of happiness in general?  \\\n",
       "0                        I am happy most of the time         \n",
       "1                            I have my ups and downs         \n",
       "2                            I have my ups and downs         \n",
       "3                I feel down a decent amount of time         \n",
       "4                        I am happy most of the time         \n",
       "\n",
       "   Student Hours of sleep  \\\n",
       "0                       7   \n",
       "1                       7   \n",
       "2                       7   \n",
       "3                       6   \n",
       "4                       6   \n",
       "\n",
       "  43. What statement best describes your family's income?  \n",
       "0  Our income covers our needs and a little more,...       \n",
       "1  Our income covers our needs and more, I don't ...       \n",
       "2  Our income covers our needs and more, I don't ...       \n",
       "3  Our income covers our needs and more, I don't ...       \n",
       "4  Our income covers our needs, but budgeting sto...       \n",
       "\n",
       "[5 rows x 43 columns]"
      ]
     },
     "execution_count": 172,
     "metadata": {},
     "output_type": "execute_result"
    }
   ],
   "source": [
    "# import data from csv file, set it up as a Pandas data table\n",
    "path = 'Data Points for Practice - Data.csv' \n",
    "data = pd.read_csv(path)\n",
    "data.head(5) # forget unnamed for now"
   ]
  },
  {
   "cell_type": "code",
   "execution_count": 197,
   "id": "f6638584",
   "metadata": {},
   "outputs": [],
   "source": [
    "features = data.columns.drop('Grade in Class')\n",
    "numerics = ['int16', 'int32', 'int64', 'float16', 'float32', 'float64']\n",
    "\n",
    "numerical_features = data.select_dtypes(include=numerics).columns # list of column names that are numerical\n",
    "categorical_features = features.drop(numerical_features) # list of column names that are categorical\n",
    "#classification_features = features.drop('')"
   ]
  },
  {
   "cell_type": "code",
   "execution_count": 198,
   "id": "ca4fbfde",
   "metadata": {},
   "outputs": [],
   "source": [
    "# setup X and y data\n",
    "# Note that X is the features and y is the target we want to predict\n",
    "\n",
    "X = data.drop('Grade in Class', axis=1)\n",
    "y = data['Grade in Class'].str.rstrip('%').astype('float')\n",
    "\n",
    "# setup test split, model randomly chooses students to predict their grade\n",
    "from sklearn.model_selection import train_test_split\n",
    "X_train,X_test,y_train,y_test = train_test_split(X,y)"
   ]
  },
  {
   "cell_type": "code",
   "execution_count": 222,
   "id": "be276258",
   "metadata": {},
   "outputs": [],
   "source": [
    "# pipeline\n",
    "#setup pipe\n",
    "from sklearn.linear_model import LinearRegression\n",
    "from sklearn.pipeline import Pipeline\n",
    "from sklearn.compose import ColumnTransformer\n",
    "from sklearn.impute import SimpleImputer\n",
    "from sklearn.preprocessing import OneHotEncoder, MinMaxScaler, PolynomialFeatures\n",
    "from sklearn.ensemble import RandomForestRegressor, RandomForestClassifier\n",
    "from sklearn.tree import DecisionTreeClassifier\n",
    "\n",
    "# imputers take care of missing values incase any aren't there\n",
    "num_processor = Pipeline(steps=[\n",
    "    ('imputer', SimpleImputer(strategy='median')),\n",
    "    ('scaler', MinMaxScaler()),\n",
    "])\n",
    "\n",
    "cat_processor = Pipeline(steps=[\n",
    "    ('imputer', SimpleImputer(strategy='most_frequent')),\n",
    "    ('encoder', OneHotEncoder(handle_unknown='ignore')) # was handle_unknown='ignore'\n",
    "])\n",
    "\n",
    "feature_processor = ColumnTransformer(transformers=[\n",
    "    ('num_processor', num_processor, numerical_features),\n",
    "    ('cat_processor', cat_processor, categorical_features,)\n",
    "], remainder='passthrough')\n",
    "\n",
    "pipe = Pipeline(steps=[\n",
    "    ('feature_processor', feature_processor),\n",
    "    ('forest', RandomForestRegressor())\n",
    "])\n"
   ]
  },
  {
   "cell_type": "code",
   "execution_count": 223,
   "id": "ccc993f6",
   "metadata": {},
   "outputs": [
    {
     "name": "stderr",
     "output_type": "stream",
     "text": [
      "c:\\Users\\Derrick\\Anaconda3\\lib\\site-packages\\sklearn\\ensemble\\forest.py:245: FutureWarning: The default value of n_estimators will change from 10 in version 0.20 to 100 in 0.22.\n",
      "  \"10 in version 0.20 to 100 in 0.22.\", FutureWarning)\n"
     ]
    },
    {
     "data": {
      "text/plain": [
       "Pipeline(memory=None,\n",
       "         steps=[('feature_processor',\n",
       "                 ColumnTransformer(n_jobs=None, remainder='passthrough',\n",
       "                                   sparse_threshold=0.3,\n",
       "                                   transformer_weights=None,\n",
       "                                   transformers=[('num_processor',\n",
       "                                                  Pipeline(memory=None,\n",
       "                                                           steps=[('imputer',\n",
       "                                                                   SimpleImputer(add_indicator=False,\n",
       "                                                                                 copy=True,\n",
       "                                                                                 fill_value=None,\n",
       "                                                                                 missing_values=nan,\n",
       "                                                                                 strategy='median',\n",
       "                                                                                 verbose=0)),\n",
       "                                                                  ('scaler',\n",
       "                                                                   MinMaxScaler...\n",
       "                                   verbose=False)),\n",
       "                ('forest',\n",
       "                 RandomForestRegressor(bootstrap=True, criterion='mse',\n",
       "                                       max_depth=None, max_features='auto',\n",
       "                                       max_leaf_nodes=None,\n",
       "                                       min_impurity_decrease=0.0,\n",
       "                                       min_impurity_split=None,\n",
       "                                       min_samples_leaf=1, min_samples_split=2,\n",
       "                                       min_weight_fraction_leaf=0.0,\n",
       "                                       n_estimators=10, n_jobs=None,\n",
       "                                       oob_score=False, random_state=None,\n",
       "                                       verbose=0, warm_start=False))],\n",
       "         verbose=False)"
      ]
     },
     "execution_count": 223,
     "metadata": {},
     "output_type": "execute_result"
    }
   ],
   "source": [
    "pipe.fit(X_train,y_train)"
   ]
  },
  {
   "cell_type": "code",
   "execution_count": 224,
   "id": "f559c5b2",
   "metadata": {},
   "outputs": [],
   "source": [
    "# setup RandomForestRegressor, we use this to predict student grades\n",
    "from sklearn.ensemble import RandomForestRegressor\n",
    "\n",
    "clf = RandomForestRegressor()"
   ]
  },
  {
   "cell_type": "code",
   "execution_count": 225,
   "id": "1d98d3cd",
   "metadata": {},
   "outputs": [
    {
     "name": "stdout",
     "output_type": "stream",
     "text": [
      "Fitting 5 folds for each of 1 candidates, totalling 5 fits\n"
     ]
    },
    {
     "name": "stderr",
     "output_type": "stream",
     "text": [
      "[Parallel(n_jobs=-1)]: Using backend LokyBackend with 12 concurrent workers.\n",
      "[Parallel(n_jobs=-1)]: Done   5 out of   5 | elapsed:    2.4s finished\n",
      "c:\\Users\\Derrick\\Anaconda3\\lib\\site-packages\\sklearn\\model_selection\\_search.py:813: DeprecationWarning: The default of the `iid` parameter will change from True to False in version 0.22 and will be removed in 0.24. This will change numeric results when test-set sizes are unequal.\n",
      "  DeprecationWarning)\n"
     ]
    },
    {
     "data": {
      "text/plain": [
       "GridSearchCV(cv=5, error_score='raise-deprecating',\n",
       "             estimator=Pipeline(memory=None,\n",
       "                                steps=[('feature_processor',\n",
       "                                        ColumnTransformer(n_jobs=None,\n",
       "                                                          remainder='passthrough',\n",
       "                                                          sparse_threshold=0.3,\n",
       "                                                          transformer_weights=None,\n",
       "                                                          transformers=[('num_processor',\n",
       "                                                                         Pipeline(memory=None,\n",
       "                                                                                  steps=[('imputer',\n",
       "                                                                                          SimpleImputer(add_indicator=False,\n",
       "                                                                                                        copy=True,\n",
       "                                                                                                        fill_value=None,\n",
       "                                                                                                        missing_val...\n",
       "                                                              min_impurity_decrease=0.0,\n",
       "                                                              min_impurity_split=None,\n",
       "                                                              min_samples_leaf=1,\n",
       "                                                              min_samples_split=2,\n",
       "                                                              min_weight_fraction_leaf=0.0,\n",
       "                                                              n_estimators=10,\n",
       "                                                              n_jobs=None,\n",
       "                                                              oob_score=False,\n",
       "                                                              random_state=None,\n",
       "                                                              verbose=0,\n",
       "                                                              warm_start=False))],\n",
       "                                verbose=False),\n",
       "             iid='warn', n_jobs=-1, param_grid={}, pre_dispatch='2*n_jobs',\n",
       "             refit=True, return_train_score=False,\n",
       "             scoring='neg_mean_squared_error', verbose=1)"
      ]
     },
     "execution_count": 225,
     "metadata": {},
     "output_type": "execute_result"
    }
   ],
   "source": [
    "# Setup for a grid search, we use a search grid to test multiple parameters and find the best one\n",
    "from sklearn.model_selection import GridSearchCV\n",
    "depth_list = [2,4,8,16,32]\n",
    "param_dic = {}\n",
    "# additionally, clf above has class_weight = 'balanced' in the parameters\n",
    "\n",
    "grid = GridSearchCV(pipe,param_dic, scoring='neg_mean_squared_error', cv=5, n_jobs=-1, verbose=1)\n",
    "grid.fit(X_train,y_train)"
   ]
  },
  {
   "cell_type": "code",
   "execution_count": 226,
   "id": "c90a1e97",
   "metadata": {},
   "outputs": [],
   "source": [
    "# from the grid search, select the best one then make predictions from it\n",
    "best_pipe = grid.best_estimator_\n",
    "y_test_pred = best_pipe.predict(X_test) # from the people being tested, predict their grades\n"
   ]
  },
  {
   "cell_type": "code",
   "execution_count": 231,
   "id": "84913da2",
   "metadata": {},
   "outputs": [
    {
     "name": "stdout",
     "output_type": "stream",
     "text": [
      "length of feature importances: 95\n",
      "length of features taken in 42\n"
     ]
    }
   ],
   "source": [
    "# from the best pipe, give the importances of the features given\n",
    "# TODO: for some reason the feature importances list is longer than the features taken in\n",
    "# TODO: link for above stuff here https://scikit-learn.org/stable/auto_examples/ensemble/plot_forest_importances.html\n",
    "estimator_values = grid.best_estimator_.named_steps[\"forest\"].feature_importances_\n",
    "feature_names = [f\"feature {i}\" for i in range(X.shape[1])]\n",
    "print('length of feature importances:', len(estimator_values))\n",
    "print('length of features taken in', len(feature_names))\n",
    "# estimators = pd.DataFrame(data = estimator_values, index=[numerical_features, categorical_features], columns=['index', 'value'])\n"
   ]
  },
  {
   "cell_type": "code",
   "execution_count": null,
   "id": "cded82a8",
   "metadata": {},
   "outputs": [
    {
     "data": {
      "text/plain": [
       "[78.0, 78.0, 93.0, 83.0, 73.0, 73.0, 90.0, 80.0]"
      ]
     },
     "execution_count": 100,
     "metadata": {},
     "output_type": "execute_result"
    }
   ],
   "source": [
    "# print a list of grades predicted\n",
    "np.floor(y_test_pred).tolist()"
   ]
  },
  {
   "cell_type": "code",
   "execution_count": null,
   "id": "4a086775",
   "metadata": {},
   "outputs": [
    {
     "data": {
      "text/plain": [
       "array([76.25, 84.27, 94.79, 84.78, 93.29, 83.73, 75.92, 87.73])"
      ]
     },
     "execution_count": 103,
     "metadata": {},
     "output_type": "execute_result"
    }
   ],
   "source": [
    "# print a list of the actual grades\n",
    "y_test.values"
   ]
  },
  {
   "cell_type": "code",
   "execution_count": 206,
   "id": "f6ff41e7",
   "metadata": {},
   "outputs": [
    {
     "name": "stdout",
     "output_type": "stream",
     "text": [
      "predicted grade:  83.0 actual grade:  60.91\n",
      "predicted grade:  88.0 actual grade:  93.96\n",
      "predicted grade:  84.0 actual grade:  69.33\n",
      "predicted grade:  87.0 actual grade:  84.27\n",
      "predicted grade:  81.0 actual grade:  72.62\n",
      "predicted grade:  93.0 actual grade:  94.79\n",
      "predicted grade:  93.0 actual grade:  88.98\n",
      "predicted grade:  83.0 actual grade:  93.29\n"
     ]
    }
   ],
   "source": [
    "# print predicted and actual grades side by side\n",
    "testLength = len(y_test)\n",
    "for i in range(testLength):\n",
    "    print('predicted grade: ', np.floor(y_test_pred[i]), 'actual grade: ', y_test.values[i])"
   ]
  },
  {
   "cell_type": "code",
   "execution_count": 235,
   "id": "2db6a5b1",
   "metadata": {},
   "outputs": [
    {
     "data": {
      "image/png": "[encoded data removed]",
      "text/plain": [
       "<Figure size 720x720 with 1 Axes>"
      ]
     },
     "metadata": {
      "needs_background": "light"
     },
     "output_type": "display_data"
    }
   ],
   "source": [
    "import pandas as pd\n",
    "import matplotlib.pyplot as plt\n",
    "\n",
    "best_pipe = grid.best_estimator_\n",
    "y_test_pred = best_pipe.predict(X_test)\n",
    "\n",
    "\n",
    "# plot from SOF https://stackoverflow.com/questions/58410187/how-to-plot-predicted-values-vs-the-true-value\n",
    "plt.figure(figsize=(10,10))\n",
    "plt.scatter(y_test, y_test_pred, c='crimson')\n",
    "plt.yscale('linear')\n",
    "plt.xscale('linear')\n",
    "\n",
    "p1 = max(max(y_test_pred), max(y_test))\n",
    "p2 = min(min(y_test_pred), min(y_test))\n",
    "plt.plot([p1, p2], [p1, p2], 'b-')\n",
    "plt.xlabel('True Values', fontsize=15)\n",
    "plt.ylabel('Predictions', fontsize=15)\n",
    "plt.axis('equal')\n",
    "plt.show()"
   ]
  },
  {
   "cell_type": "code",
   "execution_count": 233,
   "id": "c75ca470",
   "metadata": {},
   "outputs": [
    {
     "name": "stdout",
     "output_type": "stream",
     "text": [
      "params: {}\n",
      "MSE: 12.501488251404309\n",
      "MAE: 10.131499999999999\n"
     ]
    }
   ],
   "source": [
    "import numpy as np\n",
    "from sklearn.metrics import confusion_matrix, accuracy_score, recall_score, mean_absolute_error, mean_squared_error\n",
    "\n",
    "def TestPipe(y,y_pred):\n",
    "    print('params:',grid.best_params_)\n",
    "    # MSE\n",
    "    print('MSE:',np.sqrt(mean_squared_error(y,y_pred)))\n",
    "    # MAE\n",
    "    print('MAE:',mean_absolute_error(y,y_pred))\n",
    "    # MAPE\n",
    "    # not using cause its missing in my python version\n",
    "    #print('MAPE', mean_absolute_percentage_error(y,y_pred))\n",
    "\n",
    "TestPipe(y_test,y_test_pred)"
   ]
  },
  {
   "cell_type": "code",
   "execution_count": 180,
   "id": "543a3d86",
   "metadata": {},
   "outputs": [
    {
     "ename": "AttributeError",
     "evalue": "'RandomForestRegressor' object has no attribute 'tree_'",
     "output_type": "error",
     "traceback": [
      "\u001b[1;31m---------------------------------------------------------------------------\u001b[0m",
      "\u001b[1;31mAttributeError\u001b[0m                            Traceback (most recent call last)",
      "\u001b[1;32m<ipython-input-180-915260f2cf04>\u001b[0m in \u001b[0;36m<module>\u001b[1;34m\u001b[0m\n\u001b[0;32m      6\u001b[0m          \u001b[1;31m#class_names = best_pipe.named_steps['forest'].classes_,\u001b[0m\u001b[1;33m\u001b[0m\u001b[1;33m\u001b[0m\u001b[1;33m\u001b[0m\u001b[0m\n\u001b[0;32m      7\u001b[0m          \u001b[0mfilled\u001b[0m \u001b[1;33m=\u001b[0m \u001b[1;32mTrue\u001b[0m\u001b[1;33m,\u001b[0m\u001b[1;33m\u001b[0m\u001b[1;33m\u001b[0m\u001b[0m\n\u001b[1;32m----> 8\u001b[1;33m          fontsize=15)\n\u001b[0m\u001b[0;32m      9\u001b[0m \u001b[0mplt\u001b[0m\u001b[1;33m.\u001b[0m\u001b[0mshow\u001b[0m\u001b[1;33m(\u001b[0m\u001b[1;33m)\u001b[0m\u001b[1;33m\u001b[0m\u001b[1;33m\u001b[0m\u001b[0m\n",
      "\u001b[1;32mc:\\Users\\Derrick\\Anaconda3\\lib\\site-packages\\sklearn\\tree\\export.py\u001b[0m in \u001b[0;36mplot_tree\u001b[1;34m(decision_tree, max_depth, feature_names, class_names, label, filled, impurity, node_ids, proportion, rotate, rounded, precision, ax, fontsize)\u001b[0m\n\u001b[0;32m    176\u001b[0m         \u001b[0mproportion\u001b[0m\u001b[1;33m=\u001b[0m\u001b[0mproportion\u001b[0m\u001b[1;33m,\u001b[0m \u001b[0mrotate\u001b[0m\u001b[1;33m=\u001b[0m\u001b[0mrotate\u001b[0m\u001b[1;33m,\u001b[0m \u001b[0mrounded\u001b[0m\u001b[1;33m=\u001b[0m\u001b[0mrounded\u001b[0m\u001b[1;33m,\u001b[0m\u001b[1;33m\u001b[0m\u001b[1;33m\u001b[0m\u001b[0m\n\u001b[0;32m    177\u001b[0m         precision=precision, fontsize=fontsize)\n\u001b[1;32m--> 178\u001b[1;33m     \u001b[1;32mreturn\u001b[0m \u001b[0mexporter\u001b[0m\u001b[1;33m.\u001b[0m\u001b[0mexport\u001b[0m\u001b[1;33m(\u001b[0m\u001b[0mdecision_tree\u001b[0m\u001b[1;33m,\u001b[0m \u001b[0max\u001b[0m\u001b[1;33m=\u001b[0m\u001b[0max\u001b[0m\u001b[1;33m)\u001b[0m\u001b[1;33m\u001b[0m\u001b[1;33m\u001b[0m\u001b[0m\n\u001b[0m\u001b[0;32m    179\u001b[0m \u001b[1;33m\u001b[0m\u001b[0m\n\u001b[0;32m    180\u001b[0m \u001b[1;33m\u001b[0m\u001b[0m\n",
      "\u001b[1;32mc:\\Users\\Derrick\\Anaconda3\\lib\\site-packages\\sklearn\\tree\\export.py\u001b[0m in \u001b[0;36mexport\u001b[1;34m(self, decision_tree, ax)\u001b[0m\n\u001b[0;32m    569\u001b[0m         \u001b[0max\u001b[0m\u001b[1;33m.\u001b[0m\u001b[0mclear\u001b[0m\u001b[1;33m(\u001b[0m\u001b[1;33m)\u001b[0m\u001b[1;33m\u001b[0m\u001b[1;33m\u001b[0m\u001b[0m\n\u001b[0;32m    570\u001b[0m         \u001b[0max\u001b[0m\u001b[1;33m.\u001b[0m\u001b[0mset_axis_off\u001b[0m\u001b[1;33m(\u001b[0m\u001b[1;33m)\u001b[0m\u001b[1;33m\u001b[0m\u001b[1;33m\u001b[0m\u001b[0m\n\u001b[1;32m--> 571\u001b[1;33m         \u001b[0mmy_tree\u001b[0m \u001b[1;33m=\u001b[0m \u001b[0mself\u001b[0m\u001b[1;33m.\u001b[0m\u001b[0m_make_tree\u001b[0m\u001b[1;33m(\u001b[0m\u001b[1;36m0\u001b[0m\u001b[1;33m,\u001b[0m \u001b[0mdecision_tree\u001b[0m\u001b[1;33m.\u001b[0m\u001b[0mtree_\u001b[0m\u001b[1;33m)\u001b[0m\u001b[1;33m\u001b[0m\u001b[1;33m\u001b[0m\u001b[0m\n\u001b[0m\u001b[0;32m    572\u001b[0m         \u001b[0mdraw_tree\u001b[0m \u001b[1;33m=\u001b[0m \u001b[0mbuchheim\u001b[0m\u001b[1;33m(\u001b[0m\u001b[0mmy_tree\u001b[0m\u001b[1;33m)\u001b[0m\u001b[1;33m\u001b[0m\u001b[1;33m\u001b[0m\u001b[0m\n\u001b[0;32m    573\u001b[0m \u001b[1;33m\u001b[0m\u001b[0m\n",
      "\u001b[1;31mAttributeError\u001b[0m: 'RandomForestRegressor' object has no attribute 'tree_'"
     ]
    },
    {
     "data": {
      "image/png": "[encoded data removed]",
      "text/plain": [
       "<Figure size 1080x1080 with 1 Axes>"
      ]
     },
     "metadata": {
      "needs_background": "light"
     },
     "output_type": "display_data"
    }
   ],
   "source": [
    "# DONT USDFS  XD\n",
    "from sklearn.tree import plot_tree\n",
    "\n",
    "plt.figure(figsize=(15,15))\n",
    "plot_tree(best_pipe.named_steps['forest'],\n",
    "         #feature_names = X_test.columns,\n",
    "         #class_names = best_pipe.named_steps['forest'].classes_,\n",
    "         filled = True,\n",
    "         fontsize=15)\n",
    "plt.show()"
   ]
  },
  {
   "cell_type": "code",
   "execution_count": null,
   "id": "f68b28fd",
   "metadata": {},
   "outputs": [],
   "source": []
  }
 ],
 "metadata": {
  "kernelspec": {
   "display_name": "base",
   "language": "python",
   "name": "python3"
  },
  "language_info": {
   "codemirror_mode": {
    "name": "ipython",
    "version": 3
   },
   "file_extension": ".py",
   "mimetype": "text/x-python",
   "name": "python",
   "nbconvert_exporter": "python",
   "pygments_lexer": "ipython3",
   "version": "3.7.3"
  },
  "vscode": {
   "interpreter": {
    "hash": "6fb045e0794b49a94e0fb4df5d6e6b5607c8e635c915d714616e7ab91521d5b8"
   }
  }
 },
 "nbformat": 4,
 "nbformat_minor": 5
}