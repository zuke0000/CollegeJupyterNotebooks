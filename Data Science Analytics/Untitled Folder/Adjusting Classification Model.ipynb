{
 "cells": [
  {
   "cell_type": "code",
   "execution_count": 22,
   "id": "d8f92b3c",
   "metadata": {},
   "outputs": [],
   "source": [
    "import pandas as pd\n",
    "import numpy as np\n",
    "import matplotlib.pyplot as plt\n"
   ]
  },
  {
   "cell_type": "code",
   "execution_count": 23,
   "id": "e4bf220c",
   "metadata": {},
   "outputs": [
    {
     "data": {
      "text/html": [
       "<div>\n",
       "<style scoped>\n",
       "    .dataframe tbody tr th:only-of-type {\n",
       "        vertical-align: middle;\n",
       "    }\n",
       "\n",
       "    .dataframe tbody tr th {\n",
       "        vertical-align: top;\n",
       "    }\n",
       "\n",
       "    .dataframe thead th {\n",
       "        text-align: right;\n",
       "    }\n",
       "</style>\n",
       "<table border=\"1\" class=\"dataframe\">\n",
       "  <thead>\n",
       "    <tr style=\"text-align: right;\">\n",
       "      <th></th>\n",
       "      <th>pregnant</th>\n",
       "      <th>glucose</th>\n",
       "      <th>bp</th>\n",
       "      <th>skin</th>\n",
       "      <th>insulin</th>\n",
       "      <th>bmi</th>\n",
       "      <th>pedigree</th>\n",
       "      <th>age</th>\n",
       "      <th>label</th>\n",
       "    </tr>\n",
       "  </thead>\n",
       "  <tbody>\n",
       "    <tr>\n",
       "      <th>0</th>\n",
       "      <td>6</td>\n",
       "      <td>148</td>\n",
       "      <td>72</td>\n",
       "      <td>35</td>\n",
       "      <td>0</td>\n",
       "      <td>33.6</td>\n",
       "      <td>0.627</td>\n",
       "      <td>50</td>\n",
       "      <td>1</td>\n",
       "    </tr>\n",
       "    <tr>\n",
       "      <th>1</th>\n",
       "      <td>1</td>\n",
       "      <td>85</td>\n",
       "      <td>66</td>\n",
       "      <td>29</td>\n",
       "      <td>0</td>\n",
       "      <td>26.6</td>\n",
       "      <td>0.351</td>\n",
       "      <td>31</td>\n",
       "      <td>0</td>\n",
       "    </tr>\n",
       "    <tr>\n",
       "      <th>2</th>\n",
       "      <td>8</td>\n",
       "      <td>183</td>\n",
       "      <td>64</td>\n",
       "      <td>0</td>\n",
       "      <td>0</td>\n",
       "      <td>23.3</td>\n",
       "      <td>0.672</td>\n",
       "      <td>32</td>\n",
       "      <td>1</td>\n",
       "    </tr>\n",
       "  </tbody>\n",
       "</table>\n",
       "</div>"
      ],
      "text/plain": [
       "   pregnant  glucose  bp  skin  insulin   bmi  pedigree  age  label\n",
       "0         6      148  72    35        0  33.6     0.627   50      1\n",
       "1         1       85  66    29        0  26.6     0.351   31      0\n",
       "2         8      183  64     0        0  23.3     0.672   32      1"
      ]
     },
     "execution_count": 23,
     "metadata": {},
     "output_type": "execute_result"
    }
   ],
   "source": [
    "# load pima dataset\n",
    "path = 'https://raw.githubusercontent.com/um-perez-alvaro/Data-Science-Practice/master/Data/pima.csv'\n",
    "pima = pd.read_csv(path)\n",
    "pima.head(3)"
   ]
  },
  {
   "cell_type": "code",
   "execution_count": 24,
   "id": "f2cbfe07",
   "metadata": {},
   "outputs": [],
   "source": [
    "#logistic regression\n",
    "from sklearn.linear_model import LogisticRegression\n",
    "logreg_clf = LogisticRegression(max_iter=1000) # set max_iter to high # if a warning shows\n"
   ]
  },
  {
   "cell_type": "code",
   "execution_count": 25,
   "id": "ae4185df",
   "metadata": {},
   "outputs": [],
   "source": [
    "# train test split\n",
    "from sklearn.model_selection import train_test_split\n",
    "\n",
    "X = pima.drop('label', axis=1)\n",
    "y = pima.label\n",
    "X_train,X_test,y_train,y_test = train_test_split(X,y)"
   ]
  },
  {
   "cell_type": "code",
   "execution_count": 26,
   "id": "ee619145",
   "metadata": {},
   "outputs": [
    {
     "data": {
      "text/plain": [
       "LogisticRegression(max_iter=1000)"
      ]
     },
     "execution_count": 26,
     "metadata": {},
     "output_type": "execute_result"
    }
   ],
   "source": [
    "logreg_clf.fit(X_train,y_train)"
   ]
  },
  {
   "cell_type": "code",
   "execution_count": 27,
   "id": "51c91ee0",
   "metadata": {},
   "outputs": [
    {
     "data": {
      "text/plain": [
       "array([0, 1, 0, 0, 0, 0, 0, 0, 0, 1, 0, 0, 0, 0, 1, 0, 0, 0, 1, 0, 0, 0,\n",
       "       1, 1, 0, 0, 0, 1, 1, 0, 0, 0, 0, 0, 1, 0, 1, 0, 1, 0, 1, 0, 0, 0,\n",
       "       0, 0, 1, 1, 1, 0, 0, 0, 0, 0, 0, 0, 0, 1, 0, 0, 1, 0, 0, 1, 0, 1,\n",
       "       0, 0, 0, 0, 1, 0, 1, 0, 0, 1, 0, 0, 0, 0, 0, 0, 0, 0, 0, 0, 1, 0,\n",
       "       0, 0, 0, 0, 1, 0, 0, 0, 1, 0, 0, 0, 0, 0, 0, 1, 0, 0, 1, 0, 0, 0,\n",
       "       1, 0, 0, 0, 1, 0, 0, 0, 0, 0, 0, 0, 0, 1, 0, 0, 0, 0, 0, 0, 0, 0,\n",
       "       0, 0, 0, 0, 1, 1, 1, 0, 1, 0, 1, 1, 0, 0, 1, 1, 0, 0, 1, 0, 0, 1,\n",
       "       0, 0, 0, 0, 1, 1, 1, 0, 1, 0, 0, 1, 0, 0, 0, 1, 0, 1, 0, 0, 0, 0,\n",
       "       1, 1, 0, 1, 0, 0, 0, 1, 0, 0, 1, 0, 0, 0, 0, 0], dtype=int64)"
      ]
     },
     "execution_count": 27,
     "metadata": {},
     "output_type": "execute_result"
    }
   ],
   "source": [
    "# predictions\n",
    "y_test_pred = logreg_clf.predict(X_test)\n",
    "y_test_pred"
   ]
  },
  {
   "cell_type": "code",
   "execution_count": 37,
   "id": "fa373d59",
   "metadata": {},
   "outputs": [
    {
     "data": {
      "text/plain": [
       "array([0.20531339, 0.72040301, 0.30446332, 0.19791906, 0.09457666,\n",
       "       0.19343516, 0.39588436, 0.20156512, 0.03663605, 0.61159177,\n",
       "       0.28147703, 0.18480994, 0.08660901, 0.35083879, 0.5147051 ,\n",
       "       0.28843355, 0.17686683, 0.09725724, 0.73127931, 0.04422643,\n",
       "       0.41494473, 0.40086249, 0.6879834 , 0.77441071, 0.22144718,\n",
       "       0.35118505, 0.14612768, 0.93192241, 0.60700805, 0.11439043,\n",
       "       0.17294578, 0.20537622, 0.16997984, 0.05985154, 0.72653533,\n",
       "       0.11933398, 0.96833775, 0.46647562, 0.65009708, 0.15269815,\n",
       "       0.91808701, 0.08371116, 0.27582967, 0.09516305, 0.26319638,\n",
       "       0.04064865, 0.52142111, 0.95491695, 0.61267128, 0.06710591,\n",
       "       0.18944498, 0.03492631, 0.13949429, 0.21953386, 0.38420721,\n",
       "       0.28229061, 0.28895818, 0.82329614, 0.1300231 , 0.3843742 ,\n",
       "       0.76503346, 0.3798013 , 0.00250989, 0.50057552, 0.23151858,\n",
       "       0.5523108 , 0.02072675, 0.08239228, 0.21741625, 0.23029062,\n",
       "       0.89414727, 0.1629324 , 0.56145401, 0.07002359, 0.11578371,\n",
       "       0.975912  , 0.07355594, 0.09260499, 0.10269559, 0.37276482,\n",
       "       0.48389828, 0.15284277, 0.01458967, 0.08380391, 0.45852435,\n",
       "       0.03348239, 0.65484056, 0.13177408, 0.12496878, 0.43237519,\n",
       "       0.22132533, 0.2316103 , 0.94346169, 0.07178204, 0.19205305,\n",
       "       0.48565497, 0.712211  , 0.15485295, 0.17605326, 0.0165883 ,\n",
       "       0.25157654, 0.00726943, 0.03130512, 0.8534329 , 0.33735894,\n",
       "       0.00467404, 0.57119274, 0.18851968, 0.36931713, 0.1892622 ,\n",
       "       0.94581329, 0.10722826, 0.06189449, 0.35116322, 0.83996958,\n",
       "       0.19741926, 0.22738518, 0.12680685, 0.11556367, 0.14441708,\n",
       "       0.17044383, 0.06225184, 0.30291664, 0.55018272, 0.28882168,\n",
       "       0.28335549, 0.33716286, 0.07985833, 0.17403231, 0.11765729,\n",
       "       0.04372378, 0.23797301, 0.02887296, 0.15111061, 0.00680394,\n",
       "       0.42894311, 0.63284495, 0.65923223, 0.97526189, 0.34059673,\n",
       "       0.8556565 , 0.03453712, 0.80114751, 0.65825768, 0.1592184 ,\n",
       "       0.27399044, 0.64994972, 0.53559854, 0.22113334, 0.17002171,\n",
       "       0.74076983, 0.29517113, 0.49886793, 0.69857697, 0.21865522,\n",
       "       0.1505488 , 0.2937543 , 0.17245159, 0.73397438, 0.84098583,\n",
       "       0.89625273, 0.04109035, 0.576288  , 0.36533323, 0.11028879,\n",
       "       0.66649041, 0.13655074, 0.3055287 , 0.35943862, 0.69776626,\n",
       "       0.03500724, 0.81178977, 0.28263626, 0.01867458, 0.0272801 ,\n",
       "       0.31010116, 0.74511623, 0.97213184, 0.07438141, 0.73400332,\n",
       "       0.44455198, 0.12667054, 0.12372117, 0.8427956 , 0.25635482,\n",
       "       0.34944924, 0.82463372, 0.08084566, 0.25243162, 0.13863635,\n",
       "       0.165977  , 0.47985009])"
      ]
     },
     "execution_count": 37,
     "metadata": {},
     "output_type": "execute_result"
    }
   ],
   "source": [
    "proba = logreg_clf.predict_proba(X_test)[:,1] # probability label is 1. Label for correspondeing is 1 if prob > 0.5, 0 if prob <= 0.5\n",
    "proba"
   ]
  },
  {
   "cell_type": "code",
   "execution_count": 35,
   "id": "8161f70b",
   "metadata": {},
   "outputs": [
    {
     "name": "stdout",
     "output_type": "stream",
     "text": [
      "0.7552083333333334\n",
      "0.5373134328358209\n",
      "0.6923076923076923\n"
     ]
    }
   ],
   "source": [
    "from sklearn.metrics import accuracy_score, recall_score, precision_score\n",
    "print(accuracy_score(y_test,y_test_pred))\n",
    "print(recall_score(y_test,y_test_pred)) # recall is TP over TP + FN\n",
    "print(precision_score(y_test,y_test_pred)) # precion is TP over TP + FP"
   ]
  },
  {
   "cell_type": "code",
   "execution_count": 43,
   "id": "a9ae0185",
   "metadata": {},
   "outputs": [
    {
     "data": {
      "text/plain": [
       "array([0., 1., 1., 0., 0., 0., 1., 0., 0., 1., 0., 0., 0., 1., 1., 0., 0.,\n",
       "       0., 1., 0., 1., 1., 1., 1., 0., 1., 0., 1., 1., 0., 0., 0., 0., 0.,\n",
       "       1., 0., 1., 1., 1., 0., 1., 0., 0., 0., 0., 0., 1., 1., 1., 0., 0.,\n",
       "       0., 0., 0., 1., 0., 0., 1., 0., 1., 1., 1., 0., 1., 0., 1., 0., 0.,\n",
       "       0., 0., 1., 0., 1., 0., 0., 1., 0., 0., 0., 1., 1., 0., 0., 0., 1.,\n",
       "       0., 1., 0., 0., 1., 0., 0., 1., 0., 0., 1., 1., 0., 0., 0., 0., 0.,\n",
       "       0., 1., 1., 0., 1., 0., 1., 0., 1., 0., 0., 1., 1., 0., 0., 0., 0.,\n",
       "       0., 0., 0., 1., 1., 0., 0., 1., 0., 0., 0., 0., 0., 0., 0., 0., 1.,\n",
       "       1., 1., 1., 1., 1., 0., 1., 1., 0., 0., 1., 1., 0., 0., 1., 0., 1.,\n",
       "       1., 0., 0., 0., 0., 1., 1., 1., 0., 1., 1., 0., 1., 0., 1., 1., 1.,\n",
       "       0., 1., 0., 0., 0., 1., 1., 1., 0., 1., 1., 0., 0., 1., 0., 1., 1.,\n",
       "       0., 0., 0., 0., 1.])"
      ]
     },
     "execution_count": 43,
     "metadata": {},
     "output_type": "execute_result"
    }
   ],
   "source": [
    "# changing the 0.5 threshold (scikit learn always uses 0.5)\n",
    "threshold = 0.3\n",
    "y_test_pred = np.zeros(len(y_test))\n",
    "y_test_pred[proba>threshold]=1"
   ]
  },
  {
   "cell_type": "code",
   "execution_count": 44,
   "id": "7b2119a3",
   "metadata": {},
   "outputs": [
    {
     "name": "stdout",
     "output_type": "stream",
     "text": [
      "0.7552083333333334\n",
      "0.7611940298507462\n",
      "0.6219512195121951\n"
     ]
    }
   ],
   "source": [
    "# test scores after changing precsion\n",
    "print(accuracy_score(y_test,y_test_pred))\n",
    "print(recall_score(y_test,y_test_pred)) # recall is TP over TP + FN\n",
    "print(precision_score(y_test,y_test_pred)) # precion is TP over TP + FP"
   ]
  },
  {
   "cell_type": "code",
   "execution_count": 52,
   "id": "e8758c35",
   "metadata": {},
   "outputs": [],
   "source": [
    "# to find best threshold, loop over different values\n",
    "threshold_list = np.linspace(0,1,100) # 100 evenly spaced points between 0 and 1"
   ]
  },
  {
   "cell_type": "code",
   "execution_count": 53,
   "id": "b3bfcd34",
   "metadata": {},
   "outputs": [
    {
     "name": "stderr",
     "output_type": "stream",
     "text": [
      "C:\\Users\\Derrick\\anaconda3\\lib\\site-packages\\sklearn\\metrics\\_classification.py:1318: UndefinedMetricWarning: Precision is ill-defined and being set to 0.0 due to no predicted samples. Use `zero_division` parameter to control this behavior.\n",
      "  _warn_prf(average, modifier, msg_start, len(result))\n",
      "C:\\Users\\Derrick\\anaconda3\\lib\\site-packages\\sklearn\\metrics\\_classification.py:1318: UndefinedMetricWarning: Precision is ill-defined and being set to 0.0 due to no predicted samples. Use `zero_division` parameter to control this behavior.\n",
      "  _warn_prf(average, modifier, msg_start, len(result))\n",
      "C:\\Users\\Derrick\\anaconda3\\lib\\site-packages\\sklearn\\metrics\\_classification.py:1318: UndefinedMetricWarning: Precision is ill-defined and being set to 0.0 due to no predicted samples. Use `zero_division` parameter to control this behavior.\n",
      "  _warn_prf(average, modifier, msg_start, len(result))\n"
     ]
    }
   ],
   "source": [
    "recalls = [] # empty list\n",
    "precisions = []\n",
    "accuracies = []\n",
    "for threshold in threshold_list:\n",
    "    y_test_pred = np.zeros(len(y_test))\n",
    "    y_test_pred[proba>threshold]=1\n",
    "    recalls.append(recall_score(y_test,y_test_pred))\n",
    "    precisions.append(precision_score(y_test,y_test_pred))\n",
    "    accuracies.append(accuracy_score(y_test,y_test_pred))"
   ]
  },
  {
   "cell_type": "code",
   "execution_count": 69,
   "id": "00c9040b",
   "metadata": {},
   "outputs": [
    {
     "data": {
      "text/plain": [
       "Text(0.5, 1.0, 'evaluation metric as a function of the threshold')"
      ]
     },
     "execution_count": 69,
     "metadata": {},
     "output_type": "execute_result"
    },
    {
     "data": {
      "image/png": "[encoded data removed]",
      "text/plain": [
       "<Figure size 648x360 with 1 Axes>"
      ]
     },
     "metadata": {
      "needs_background": "light"
     },
     "output_type": "display_data"
    }
   ],
   "source": [
    "fig, ax = plt.subplots(figsize=(9,5))\n",
    "ax.plot(threshold_list, recalls, label='recall')\n",
    "ax.plot(threshold_list, precisions, label='precision')\n",
    "ax.plot(threshold_list, accuracies, label='accuracy')\n",
    "ax.legend()\n",
    "ax.grid(True)\n",
    "ax.set_title('evaluation metric as a function of the threshold')"
   ]
  },
  {
   "cell_type": "code",
   "execution_count": 72,
   "id": "80b98408",
   "metadata": {},
   "outputs": [
    {
     "data": {
      "text/plain": [
       "Text(0.5, 1.0, 'precision-recall trade off')"
      ]
     },
     "execution_count": 72,
     "metadata": {},
     "output_type": "execute_result"
    },
    {
     "data": {
      "image/png": "[encoded data removed]",
      "text/plain": [
       "<Figure size 648x360 with 1 Axes>"
      ]
     },
     "metadata": {
      "needs_background": "light"
     },
     "output_type": "display_data"
    }
   ],
   "source": [
    "# recall-precision trade off\n",
    "fig, ax = plt.subplots(figsize=(9,5))\n",
    "ax.plot(recalls,precisions)\n",
    "ax.set_xlabel('recall')\n",
    "ax.set_ylabel('precision')\n",
    "ax.set_title('precision-recall trade off')\n"
   ]
  },
  {
   "cell_type": "code",
   "execution_count": 73,
   "id": "a737c712",
   "metadata": {},
   "outputs": [
    {
     "data": {
      "text/plain": [
       "<sklearn.metrics._plot.precision_recall_curve.PrecisionRecallDisplay at 0x20aef14fac0>"
      ]
     },
     "execution_count": 73,
     "metadata": {},
     "output_type": "execute_result"
    },
    {
     "data": {
      "image/png": "[encoded data removed]",
      "text/plain": [
       "<Figure size 432x288 with 1 Axes>"
      ]
     },
     "metadata": {
      "needs_background": "light"
     },
     "output_type": "display_data"
    }
   ],
   "source": [
    "# do same plot above but using scikit learn\n",
    "from sklearn.metrics import PrecisionRecallDisplay\n",
    "PrecisionRecallDisplay.from_estimator(logreg_clf,X_test,y_test)"
   ]
  },
  {
   "cell_type": "code",
   "execution_count": 79,
   "id": "8ec7d14d",
   "metadata": {},
   "outputs": [
    {
     "data": {
      "text/plain": [
       "0.6684161052149719"
      ]
     },
     "execution_count": 79,
     "metadata": {},
     "output_type": "execute_result"
    }
   ],
   "source": [
    "# AP refers to the \"average precision\" which is area under precision-recall curve, the close to 1 the better\n",
    "# to get number manually: \n",
    "from sklearn.metrics import average_precision_score\n",
    "average_precision_score(y_test,proba)"
   ]
  },
  {
   "cell_type": "code",
   "execution_count": 80,
   "id": "d8538e32",
   "metadata": {},
   "outputs": [],
   "source": [
    "# TPR (true positive rate) = TP / (TP + FN)\n",
    "# FPR (false positive rate) = FP / (TN + FP)\n",
    "# AUC (area under curve), perfect if =1, good to weak, decent from 0.9-0,8-0,7\n"
   ]
  },
  {
   "cell_type": "markdown",
   "id": "0cbd3c85",
   "metadata": {},
   "source": [
    "## ROC and AUC"
   ]
  },
  {
   "cell_type": "code",
   "execution_count": 82,
   "id": "e043b34e",
   "metadata": {},
   "outputs": [
    {
     "data": {
      "text/plain": [
       "<sklearn.metrics._plot.roc_curve.RocCurveDisplay at 0x20af048f790>"
      ]
     },
     "execution_count": 82,
     "metadata": {},
     "output_type": "execute_result"
    },
    {
     "data": {
      "image/png": "[encoded data removed]",
      "text/plain": [
       "<Figure size 432x288 with 1 Axes>"
      ]
     },
     "metadata": {
      "needs_background": "light"
     },
     "output_type": "display_data"
    }
   ],
   "source": [
    "from sklearn.metrics import RocCurveDisplay\n",
    "RocCurveDisplay.from_estimator(logreg_clf, X_test, y_test)"
   ]
  },
  {
   "cell_type": "code",
   "execution_count": 83,
   "id": "6660212e",
   "metadata": {},
   "outputs": [
    {
     "data": {
      "text/plain": [
       "0.8173134328358209"
      ]
     },
     "execution_count": 83,
     "metadata": {},
     "output_type": "execute_result"
    }
   ],
   "source": [
    "from sklearn.metrics import roc_auc_score\n",
    "roc_auc_score(y_test, proba)"
   ]
  },
  {
   "cell_type": "code",
   "execution_count": null,
   "id": "6cef280e",
   "metadata": {},
   "outputs": [],
   "source": []
  }
 ],
 "metadata": {
  "kernelspec": {
   "display_name": "Python 3 (ipykernel)",
   "language": "python",
   "name": "python3"
  },
  "language_info": {
   "codemirror_mode": {
    "name": "ipython",
    "version": 3
   },
   "file_extension": ".py",
   "mimetype": "text/x-python",
   "name": "python",
   "nbconvert_exporter": "python",
   "pygments_lexer": "ipython3",
   "version": "3.9.12"
  }
 },
 "nbformat": 4,
 "nbformat_minor": 5
}
