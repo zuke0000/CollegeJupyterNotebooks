{
 "cells": [
  {
   "cell_type": "code",
   "execution_count": 104,
   "metadata": {},
   "outputs": [],
   "source": [
    "import pandas as pd\n",
    "import matplotlib.pyplot as plt"
   ]
  },
  {
   "cell_type": "markdown",
   "metadata": {},
   "source": [
    "# Problem 1: Scooby Doo monsters"
   ]
  },
  {
   "cell_type": "markdown",
   "metadata": {},
   "source": [
    "The [Scooby-Doo](https://en.wikipedia.org/wiki/Scooby-Doo) cartoon series featured teenagers Fred Jones, Daphne Blake, Velma Dinkley, and Shaggy Rogers, and their talking Great Dane named Scooby-Doo, who solve mysteries involving supposedly supernatural creatures through a series of antics and missteps."
   ]
  },
  {
   "cell_type": "markdown",
   "metadata": {},
   "source": [
    "![Scooby-Doo](scoobydoo.png)"
   ]
  },
  {
   "cell_type": "code",
   "execution_count": 105,
   "metadata": {},
   "outputs": [
    {
     "data": {
      "text/html": [
       "<div>\n",
       "<style scoped>\n",
       "    .dataframe tbody tr th:only-of-type {\n",
       "        vertical-align: middle;\n",
       "    }\n",
       "\n",
       "    .dataframe tbody tr th {\n",
       "        vertical-align: top;\n",
       "    }\n",
       "\n",
       "    .dataframe thead th {\n",
       "        text-align: right;\n",
       "    }\n",
       "</style>\n",
       "<table border=\"1\" class=\"dataframe\">\n",
       "  <thead>\n",
       "    <tr style=\"text-align: right;\">\n",
       "      <th></th>\n",
       "      <th>series_name</th>\n",
       "      <th>network</th>\n",
       "      <th>season</th>\n",
       "      <th>title</th>\n",
       "      <th>imdb</th>\n",
       "      <th>engagement</th>\n",
       "      <th>date_aired</th>\n",
       "      <th>run_time</th>\n",
       "      <th>format</th>\n",
       "      <th>monster_name</th>\n",
       "      <th>...</th>\n",
       "      <th>batman</th>\n",
       "      <th>scooby_dum</th>\n",
       "      <th>scrappy_doo</th>\n",
       "      <th>hex_girls</th>\n",
       "      <th>blue_falcon</th>\n",
       "      <th>fred_va</th>\n",
       "      <th>daphnie_va</th>\n",
       "      <th>velma_va</th>\n",
       "      <th>shaggy_va</th>\n",
       "      <th>scooby_va</th>\n",
       "    </tr>\n",
       "  </thead>\n",
       "  <tbody>\n",
       "    <tr>\n",
       "      <th>0</th>\n",
       "      <td>Scooby Doo, Where Are You!</td>\n",
       "      <td>CBS</td>\n",
       "      <td>1</td>\n",
       "      <td>What a Night for a Knight</td>\n",
       "      <td>8.1</td>\n",
       "      <td>556.0</td>\n",
       "      <td>1969-09-13</td>\n",
       "      <td>21</td>\n",
       "      <td>TV Series</td>\n",
       "      <td>Black Knight</td>\n",
       "      <td>...</td>\n",
       "      <td>False</td>\n",
       "      <td>False</td>\n",
       "      <td>False</td>\n",
       "      <td>False</td>\n",
       "      <td>False</td>\n",
       "      <td>Frank Welker</td>\n",
       "      <td>Stefanianna Christopherson</td>\n",
       "      <td>Nicole Jaffe</td>\n",
       "      <td>Casey Kasem</td>\n",
       "      <td>Don Messick</td>\n",
       "    </tr>\n",
       "    <tr>\n",
       "      <th>1</th>\n",
       "      <td>Scooby Doo, Where Are You!</td>\n",
       "      <td>CBS</td>\n",
       "      <td>1</td>\n",
       "      <td>A Clue for Scooby Doo</td>\n",
       "      <td>8.1</td>\n",
       "      <td>479.0</td>\n",
       "      <td>1969-09-20</td>\n",
       "      <td>22</td>\n",
       "      <td>TV Series</td>\n",
       "      <td>Ghost of Cptn. Cuttler</td>\n",
       "      <td>...</td>\n",
       "      <td>False</td>\n",
       "      <td>False</td>\n",
       "      <td>False</td>\n",
       "      <td>False</td>\n",
       "      <td>False</td>\n",
       "      <td>Frank Welker</td>\n",
       "      <td>Stefanianna Christopherson</td>\n",
       "      <td>Nicole Jaffe</td>\n",
       "      <td>Casey Kasem</td>\n",
       "      <td>Don Messick</td>\n",
       "    </tr>\n",
       "    <tr>\n",
       "      <th>2</th>\n",
       "      <td>Scooby Doo, Where Are You!</td>\n",
       "      <td>CBS</td>\n",
       "      <td>1</td>\n",
       "      <td>Hassle in the Castle</td>\n",
       "      <td>8.0</td>\n",
       "      <td>455.0</td>\n",
       "      <td>1969-09-27</td>\n",
       "      <td>21</td>\n",
       "      <td>TV Series</td>\n",
       "      <td>Phantom</td>\n",
       "      <td>...</td>\n",
       "      <td>False</td>\n",
       "      <td>False</td>\n",
       "      <td>False</td>\n",
       "      <td>False</td>\n",
       "      <td>False</td>\n",
       "      <td>Frank Welker</td>\n",
       "      <td>Stefanianna Christopherson</td>\n",
       "      <td>Nicole Jaffe</td>\n",
       "      <td>Casey Kasem</td>\n",
       "      <td>Don Messick</td>\n",
       "    </tr>\n",
       "    <tr>\n",
       "      <th>3</th>\n",
       "      <td>Scooby Doo, Where Are You!</td>\n",
       "      <td>CBS</td>\n",
       "      <td>1</td>\n",
       "      <td>Mine Your Own Business</td>\n",
       "      <td>7.8</td>\n",
       "      <td>426.0</td>\n",
       "      <td>1969-10-04</td>\n",
       "      <td>21</td>\n",
       "      <td>TV Series</td>\n",
       "      <td>Miner 49'er</td>\n",
       "      <td>...</td>\n",
       "      <td>False</td>\n",
       "      <td>False</td>\n",
       "      <td>False</td>\n",
       "      <td>False</td>\n",
       "      <td>False</td>\n",
       "      <td>Frank Welker</td>\n",
       "      <td>Stefanianna Christopherson</td>\n",
       "      <td>Nicole Jaffe</td>\n",
       "      <td>Casey Kasem</td>\n",
       "      <td>Don Messick</td>\n",
       "    </tr>\n",
       "    <tr>\n",
       "      <th>4</th>\n",
       "      <td>Scooby Doo, Where Are You!</td>\n",
       "      <td>CBS</td>\n",
       "      <td>1</td>\n",
       "      <td>Decoy for a Dognapper</td>\n",
       "      <td>7.5</td>\n",
       "      <td>391.0</td>\n",
       "      <td>1969-10-11</td>\n",
       "      <td>21</td>\n",
       "      <td>TV Series</td>\n",
       "      <td>Indian Witch Doctor</td>\n",
       "      <td>...</td>\n",
       "      <td>False</td>\n",
       "      <td>False</td>\n",
       "      <td>False</td>\n",
       "      <td>False</td>\n",
       "      <td>False</td>\n",
       "      <td>Frank Welker</td>\n",
       "      <td>Stefanianna Christopherson</td>\n",
       "      <td>Nicole Jaffe</td>\n",
       "      <td>Casey Kasem</td>\n",
       "      <td>Don Messick</td>\n",
       "    </tr>\n",
       "  </tbody>\n",
       "</table>\n",
       "<p>5 rows × 74 columns</p>\n",
       "</div>"
      ],
      "text/plain": [
       "                  series_name network season                      title  imdb  \\\n",
       "0  Scooby Doo, Where Are You!     CBS      1  What a Night for a Knight   8.1   \n",
       "1  Scooby Doo, Where Are You!     CBS      1      A Clue for Scooby Doo   8.1   \n",
       "2  Scooby Doo, Where Are You!     CBS      1       Hassle in the Castle   8.0   \n",
       "3  Scooby Doo, Where Are You!     CBS      1     Mine Your Own Business   7.8   \n",
       "4  Scooby Doo, Where Are You!     CBS      1      Decoy for a Dognapper   7.5   \n",
       "\n",
       "   engagement  date_aired  run_time     format            monster_name  ...  \\\n",
       "0       556.0  1969-09-13        21  TV Series            Black Knight  ...   \n",
       "1       479.0  1969-09-20        22  TV Series  Ghost of Cptn. Cuttler  ...   \n",
       "2       455.0  1969-09-27        21  TV Series                 Phantom  ...   \n",
       "3       426.0  1969-10-04        21  TV Series             Miner 49'er  ...   \n",
       "4       391.0  1969-10-11        21  TV Series     Indian Witch Doctor  ...   \n",
       "\n",
       "  batman scooby_dum scrappy_doo hex_girls blue_falcon       fred_va  \\\n",
       "0  False      False       False     False       False  Frank Welker   \n",
       "1  False      False       False     False       False  Frank Welker   \n",
       "2  False      False       False     False       False  Frank Welker   \n",
       "3  False      False       False     False       False  Frank Welker   \n",
       "4  False      False       False     False       False  Frank Welker   \n",
       "\n",
       "                   daphnie_va      velma_va    shaggy_va    scooby_va  \n",
       "0  Stefanianna Christopherson  Nicole Jaffe  Casey Kasem  Don Messick  \n",
       "1  Stefanianna Christopherson  Nicole Jaffe  Casey Kasem  Don Messick  \n",
       "2  Stefanianna Christopherson  Nicole Jaffe  Casey Kasem  Don Messick  \n",
       "3  Stefanianna Christopherson  Nicole Jaffe  Casey Kasem  Don Messick  \n",
       "4  Stefanianna Christopherson  Nicole Jaffe  Casey Kasem  Don Messick  \n",
       "\n",
       "[5 rows x 74 columns]"
      ]
     },
     "execution_count": 105,
     "metadata": {},
     "output_type": "execute_result"
    }
   ],
   "source": [
    "# load data\n",
    "url = 'https://raw.githubusercontent.com/um-perez-alvaro/Data-Science-Practice/master/Data/scoobydoo.csv'\n",
    "data = pd.read_csv(url, parse_dates=True)\n",
    "data.head()"
   ]
  },
  {
   "cell_type": "markdown",
   "metadata": {},
   "source": [
    "The **goal** is to predict which Scooby Doo monsters are real and which are not (the `monster_real` column), **based on the year each episode was aired and the episode rating** (the imdb column)."
   ]
  },
  {
   "cell_type": "code",
   "execution_count": 106,
   "metadata": {},
   "outputs": [
    {
     "data": {
      "text/plain": [
       "fake    404\n",
       "real    112\n",
       "Name: monster_real, dtype: int64"
      ]
     },
     "execution_count": 106,
     "metadata": {},
     "output_type": "execute_result"
    }
   ],
   "source": [
    "data['monster_real'].value_counts()"
   ]
  },
  {
   "cell_type": "markdown",
   "metadata": {},
   "source": [
    "**Part 1:** Add a `year` column with the year each episode was aired."
   ]
  },
  {
   "cell_type": "code",
   "execution_count": 107,
   "metadata": {},
   "outputs": [],
   "source": [
    "data['year'] = pd.to_datetime(data.date_aired).dt.year"
   ]
  },
  {
   "cell_type": "markdown",
   "metadata": {},
   "source": [
    "**Part 2:** Drop the rows that have a missing `monster_real`, `year` or `imdb` values."
   ]
  },
  {
   "cell_type": "code",
   "execution_count": 111,
   "metadata": {},
   "outputs": [],
   "source": [
    "# your code here\n",
    "#data.loc[(data.monster_real.isnull()) | (data.year.isnull()) | (data.imdb.isnull())]\n",
    "#data = data.drop()\n",
    "data.dropna(subset=['monster_real', 'year', 'imdb'], inplace=True, axis=0)"
   ]
  },
  {
   "cell_type": "code",
   "execution_count": 112,
   "metadata": {},
   "outputs": [
    {
     "data": {
      "text/html": [
       "<div>\n",
       "<style scoped>\n",
       "    .dataframe tbody tr th:only-of-type {\n",
       "        vertical-align: middle;\n",
       "    }\n",
       "\n",
       "    .dataframe tbody tr th {\n",
       "        vertical-align: top;\n",
       "    }\n",
       "\n",
       "    .dataframe thead th {\n",
       "        text-align: right;\n",
       "    }\n",
       "</style>\n",
       "<table border=\"1\" class=\"dataframe\">\n",
       "  <thead>\n",
       "    <tr style=\"text-align: right;\">\n",
       "      <th></th>\n",
       "      <th>series_name</th>\n",
       "      <th>network</th>\n",
       "      <th>season</th>\n",
       "      <th>title</th>\n",
       "      <th>imdb</th>\n",
       "      <th>engagement</th>\n",
       "      <th>date_aired</th>\n",
       "      <th>run_time</th>\n",
       "      <th>format</th>\n",
       "      <th>monster_name</th>\n",
       "      <th>...</th>\n",
       "      <th>scooby_dum</th>\n",
       "      <th>scrappy_doo</th>\n",
       "      <th>hex_girls</th>\n",
       "      <th>blue_falcon</th>\n",
       "      <th>fred_va</th>\n",
       "      <th>daphnie_va</th>\n",
       "      <th>velma_va</th>\n",
       "      <th>shaggy_va</th>\n",
       "      <th>scooby_va</th>\n",
       "      <th>year</th>\n",
       "    </tr>\n",
       "  </thead>\n",
       "  <tbody>\n",
       "    <tr>\n",
       "      <th>0</th>\n",
       "      <td>Scooby Doo, Where Are You!</td>\n",
       "      <td>CBS</td>\n",
       "      <td>1</td>\n",
       "      <td>What a Night for a Knight</td>\n",
       "      <td>8.1</td>\n",
       "      <td>556.0</td>\n",
       "      <td>1969-09-13</td>\n",
       "      <td>21</td>\n",
       "      <td>TV Series</td>\n",
       "      <td>Black Knight</td>\n",
       "      <td>...</td>\n",
       "      <td>False</td>\n",
       "      <td>False</td>\n",
       "      <td>False</td>\n",
       "      <td>False</td>\n",
       "      <td>Frank Welker</td>\n",
       "      <td>Stefanianna Christopherson</td>\n",
       "      <td>Nicole Jaffe</td>\n",
       "      <td>Casey Kasem</td>\n",
       "      <td>Don Messick</td>\n",
       "      <td>1969</td>\n",
       "    </tr>\n",
       "    <tr>\n",
       "      <th>1</th>\n",
       "      <td>Scooby Doo, Where Are You!</td>\n",
       "      <td>CBS</td>\n",
       "      <td>1</td>\n",
       "      <td>A Clue for Scooby Doo</td>\n",
       "      <td>8.1</td>\n",
       "      <td>479.0</td>\n",
       "      <td>1969-09-20</td>\n",
       "      <td>22</td>\n",
       "      <td>TV Series</td>\n",
       "      <td>Ghost of Cptn. Cuttler</td>\n",
       "      <td>...</td>\n",
       "      <td>False</td>\n",
       "      <td>False</td>\n",
       "      <td>False</td>\n",
       "      <td>False</td>\n",
       "      <td>Frank Welker</td>\n",
       "      <td>Stefanianna Christopherson</td>\n",
       "      <td>Nicole Jaffe</td>\n",
       "      <td>Casey Kasem</td>\n",
       "      <td>Don Messick</td>\n",
       "      <td>1969</td>\n",
       "    </tr>\n",
       "    <tr>\n",
       "      <th>2</th>\n",
       "      <td>Scooby Doo, Where Are You!</td>\n",
       "      <td>CBS</td>\n",
       "      <td>1</td>\n",
       "      <td>Hassle in the Castle</td>\n",
       "      <td>8.0</td>\n",
       "      <td>455.0</td>\n",
       "      <td>1969-09-27</td>\n",
       "      <td>21</td>\n",
       "      <td>TV Series</td>\n",
       "      <td>Phantom</td>\n",
       "      <td>...</td>\n",
       "      <td>False</td>\n",
       "      <td>False</td>\n",
       "      <td>False</td>\n",
       "      <td>False</td>\n",
       "      <td>Frank Welker</td>\n",
       "      <td>Stefanianna Christopherson</td>\n",
       "      <td>Nicole Jaffe</td>\n",
       "      <td>Casey Kasem</td>\n",
       "      <td>Don Messick</td>\n",
       "      <td>1969</td>\n",
       "    </tr>\n",
       "    <tr>\n",
       "      <th>3</th>\n",
       "      <td>Scooby Doo, Where Are You!</td>\n",
       "      <td>CBS</td>\n",
       "      <td>1</td>\n",
       "      <td>Mine Your Own Business</td>\n",
       "      <td>7.8</td>\n",
       "      <td>426.0</td>\n",
       "      <td>1969-10-04</td>\n",
       "      <td>21</td>\n",
       "      <td>TV Series</td>\n",
       "      <td>Miner 49'er</td>\n",
       "      <td>...</td>\n",
       "      <td>False</td>\n",
       "      <td>False</td>\n",
       "      <td>False</td>\n",
       "      <td>False</td>\n",
       "      <td>Frank Welker</td>\n",
       "      <td>Stefanianna Christopherson</td>\n",
       "      <td>Nicole Jaffe</td>\n",
       "      <td>Casey Kasem</td>\n",
       "      <td>Don Messick</td>\n",
       "      <td>1969</td>\n",
       "    </tr>\n",
       "    <tr>\n",
       "      <th>4</th>\n",
       "      <td>Scooby Doo, Where Are You!</td>\n",
       "      <td>CBS</td>\n",
       "      <td>1</td>\n",
       "      <td>Decoy for a Dognapper</td>\n",
       "      <td>7.5</td>\n",
       "      <td>391.0</td>\n",
       "      <td>1969-10-11</td>\n",
       "      <td>21</td>\n",
       "      <td>TV Series</td>\n",
       "      <td>Indian Witch Doctor</td>\n",
       "      <td>...</td>\n",
       "      <td>False</td>\n",
       "      <td>False</td>\n",
       "      <td>False</td>\n",
       "      <td>False</td>\n",
       "      <td>Frank Welker</td>\n",
       "      <td>Stefanianna Christopherson</td>\n",
       "      <td>Nicole Jaffe</td>\n",
       "      <td>Casey Kasem</td>\n",
       "      <td>Don Messick</td>\n",
       "      <td>1969</td>\n",
       "    </tr>\n",
       "  </tbody>\n",
       "</table>\n",
       "<p>5 rows × 75 columns</p>\n",
       "</div>"
      ],
      "text/plain": [
       "                  series_name network season                      title  imdb  \\\n",
       "0  Scooby Doo, Where Are You!     CBS      1  What a Night for a Knight   8.1   \n",
       "1  Scooby Doo, Where Are You!     CBS      1      A Clue for Scooby Doo   8.1   \n",
       "2  Scooby Doo, Where Are You!     CBS      1       Hassle in the Castle   8.0   \n",
       "3  Scooby Doo, Where Are You!     CBS      1     Mine Your Own Business   7.8   \n",
       "4  Scooby Doo, Where Are You!     CBS      1      Decoy for a Dognapper   7.5   \n",
       "\n",
       "   engagement  date_aired  run_time     format            monster_name  ...  \\\n",
       "0       556.0  1969-09-13        21  TV Series            Black Knight  ...   \n",
       "1       479.0  1969-09-20        22  TV Series  Ghost of Cptn. Cuttler  ...   \n",
       "2       455.0  1969-09-27        21  TV Series                 Phantom  ...   \n",
       "3       426.0  1969-10-04        21  TV Series             Miner 49'er  ...   \n",
       "4       391.0  1969-10-11        21  TV Series     Indian Witch Doctor  ...   \n",
       "\n",
       "  scooby_dum scrappy_doo hex_girls blue_falcon       fred_va  \\\n",
       "0      False       False     False       False  Frank Welker   \n",
       "1      False       False     False       False  Frank Welker   \n",
       "2      False       False     False       False  Frank Welker   \n",
       "3      False       False     False       False  Frank Welker   \n",
       "4      False       False     False       False  Frank Welker   \n",
       "\n",
       "                   daphnie_va      velma_va    shaggy_va    scooby_va  year  \n",
       "0  Stefanianna Christopherson  Nicole Jaffe  Casey Kasem  Don Messick  1969  \n",
       "1  Stefanianna Christopherson  Nicole Jaffe  Casey Kasem  Don Messick  1969  \n",
       "2  Stefanianna Christopherson  Nicole Jaffe  Casey Kasem  Don Messick  1969  \n",
       "3  Stefanianna Christopherson  Nicole Jaffe  Casey Kasem  Don Messick  1969  \n",
       "4  Stefanianna Christopherson  Nicole Jaffe  Casey Kasem  Don Messick  1969  \n",
       "\n",
       "[5 rows x 75 columns]"
      ]
     },
     "execution_count": 112,
     "metadata": {},
     "output_type": "execute_result"
    }
   ],
   "source": [
    "data.head()"
   ]
  },
  {
   "cell_type": "markdown",
   "metadata": {},
   "source": [
    "**Part 3:** Define the feature matrix X (`year` and `imdb` columns) and the target vector y (`monster_real` column) from the dataframe"
   ]
  },
  {
   "cell_type": "code",
   "execution_count": null,
   "metadata": {},
   "outputs": [],
   "source": []
  },
  {
   "cell_type": "code",
   "execution_count": 131,
   "metadata": {},
   "outputs": [
    {
     "name": "stdout",
     "output_type": "stream",
     "text": [
      "501\n",
      "501\n"
     ]
    }
   ],
   "source": [
    "# your code here\n",
    "X = data[['year', 'imdb']]\n",
    "y = data.monster_real\n",
    "print(len(X))\n",
    "print(len(y))"
   ]
  },
  {
   "cell_type": "markdown",
   "metadata": {},
   "source": [
    "**Part 4:** Plot the data points (i.e., plot `year` values against `imdb` values). Color each point in the scatter plot according to whether the monster is real or fake."
   ]
  },
  {
   "cell_type": "code",
   "execution_count": 139,
   "metadata": {},
   "outputs": [
    {
     "data": {
      "text/plain": [
       "<AxesSubplot:xlabel='year', ylabel='imdb'>"
      ]
     },
     "execution_count": 139,
     "metadata": {},
     "output_type": "execute_result"
    },
    {
     "data": {
      "image/png": "[encoded data removed]",
      "text/plain": [
       "<Figure size 432x288 with 1 Axes>"
      ]
     },
     "metadata": {
      "needs_background": "light"
     },
     "output_type": "display_data"
    }
   ],
   "source": [
    "# your code here\n",
    "\n",
    "colors = {'real':'red', 'fake':'blue'}\n",
    "X.plot.scatter(x='year', y='imdb', c=y.map(colors))"
   ]
  },
  {
   "cell_type": "markdown",
   "metadata": {},
   "source": [
    "**Part 5:** Train a classification tree (with `max_depth=5`) on the data. "
   ]
  },
  {
   "cell_type": "code",
   "execution_count": 141,
   "metadata": {},
   "outputs": [
    {
     "data": {
      "text/html": [
       "<style>#sk-container-id-2 {color: black;background-color: white;}#sk-container-id-2 pre{padding: 0;}#sk-container-id-2 div.sk-toggleable {background-color: white;}#sk-container-id-2 label.sk-toggleable__label {cursor: pointer;display: block;width: 100%;margin-bottom: 0;padding: 0.3em;box-sizing: border-box;text-align: center;}#sk-container-id-2 label.sk-toggleable__label-arrow:before {content: \"▸\";float: left;margin-right: 0.25em;color: #696969;}#sk-container-id-2 label.sk-toggleable__label-arrow:hover:before {color: black;}#sk-container-id-2 div.sk-estimator:hover label.sk-toggleable__label-arrow:before {color: black;}#sk-container-id-2 div.sk-toggleable__content {max-height: 0;max-width: 0;overflow: hidden;text-align: left;background-color: #f0f8ff;}#sk-container-id-2 div.sk-toggleable__content pre {margin: 0.2em;color: black;border-radius: 0.25em;background-color: #f0f8ff;}#sk-container-id-2 input.sk-toggleable__control:checked~div.sk-toggleable__content {max-height: 200px;max-width: 100%;overflow: auto;}#sk-container-id-2 input.sk-toggleable__control:checked~label.sk-toggleable__label-arrow:before {content: \"▾\";}#sk-container-id-2 div.sk-estimator input.sk-toggleable__control:checked~label.sk-toggleable__label {background-color: #d4ebff;}#sk-container-id-2 div.sk-label input.sk-toggleable__control:checked~label.sk-toggleable__label {background-color: #d4ebff;}#sk-container-id-2 input.sk-hidden--visually {border: 0;clip: rect(1px 1px 1px 1px);clip: rect(1px, 1px, 1px, 1px);height: 1px;margin: -1px;overflow: hidden;padding: 0;position: absolute;width: 1px;}#sk-container-id-2 div.sk-estimator {font-family: monospace;background-color: #f0f8ff;border: 1px dotted black;border-radius: 0.25em;box-sizing: border-box;margin-bottom: 0.5em;}#sk-container-id-2 div.sk-estimator:hover {background-color: #d4ebff;}#sk-container-id-2 div.sk-parallel-item::after {content: \"\";width: 100%;border-bottom: 1px solid gray;flex-grow: 1;}#sk-container-id-2 div.sk-label:hover label.sk-toggleable__label {background-color: #d4ebff;}#sk-container-id-2 div.sk-serial::before {content: \"\";position: absolute;border-left: 1px solid gray;box-sizing: border-box;top: 0;bottom: 0;left: 50%;z-index: 0;}#sk-container-id-2 div.sk-serial {display: flex;flex-direction: column;align-items: center;background-color: white;padding-right: 0.2em;padding-left: 0.2em;position: relative;}#sk-container-id-2 div.sk-item {position: relative;z-index: 1;}#sk-container-id-2 div.sk-parallel {display: flex;align-items: stretch;justify-content: center;background-color: white;position: relative;}#sk-container-id-2 div.sk-item::before, #sk-container-id-2 div.sk-parallel-item::before {content: \"\";position: absolute;border-left: 1px solid gray;box-sizing: border-box;top: 0;bottom: 0;left: 50%;z-index: -1;}#sk-container-id-2 div.sk-parallel-item {display: flex;flex-direction: column;z-index: 1;position: relative;background-color: white;}#sk-container-id-2 div.sk-parallel-item:first-child::after {align-self: flex-end;width: 50%;}#sk-container-id-2 div.sk-parallel-item:last-child::after {align-self: flex-start;width: 50%;}#sk-container-id-2 div.sk-parallel-item:only-child::after {width: 0;}#sk-container-id-2 div.sk-dashed-wrapped {border: 1px dashed gray;margin: 0 0.4em 0.5em 0.4em;box-sizing: border-box;padding-bottom: 0.4em;background-color: white;}#sk-container-id-2 div.sk-label label {font-family: monospace;font-weight: bold;display: inline-block;line-height: 1.2em;}#sk-container-id-2 div.sk-label-container {text-align: center;}#sk-container-id-2 div.sk-container {/* jupyter's `normalize.less` sets `[hidden] { display: none; }` but bootstrap.min.css set `[hidden] { display: none !important; }` so we also need the `!important` here to be able to override the default hidden behavior on the sphinx rendered scikit-learn.org. See: https://github.com/scikit-learn/scikit-learn/issues/21755 */display: inline-block !important;position: relative;}#sk-container-id-2 div.sk-text-repr-fallback {display: none;}</style><div id=\"sk-container-id-2\" class=\"sk-top-container\"><div class=\"sk-text-repr-fallback\"><pre>DecisionTreeClassifier(max_depth=5)</pre><b>In a Jupyter environment, please rerun this cell to show the HTML representation or trust the notebook. <br />On GitHub, the HTML representation is unable to render, please try loading this page with nbviewer.org.</b></div><div class=\"sk-container\" hidden><div class=\"sk-item\"><div class=\"sk-estimator sk-toggleable\"><input class=\"sk-toggleable__control sk-hidden--visually\" id=\"sk-estimator-id-2\" type=\"checkbox\" checked><label for=\"sk-estimator-id-2\" class=\"sk-toggleable__label sk-toggleable__label-arrow\">DecisionTreeClassifier</label><div class=\"sk-toggleable__content\"><pre>DecisionTreeClassifier(max_depth=5)</pre></div></div></div></div></div>"
      ],
      "text/plain": [
       "DecisionTreeClassifier(max_depth=5)"
      ]
     },
     "execution_count": 141,
     "metadata": {},
     "output_type": "execute_result"
    }
   ],
   "source": [
    "# your code here\n",
    "import matplotlib.pyplot as plt\n",
    "from sklearn.datasets import make_circles\n",
    "from sklearn.ensemble import RandomForestClassifier\n",
    "from sklearn.tree import DecisionTreeClassifier\n",
    "\n",
    "tree_clf = DecisionTreeClassifier(max_depth=5)\n",
    "tree_clf.fit(X,y)"
   ]
  },
  {
   "cell_type": "markdown",
   "metadata": {},
   "source": [
    "**Part 6**: Use your classification tree to predict the y vector, and compute the confusion matrix."
   ]
  },
  {
   "cell_type": "code",
   "execution_count": 143,
   "metadata": {},
   "outputs": [
    {
     "data": {
      "text/plain": [
       "array([[384,   5],\n",
       "       [ 28,  84]], dtype=int64)"
      ]
     },
     "execution_count": 143,
     "metadata": {},
     "output_type": "execute_result"
    }
   ],
   "source": [
    "# your code here\n",
    "from sklearn.metrics import confusion_matrix\n",
    "y_pred = tree_clf.predict(X)\n",
    "\n",
    "\n",
    "confusion_matrix(y, y_pred)"
   ]
  },
  {
   "cell_type": "code",
   "execution_count": null,
   "metadata": {},
   "outputs": [],
   "source": []
  },
  {
   "cell_type": "markdown",
   "metadata": {},
   "source": [
    "**Part 7:** Use the [`draw_lassification_regions function`](https://github.com/um-perez-alvaro/Data-Science-Practice/blob/master/Jupyter%20Notebooks/Classification/notebooks/functions.py) the classification tree results"
   ]
  },
  {
   "cell_type": "code",
   "execution_count": null,
   "metadata": {},
   "outputs": [],
   "source": [
    "# draw_classification_regions function\n",
    "# NOTE: the draw_classification function is at the very bottom since it is so big"
   ]
  },
  {
   "cell_type": "code",
   "execution_count": 145,
   "metadata": {
    "scrolled": true
   },
   "outputs": [
    {
     "name": "stderr",
     "output_type": "stream",
     "text": [
      "C:\\Users\\Derrick\\anaconda3\\lib\\site-packages\\sklearn\\base.py:450: UserWarning: X does not have valid feature names, but DecisionTreeClassifier was fitted with feature names\n",
      "  warnings.warn(\n"
     ]
    },
    {
     "data": {
      "image/png": "[encoded data removed]",
      "text/plain": [
       "<Figure size 720x360 with 1 Axes>"
      ]
     },
     "metadata": {
      "needs_background": "light"
     },
     "output_type": "display_data"
    }
   ],
   "source": [
    "# your code here\n",
    "draw_classification_regions(X,y,tree_clf)"
   ]
  },
  {
   "cell_type": "markdown",
   "metadata": {},
   "source": [
    "**Part 8:** Repeat parts 5--7 with `max_depth=20`."
   ]
  },
  {
   "cell_type": "code",
   "execution_count": 147,
   "metadata": {
    "scrolled": true
   },
   "outputs": [
    {
     "name": "stderr",
     "output_type": "stream",
     "text": [
      "C:\\Users\\Derrick\\anaconda3\\lib\\site-packages\\sklearn\\base.py:450: UserWarning: X does not have valid feature names, but DecisionTreeClassifier was fitted with feature names\n",
      "  warnings.warn(\n"
     ]
    },
    {
     "data": {
      "image/png": "[encoded data removed]",
      "text/plain": [
       "<Figure size 720x360 with 1 Axes>"
      ]
     },
     "metadata": {
      "needs_background": "light"
     },
     "output_type": "display_data"
    }
   ],
   "source": [
    "# your code here\n",
    "tree_clf = DecisionTreeClassifier(max_depth=20)\n",
    "tree_clf.fit(X,y)\n",
    "\n",
    "y_pred = tree_clf.predict(X)\n",
    "\n",
    "confusion_matrix(y, y_pred)\n",
    "draw_classification_regions(X,y,tree_clf)"
   ]
  },
  {
   "cell_type": "code",
   "execution_count": 148,
   "metadata": {},
   "outputs": [
    {
     "data": {
      "text/plain": [
       "array([[382,   7],\n",
       "       [ 10, 102]], dtype=int64)"
      ]
     },
     "execution_count": 148,
     "metadata": {},
     "output_type": "execute_result"
    }
   ],
   "source": [
    "confusion_matrix(y, y_pred)"
   ]
  },
  {
   "cell_type": "code",
   "execution_count": null,
   "metadata": {},
   "outputs": [],
   "source": []
  },
  {
   "cell_type": "code",
   "execution_count": 144,
   "metadata": {},
   "outputs": [],
   "source": [
    "import matplotlib.pyplot as plt\n",
    "import numpy as np\n",
    "def draw_classification_regions(X,y,model):\n",
    "    \n",
    "    # classes \n",
    "    classes = model.classes_\n",
    "    # feature names\n",
    "    try:\n",
    "        feature_names = X.columns\n",
    "    except:\n",
    "        feature_names = ['feature #1','feature #2']\n",
    "    \n",
    "    # put data into numpy arrays\n",
    "    try:\n",
    "        X = np.array(X)\n",
    "        y = np.array(y).flatten()\n",
    "    except:\n",
    "        print('something went wrong')\n",
    "    \n",
    "    from matplotlib.colors import ListedColormap\n",
    "    # create a mesh grid\n",
    "    h = .01\n",
    "    x_min, x_max = X[:, 0].min() - .1, X[:, 0].max() + .1\n",
    "    y_min, y_max = X[:, 1].min() - .1, X[:, 1].max() + .1\n",
    "    xx, yy = np.meshgrid(np.arange(x_min, x_max, h),\n",
    "                         np.arange(y_min, y_max, h))\n",
    "\n",
    "    # evaluate classifier at all mesh grid points\n",
    "    Z = model.predict(np.c_[xx.ravel(), yy.ravel()])\n",
    "    Z = Z.reshape(xx.shape)\n",
    "    \n",
    "    # number of classes\n",
    "    n_classes = len(np.unique(y))\n",
    "    \n",
    "    # map classes to 0,1,2\n",
    "    for i in range(n_classes):\n",
    "        Z[Z==classes[i]]=i\n",
    "\n",
    "    # Put the result into a color plot\n",
    "    fig, ax = plt.subplots(figsize=(10,5))\n",
    "    colors = ['C0','C1','C2']\n",
    "    if n_classes==3:\n",
    "        custom_cmap = ListedColormap(['#9898ff','#fafab0','#a0faa0'])\n",
    "    else:\n",
    "        custom_cmap = ListedColormap(['#9898ff','#fafab0'])\n",
    "        \n",
    "    ax.contourf(xx, yy, Z, cmap=custom_cmap)\n",
    "\n",
    "    # plot dataset\n",
    "    for i in range(n_classes):\n",
    "        ax.scatter(X[y==classes[i],0], X[y==classes[i],1], c = colors[i], label=classes[i], s=75, alpha=0.8)\n",
    "\n",
    "    ax.set_xlabel(feature_names[0], fontsize=15)\n",
    "    ax.set_ylabel(feature_names[1], fontsize=15)\n",
    "\n",
    "    ax.legend()"
   ]
  },
  {
   "cell_type": "code",
   "execution_count": null,
   "metadata": {},
   "outputs": [],
   "source": []
  }
 ],
 "metadata": {
  "kernelspec": {
   "display_name": "Python 3",
   "language": "python",
   "name": "python3"
  },
  "language_info": {
   "codemirror_mode": {
    "name": "ipython",
    "version": 3
   },
   "file_extension": ".py",
   "mimetype": "text/x-python",
   "name": "python",
   "nbconvert_exporter": "python",
   "pygments_lexer": "ipython3",
   "version": "3.9.7"
  },
  "vscode": {
   "interpreter": {
    "hash": "a650661774e61d96f9874435bacb8f5ef3ad5b85bb136188ae4a3eec08f04531"
   }
  }
 },
 "nbformat": 4,
 "nbformat_minor": 4
}
