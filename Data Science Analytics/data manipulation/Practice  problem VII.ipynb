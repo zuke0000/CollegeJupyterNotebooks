{
 "cells": [
  {
   "cell_type": "code",
   "execution_count": 2,
   "metadata": {},
   "outputs": [],
   "source": [
    "import pandas as pd"
   ]
  },
  {
   "cell_type": "markdown",
   "metadata": {},
   "source": [
    "# Practice problem VII"
   ]
  },
  {
   "cell_type": "code",
   "execution_count": 3,
   "metadata": {},
   "outputs": [
    {
     "data": {
      "text/html": [
       "<div>\n",
       "<style scoped>\n",
       "    .dataframe tbody tr th:only-of-type {\n",
       "        vertical-align: middle;\n",
       "    }\n",
       "\n",
       "    .dataframe tbody tr th {\n",
       "        vertical-align: top;\n",
       "    }\n",
       "\n",
       "    .dataframe thead th {\n",
       "        text-align: right;\n",
       "    }\n",
       "</style>\n",
       "<table border=\"1\" class=\"dataframe\">\n",
       "  <thead>\n",
       "    <tr style=\"text-align: right;\">\n",
       "      <th></th>\n",
       "      <th>age</th>\n",
       "      <th>gender</th>\n",
       "      <th>occupation</th>\n",
       "      <th>zip_code</th>\n",
       "    </tr>\n",
       "    <tr>\n",
       "      <th>user_id</th>\n",
       "      <th></th>\n",
       "      <th></th>\n",
       "      <th></th>\n",
       "      <th></th>\n",
       "    </tr>\n",
       "  </thead>\n",
       "  <tbody>\n",
       "    <tr>\n",
       "      <th>1</th>\n",
       "      <td>24</td>\n",
       "      <td>M</td>\n",
       "      <td>technician</td>\n",
       "      <td>85711</td>\n",
       "    </tr>\n",
       "    <tr>\n",
       "      <th>2</th>\n",
       "      <td>53</td>\n",
       "      <td>F</td>\n",
       "      <td>other</td>\n",
       "      <td>94043</td>\n",
       "    </tr>\n",
       "    <tr>\n",
       "      <th>3</th>\n",
       "      <td>23</td>\n",
       "      <td>M</td>\n",
       "      <td>writer</td>\n",
       "      <td>32067</td>\n",
       "    </tr>\n",
       "    <tr>\n",
       "      <th>4</th>\n",
       "      <td>24</td>\n",
       "      <td>M</td>\n",
       "      <td>technician</td>\n",
       "      <td>43537</td>\n",
       "    </tr>\n",
       "    <tr>\n",
       "      <th>5</th>\n",
       "      <td>33</td>\n",
       "      <td>F</td>\n",
       "      <td>other</td>\n",
       "      <td>15213</td>\n",
       "    </tr>\n",
       "  </tbody>\n",
       "</table>\n",
       "</div>"
      ],
      "text/plain": [
       "         age gender  occupation zip_code\n",
       "user_id                                 \n",
       "1         24      M  technician    85711\n",
       "2         53      F       other    94043\n",
       "3         23      M      writer    32067\n",
       "4         24      M  technician    43537\n",
       "5         33      F       other    15213"
      ]
     },
     "execution_count": 3,
     "metadata": {},
     "output_type": "execute_result"
    }
   ],
   "source": [
    "# load the occupation dataset\n",
    "url = 'https://raw.githubusercontent.com/um-perez-alvaro/Data-Science-Practice/master/Data/users.csv'\n",
    "users = pd.read_csv(url, index_col='user_id')\n",
    "users.head()"
   ]
  },
  {
   "cell_type": "markdown",
   "metadata": {},
   "source": [
    "What is the mean age per occupation?"
   ]
  },
  {
   "cell_type": "code",
   "execution_count": 11,
   "metadata": {},
   "outputs": [
    {
     "data": {
      "text/plain": [
       "occupation\n",
       "administrator    38.746835\n",
       "artist           31.392857\n",
       "doctor           43.571429\n",
       "educator         42.010526\n",
       "engineer         36.388060\n",
       "entertainment    29.222222\n",
       "executive        38.718750\n",
       "healthcare       41.562500\n",
       "homemaker        32.571429\n",
       "lawyer           36.750000\n",
       "librarian        40.000000\n",
       "marketing        37.615385\n",
       "none             26.555556\n",
       "other            34.523810\n",
       "programmer       33.121212\n",
       "retired          63.071429\n",
       "salesman         35.666667\n",
       "scientist        35.548387\n",
       "student          22.081633\n",
       "technician       33.148148\n",
       "writer           36.311111\n",
       "Name: age, dtype: float64"
      ]
     },
     "execution_count": 11,
     "metadata": {},
     "output_type": "execute_result"
    }
   ],
   "source": [
    "users.groupby('occupation').age.mean()"
   ]
  },
  {
   "cell_type": "markdown",
   "metadata": {},
   "source": [
    "Calculate the number of male and female users per occupation."
   ]
  },
  {
   "cell_type": "code",
   "execution_count": 17,
   "metadata": {},
   "outputs": [
    {
     "data": {
      "text/plain": [
       "occupation     gender\n",
       "administrator  M          43\n",
       "               F          36\n",
       "artist         M          15\n",
       "               F          13\n",
       "doctor         M           7\n",
       "educator       M          69\n",
       "               F          26\n",
       "engineer       M          65\n",
       "               F           2\n",
       "entertainment  M          16\n",
       "               F           2\n",
       "executive      M          29\n",
       "               F           3\n",
       "healthcare     F          11\n",
       "               M           5\n",
       "homemaker      F           6\n",
       "               M           1\n",
       "lawyer         M          10\n",
       "               F           2\n",
       "librarian      F          29\n",
       "               M          22\n",
       "marketing      M          16\n",
       "               F          10\n",
       "none           M           5\n",
       "               F           4\n",
       "other          M          69\n",
       "               F          36\n",
       "programmer     M          60\n",
       "               F           6\n",
       "retired        M          13\n",
       "               F           1\n",
       "salesman       M           9\n",
       "               F           3\n",
       "scientist      M          28\n",
       "               F           3\n",
       "student        M         136\n",
       "               F          60\n",
       "technician     M          26\n",
       "               F           1\n",
       "writer         M          26\n",
       "               F          19\n",
       "Name: gender, dtype: int64"
      ]
     },
     "execution_count": 17,
     "metadata": {},
     "output_type": "execute_result"
    }
   ],
   "source": [
    "users.groupby('occupation').gender.value_counts()"
   ]
  },
  {
   "cell_type": "markdown",
   "metadata": {},
   "source": [
    "For each occupation, calculate the minimum and maximum ages.\n",
    "\n",
    "Hint: use pandas `agg()` method."
   ]
  },
  {
   "cell_type": "code",
   "execution_count": 25,
   "metadata": {},
   "outputs": [
    {
     "data": {
      "text/html": [
       "<div>\n",
       "<style scoped>\n",
       "    .dataframe tbody tr th:only-of-type {\n",
       "        vertical-align: middle;\n",
       "    }\n",
       "\n",
       "    .dataframe tbody tr th {\n",
       "        vertical-align: top;\n",
       "    }\n",
       "\n",
       "    .dataframe thead th {\n",
       "        text-align: right;\n",
       "    }\n",
       "</style>\n",
       "<table border=\"1\" class=\"dataframe\">\n",
       "  <thead>\n",
       "    <tr style=\"text-align: right;\">\n",
       "      <th></th>\n",
       "      <th>min</th>\n",
       "      <th>max</th>\n",
       "    </tr>\n",
       "    <tr>\n",
       "      <th>occupation</th>\n",
       "      <th></th>\n",
       "      <th></th>\n",
       "    </tr>\n",
       "  </thead>\n",
       "  <tbody>\n",
       "    <tr>\n",
       "      <th>administrator</th>\n",
       "      <td>21</td>\n",
       "      <td>70</td>\n",
       "    </tr>\n",
       "    <tr>\n",
       "      <th>artist</th>\n",
       "      <td>19</td>\n",
       "      <td>48</td>\n",
       "    </tr>\n",
       "    <tr>\n",
       "      <th>doctor</th>\n",
       "      <td>28</td>\n",
       "      <td>64</td>\n",
       "    </tr>\n",
       "    <tr>\n",
       "      <th>educator</th>\n",
       "      <td>23</td>\n",
       "      <td>63</td>\n",
       "    </tr>\n",
       "    <tr>\n",
       "      <th>engineer</th>\n",
       "      <td>22</td>\n",
       "      <td>70</td>\n",
       "    </tr>\n",
       "    <tr>\n",
       "      <th>entertainment</th>\n",
       "      <td>15</td>\n",
       "      <td>50</td>\n",
       "    </tr>\n",
       "    <tr>\n",
       "      <th>executive</th>\n",
       "      <td>22</td>\n",
       "      <td>69</td>\n",
       "    </tr>\n",
       "    <tr>\n",
       "      <th>healthcare</th>\n",
       "      <td>22</td>\n",
       "      <td>62</td>\n",
       "    </tr>\n",
       "    <tr>\n",
       "      <th>homemaker</th>\n",
       "      <td>20</td>\n",
       "      <td>50</td>\n",
       "    </tr>\n",
       "    <tr>\n",
       "      <th>lawyer</th>\n",
       "      <td>21</td>\n",
       "      <td>53</td>\n",
       "    </tr>\n",
       "    <tr>\n",
       "      <th>librarian</th>\n",
       "      <td>23</td>\n",
       "      <td>69</td>\n",
       "    </tr>\n",
       "    <tr>\n",
       "      <th>marketing</th>\n",
       "      <td>24</td>\n",
       "      <td>55</td>\n",
       "    </tr>\n",
       "    <tr>\n",
       "      <th>none</th>\n",
       "      <td>11</td>\n",
       "      <td>55</td>\n",
       "    </tr>\n",
       "    <tr>\n",
       "      <th>other</th>\n",
       "      <td>13</td>\n",
       "      <td>64</td>\n",
       "    </tr>\n",
       "    <tr>\n",
       "      <th>programmer</th>\n",
       "      <td>20</td>\n",
       "      <td>63</td>\n",
       "    </tr>\n",
       "    <tr>\n",
       "      <th>retired</th>\n",
       "      <td>51</td>\n",
       "      <td>73</td>\n",
       "    </tr>\n",
       "    <tr>\n",
       "      <th>salesman</th>\n",
       "      <td>18</td>\n",
       "      <td>66</td>\n",
       "    </tr>\n",
       "    <tr>\n",
       "      <th>scientist</th>\n",
       "      <td>23</td>\n",
       "      <td>55</td>\n",
       "    </tr>\n",
       "    <tr>\n",
       "      <th>student</th>\n",
       "      <td>7</td>\n",
       "      <td>42</td>\n",
       "    </tr>\n",
       "    <tr>\n",
       "      <th>technician</th>\n",
       "      <td>21</td>\n",
       "      <td>55</td>\n",
       "    </tr>\n",
       "    <tr>\n",
       "      <th>writer</th>\n",
       "      <td>18</td>\n",
       "      <td>60</td>\n",
       "    </tr>\n",
       "  </tbody>\n",
       "</table>\n",
       "</div>"
      ],
      "text/plain": [
       "               min  max\n",
       "occupation             \n",
       "administrator   21   70\n",
       "artist          19   48\n",
       "doctor          28   64\n",
       "educator        23   63\n",
       "engineer        22   70\n",
       "entertainment   15   50\n",
       "executive       22   69\n",
       "healthcare      22   62\n",
       "homemaker       20   50\n",
       "lawyer          21   53\n",
       "librarian       23   69\n",
       "marketing       24   55\n",
       "none            11   55\n",
       "other           13   64\n",
       "programmer      20   63\n",
       "retired         51   73\n",
       "salesman        18   66\n",
       "scientist       23   55\n",
       "student          7   42\n",
       "technician      21   55\n",
       "writer          18   60"
      ]
     },
     "execution_count": 25,
     "metadata": {},
     "output_type": "execute_result"
    }
   ],
   "source": [
    "users.groupby('occupation').age.agg(['min','max'])"
   ]
  },
  {
   "cell_type": "markdown",
   "metadata": {},
   "source": [
    "For each combination of occupation and gender, calculate the mean age."
   ]
  },
  {
   "cell_type": "code",
   "execution_count": 49,
   "metadata": {},
   "outputs": [
    {
     "data": {
      "text/plain": [
       "occupation     gender\n",
       "administrator  F         40.638889\n",
       "               M         37.162791\n",
       "artist         F         30.307692\n",
       "               M         32.333333\n",
       "doctor         M         43.571429\n",
       "educator       F         39.115385\n",
       "               M         43.101449\n",
       "engineer       F         29.500000\n",
       "               M         36.600000\n",
       "entertainment  F         31.000000\n",
       "               M         29.000000\n",
       "executive      F         44.000000\n",
       "               M         38.172414\n",
       "healthcare     F         39.818182\n",
       "               M         45.400000\n",
       "homemaker      F         34.166667\n",
       "               M         23.000000\n",
       "lawyer         F         39.500000\n",
       "               M         36.200000\n",
       "librarian      F         40.000000\n",
       "               M         40.000000\n",
       "marketing      F         37.200000\n",
       "               M         37.875000\n",
       "none           F         36.500000\n",
       "               M         18.600000\n",
       "other          F         35.472222\n",
       "               M         34.028986\n",
       "programmer     F         32.166667\n",
       "               M         33.216667\n",
       "retired        F         70.000000\n",
       "               M         62.538462\n",
       "salesman       F         27.000000\n",
       "               M         38.555556\n",
       "scientist      F         28.333333\n",
       "               M         36.321429\n",
       "student        F         20.750000\n",
       "               M         22.669118\n",
       "technician     F         38.000000\n",
       "               M         32.961538\n",
       "writer         F         37.631579\n",
       "               M         35.346154\n",
       "Name: age, dtype: float64"
      ]
     },
     "execution_count": 49,
     "metadata": {},
     "output_type": "execute_result"
    }
   ],
   "source": [
    "users.groupby(['occupation', 'gender']).age.mean()"
   ]
  },
  {
   "cell_type": "markdown",
   "metadata": {},
   "source": [
    "Calculate the number of male and female users by occupation. Assign the result to a Series named `gender_occupation`.\n",
    "\n",
    "- Hint: group by `occupation` and `gender`, and apply the method `count` to the `gender` column"
   ]
  },
  {
   "cell_type": "code",
   "execution_count": 47,
   "metadata": {},
   "outputs": [
    {
     "data": {
      "text/plain": [
       "occupation     gender\n",
       "administrator  F         36\n",
       "               M         43\n",
       "artist         F         13\n",
       "               M         15\n",
       "doctor         M          7\n",
       "Name: gender, dtype: int64"
      ]
     },
     "execution_count": 47,
     "metadata": {},
     "output_type": "execute_result"
    }
   ],
   "source": [
    "gender_occupation = users.groupby(['occupation', 'gender']).gender.count()\n",
    "gender_occupation.head()"
   ]
  },
  {
   "cell_type": "markdown",
   "metadata": {},
   "source": [
    "Calculate the number of users by occupation. Assign the result to a Series named `total_occupation`.\n",
    "\n",
    "- Hint: group by `occupation`, and apply the method `count` to the `gender` column."
   ]
  },
  {
   "cell_type": "code",
   "execution_count": 46,
   "metadata": {},
   "outputs": [
    {
     "data": {
      "text/plain": [
       "occupation\n",
       "administrator    79\n",
       "artist           28\n",
       "doctor            7\n",
       "educator         95\n",
       "engineer         67\n",
       "Name: gender, dtype: int64"
      ]
     },
     "execution_count": 46,
     "metadata": {},
     "output_type": "execute_result"
    }
   ],
   "source": [
    "total_occupation = users.groupby('occupation').gender.count()\n",
    "total_occupation.head()"
   ]
  },
  {
   "cell_type": "markdown",
   "metadata": {},
   "source": [
    "Divide the Series `gender_occupation` by the Series `total_occupation` and multiply the result by 100. This will give you the percentage of male and female users by occupation."
   ]
  },
  {
   "cell_type": "code",
   "execution_count": 51,
   "metadata": {},
   "outputs": [
    {
     "data": {
      "text/plain": [
       "occupation     gender\n",
       "administrator  F          45.569620\n",
       "               M          54.430380\n",
       "artist         F          46.428571\n",
       "               M          53.571429\n",
       "doctor         M         100.000000\n",
       "educator       F          27.368421\n",
       "               M          72.631579\n",
       "engineer       F           2.985075\n",
       "               M          97.014925\n",
       "entertainment  F          11.111111\n",
       "               M          88.888889\n",
       "executive      F           9.375000\n",
       "               M          90.625000\n",
       "healthcare     F          68.750000\n",
       "               M          31.250000\n",
       "homemaker      F          85.714286\n",
       "               M          14.285714\n",
       "lawyer         F          16.666667\n",
       "               M          83.333333\n",
       "librarian      F          56.862745\n",
       "               M          43.137255\n",
       "marketing      F          38.461538\n",
       "               M          61.538462\n",
       "none           F          44.444444\n",
       "               M          55.555556\n",
       "other          F          34.285714\n",
       "               M          65.714286\n",
       "programmer     F           9.090909\n",
       "               M          90.909091\n",
       "retired        F           7.142857\n",
       "               M          92.857143\n",
       "salesman       F          25.000000\n",
       "               M          75.000000\n",
       "scientist      F           9.677419\n",
       "               M          90.322581\n",
       "student        F          30.612245\n",
       "               M          69.387755\n",
       "technician     F           3.703704\n",
       "               M          96.296296\n",
       "writer         F          42.222222\n",
       "               M          57.777778\n",
       "Name: gender, dtype: float64"
      ]
     },
     "execution_count": 51,
     "metadata": {},
     "output_type": "execute_result"
    }
   ],
   "source": [
    "(gender_occupation / total_occupation) * 100"
   ]
  },
  {
   "cell_type": "code",
   "execution_count": null,
   "metadata": {},
   "outputs": [],
   "source": []
  }
 ],
 "metadata": {
  "kernelspec": {
   "display_name": "Python 3 (ipykernel)",
   "language": "python",
   "name": "python3"
  },
  "language_info": {
   "codemirror_mode": {
    "name": "ipython",
    "version": 3
   },
   "file_extension": ".py",
   "mimetype": "text/x-python",
   "name": "python",
   "nbconvert_exporter": "python",
   "pygments_lexer": "ipython3",
   "version": "3.9.12"
  }
 },
 "nbformat": 4,
 "nbformat_minor": 4
}
